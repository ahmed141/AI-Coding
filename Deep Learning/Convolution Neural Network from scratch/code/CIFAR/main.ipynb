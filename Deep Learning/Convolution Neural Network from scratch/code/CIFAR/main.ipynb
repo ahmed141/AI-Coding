{
 "cells": [
  {
   "cell_type": "code",
   "execution_count": 1,
   "metadata": {},
   "outputs": [
    {
     "name": "stderr",
     "output_type": "stream",
     "text": [
      "c:\\program files\\python35\\lib\\site-packages\\h5py\\__init__.py:36: FutureWarning: Conversion of the second argument of issubdtype from `float` to `np.floating` is deprecated. In future, it will be treated as `np.float64 == np.dtype(float).type`.\n",
      "  from ._conv import register_converters as _register_converters\n",
      "Using TensorFlow backend.\n"
     ]
    }
   ],
   "source": [
    "import numpy as np\n",
    "import random\n",
    "import matplotlib.pyplot as plt\n",
    "import imageio\n",
    "import glob\n",
    "import os\n",
    "import scipy.io\n",
    "from scipy import signal\n",
    "from scipy import ndimage\n",
    "import math\n",
    "\n",
    "from keras.utils import to_categorical #for one hot encoding\n",
    "\n",
    "#To make it compatible with jupyter notebook\n",
    "%matplotlib inline\n",
    "# Fixing random state for reproducibility\n",
    "np.random.seed(1)"
   ]
  },
  {
   "cell_type": "markdown",
   "metadata": {},
   "source": [
    "## Dataset Preparation:"
   ]
  },
  {
   "cell_type": "code",
   "execution_count": 11,
   "metadata": {},
   "outputs": [
    {
     "name": "stdout",
     "output_type": "stream",
     "text": [
      "Downloading data from https://www.cs.toronto.edu/~kriz/cifar-10-python.tar.gz\n",
      "170500096/170498071 [==============================] - 462s 3us/step\n"
     ]
    }
   ],
   "source": [
    "from keras.datasets import cifar10\n",
    "(train_features, train_labels), (test_features, test_labels) = cifar10.load_data()\n"
   ]
  },
  {
   "cell_type": "code",
   "execution_count": 13,
   "metadata": {},
   "outputs": [],
   "source": [
    "train_set_X = train_features\n",
    "train_set_Y = train_labels\n",
    "\n",
    "test_set_X = test_features\n",
    "test_set_Y = test_labels"
   ]
  },
  {
   "cell_type": "code",
   "execution_count": 15,
   "metadata": {},
   "outputs": [
    {
     "name": "stdout",
     "output_type": "stream",
     "text": [
      "Train X shape: \t(50000, 32, 32, 3)\n",
      "Train Y shape: \t(50000, 1)\n",
      "Test X shape: \t(10000, 32, 32, 3)\n",
      "Test Y shape: \t(10000, 1)\n"
     ]
    }
   ],
   "source": [
    "def print_shapes_of_dataset():\n",
    "    print(\"Train X shape: \\t\" + str(train_set_X.shape))  #can make (60000, 28, 28, 1) but i think there is no need\n",
    "    print(\"Train Y shape: \\t\" + str(train_set_Y.shape))\n",
    "    print(\"Test X shape: \\t\" + str(test_set_X.shape))\n",
    "    print(\"Test Y shape: \\t\" + str(test_set_Y.shape))\n",
    "print_shapes_of_dataset()"
   ]
  },
  {
   "cell_type": "code",
   "execution_count": 16,
   "metadata": {},
   "outputs": [],
   "source": [
    "train_set_Y = train_set_Y.T\n",
    "test_set_Y = test_set_Y.T"
   ]
  },
  {
   "cell_type": "code",
   "execution_count": 17,
   "metadata": {},
   "outputs": [
    {
     "name": "stdout",
     "output_type": "stream",
     "text": [
      "Train X shape: \t(50000, 32, 32, 3)\n",
      "Train Y shape: \t(1, 50000)\n",
      "Test X shape: \t(10000, 32, 32, 3)\n",
      "Test Y shape: \t(1, 10000)\n"
     ]
    }
   ],
   "source": [
    "print_shapes_of_dataset()"
   ]
  },
  {
   "cell_type": "code",
   "execution_count": 18,
   "metadata": {},
   "outputs": [
    {
     "name": "stdout",
     "output_type": "stream",
     "text": [
      "(10, 50000)\n",
      "(10, 10000)\n"
     ]
    }
   ],
   "source": [
    "# one hot encode\n",
    "encoded_train_Y = to_categorical(train_set_Y)\n",
    "encoded_train_Y = encoded_train_Y.reshape(encoded_train_Y.shape[1], encoded_train_Y.shape[2])\n",
    "encoded_train_Y = encoded_train_Y.T\n",
    "print(encoded_train_Y.shape)\n",
    "\n",
    "# one hot encode\n",
    "encoded_test_Y = to_categorical(test_set_Y)\n",
    "encoded_test_Y = encoded_test_Y.reshape(encoded_test_Y.shape[1], encoded_test_Y.shape[2])\n",
    "encoded_test_Y = encoded_test_Y.T\n",
    "print(encoded_test_Y.shape)"
   ]
  },
  {
   "cell_type": "code",
   "execution_count": 19,
   "metadata": {},
   "outputs": [
    {
     "name": "stdout",
     "output_type": "stream",
     "text": [
      "Label: \t6\n"
     ]
    },
    {
     "data": {
      "image/png": "[encoded data removed]",
      "text/plain": [
       "<Figure size 432x288 with 1 Axes>"
      ]
     },
     "metadata": {},
     "output_type": "display_data"
    }
   ],
   "source": [
    "def visualize_img_from_trainset (index = 30800):\n",
    "    print(\"Label: \\t\" + str(train_set_Y[0, index]))\n",
    "    plt.imshow(train_set_X[index])\n",
    "visualize_img_from_trainset (index = 0)"
   ]
  },
  {
   "cell_type": "code",
   "execution_count": 47,
   "metadata": {},
   "outputs": [
    {
     "name": "stderr",
     "output_type": "stream",
     "text": [
      "Clipping input data to the valid range for imshow with RGB data ([0..1] for floats or [0..255] for integers).\n"
     ]
    },
    {
     "name": "stdout",
     "output_type": "stream",
     "text": [
      "(5, 5, 3)\n",
      "(32, 32, 3)\n",
      "(28, 28, 3)\n"
     ]
    },
    {
     "data": {
      "text/plain": [
       "<matplotlib.image.AxesImage at 0x2495712b898>"
      ]
     },
     "execution_count": 47,
     "metadata": {},
     "output_type": "execute_result"
    },
    {
     "data": {
      "image/png": "[encoded data removed]",
      "text/plain": [
       "<Figure size 432x288 with 1 Axes>"
      ]
     },
     "metadata": {},
     "output_type": "display_data"
    }
   ],
   "source": [
    "filter_01 = np.random.randn(5,5, 3)*10\n",
    "\n",
    "print(filter_01.shape)\n",
    "print(train_set_X[0].shape)\n",
    "\n",
    "conv = np.zeros((28,28,3))\n",
    "\n",
    "conv[:,:,0] = signal.convolve(train_set_X[30800][:,:,0], filter_01[:, :, 0], mode = 'valid')\n",
    "conv[:,:,1] = signal.convolve(train_set_X[30800][:,:,1], filter_01[:, :, 1], mode = 'valid')\n",
    "conv[:,:,2] = signal.convolve(train_set_X[30800][:,:,2], filter_01[:, :, 2], mode = 'valid')\n",
    "\n",
    "print(conv.shape)\n",
    "plt.imshow(conv)"
   ]
  },
  {
   "cell_type": "markdown",
   "metadata": {},
   "source": [
    "## Convolution Functions:"
   ]
  },
  {
   "cell_type": "code",
   "execution_count": 48,
   "metadata": {},
   "outputs": [],
   "source": [
    "def init_conv(kernel_dims):\n",
    "    '''\n",
    "    kernel_dims = [H, W, # of kernels] or [H, W, C, # of kernels] \n",
    "    '''\n",
    "    if(len(kernel_dims) == 3):\n",
    "        kernels = np.random.randn(kernel_dims[0], kernel_dims[1], kernel_dims[2]) * 0.01\n",
    "    else:\n",
    "        kernels = np.random.randn(kernel_dims[0], kernel_dims[1], kernel_dims[2], kernel_dims[3]) * 0.01\n",
    "    \n",
    "    return kernels "
   ]
  },
  {
   "cell_type": "code",
   "execution_count": 49,
   "metadata": {},
   "outputs": [],
   "source": [
    "def conv_forward(img, filters, stride = 1, pad = 0):\n",
    "    '''\n",
    "    img  = 2D\n",
    "    filters = 2D with 3rd dimesion representing # of filters\n",
    "    '''\n",
    "    conv_mat = None\n",
    "    img_rows = img.shape[0]\n",
    "    img_cols = img.shape[1]\n",
    "    flt_rows = filters.shape[0]\n",
    "    flt_cols = filters.shape[1]\n",
    "    n_h = int((img_rows - flt_rows + (2*pad))/stride) + 1\n",
    "    n_w = int((img_cols - flt_cols + (2*pad))/stride) + 1\n",
    "    \n",
    "    if(len(filters.shape) == 3):\n",
    "        n_c = filters.shape[2] \n",
    "        conv_mat = np.zeros((n_h, n_w, n_c))\n",
    "        for i in range(0, n_c):\n",
    "            conv_mat[:, :, i] = signal.convolve(img, filters[:, :, i], mode = 'valid')\n",
    "    else:\n",
    "        n_c = filters.shape[3] \n",
    "        conv_mat = np.zeros((n_h, n_w, n_c))\n",
    "        for i in range(0, n_c):\n",
    "            conv_mat[:, :, i] = signal.convolve(img, filters[:, :, :,i], mode = 'valid').reshape((n_h, n_w))\n",
    "        \n",
    "    return conv_mat"
   ]
  },
  {
   "cell_type": "markdown",
   "metadata": {},
   "source": [
    "## Pooling Functions"
   ]
  },
  {
   "cell_type": "code",
   "execution_count": 50,
   "metadata": {},
   "outputs": [],
   "source": [
    "def pool_forward(feature_map, mode = \"max\", filter_size = 2, stride = 2):\n",
    "    \n",
    "    n_c = feature_map.shape[2]\n",
    "    f_rows = feature_map.shape[0]\n",
    "    f_cols = feature_map.shape[1]\n",
    "    \n",
    "    n_h = int((f_rows - filter_size)/stride) + 1\n",
    "    n_w = int((f_rows - filter_size)/stride) + 1\n",
    "    \n",
    "    poolout = np.zeros((n_h, n_w, n_c))\n",
    "    \n",
    "    if (mode == \"max\"):\n",
    "        for c in range(0, n_c):\n",
    "            for i in range(0, n_h):\n",
    "                for j in range(0, n_w):\n",
    "                    pool_max = np.amax(feature_map[(i*stride):((i*stride)+filter_size), (j*stride):((j*stride)+filter_size),c])\n",
    "                    poolout[i, j, c] = pool_max\n",
    "    else:\n",
    "        print(\"Wrong Way bro\")\n",
    "    return poolout"
   ]
  },
  {
   "cell_type": "markdown",
   "metadata": {},
   "source": [
    "# FC Layers Functions"
   ]
  },
  {
   "cell_type": "code",
   "execution_count": 51,
   "metadata": {},
   "outputs": [],
   "source": [
    "# %run FC_Layer_functions.ipynb"
   ]
  },
  {
   "cell_type": "code",
   "execution_count": 52,
   "metadata": {},
   "outputs": [],
   "source": [
    "def init_network(no_of_layers, input_dim, neurons_per_layer):\n",
    "    '''\n",
    "    no_of_layers: count\n",
    "    input_dim: m\n",
    "    neurons_per_layer: list in order L1, L2, L3 ... Lout\n",
    "    \n",
    "    returns:\n",
    "    net:    dict instance\n",
    "    '''\n",
    "    net = {\n",
    "        \"no_of_layers\": no_of_layers,\n",
    "        \"W1\": np.random.randn(neurons_per_layer[0], input_dim)*0.01,\n",
    "        \"b1\": np.zeros((neurons_per_layer[0], 1))\n",
    "    }\n",
    "    \n",
    "    for i in range(1, no_of_layers):\n",
    "        net[\"W\"+str(i+1)] = np.random.randn(neurons_per_layer[i], neurons_per_layer[i-1])*0.01\n",
    "        net[\"b\"+str(i+1)] = np.zeros((neurons_per_layer[i], 1))\n",
    "\n",
    "    return net"
   ]
  },
  {
   "cell_type": "code",
   "execution_count": 53,
   "metadata": {},
   "outputs": [],
   "source": [
    "def sigmoid (x):\n",
    "    '''\n",
    "    Parameters:\n",
    "    x - input\n",
    "    \n",
    "    Returns:\n",
    "    answer - The sigmoid vaue of 'x'\n",
    "    '''\n",
    "    answer = 1/(1 + np.exp(-x))\n",
    "    return answer"
   ]
  },
  {
   "cell_type": "code",
   "execution_count": 54,
   "metadata": {},
   "outputs": [],
   "source": [
    "def ReLU(x):\n",
    "    \n",
    "    if(len(x.shape) == 3):\n",
    "        return np.maximum(np.zeros((x.shape[0], x.shape[1], x.shape[2])), x)\n",
    "    elif(len(x.shape) == 4):\n",
    "        return np.maximum(np.zeros((x.shape[0], x.shape[1], x.shape[2], x.shape[3])), x)"
   ]
  },
  {
   "cell_type": "code",
   "execution_count": 55,
   "metadata": {},
   "outputs": [],
   "source": [
    "def ReLU_derivative(x):\n",
    "    dx = np.zeros((x.shape))\n",
    "    \n",
    "    for i in range(0, dx.shape[0]):\n",
    "        for j in range(0, dx.shape[1]):\n",
    "            for k in range(0, dx.shape[2]):\n",
    "                if (x[i, j, k] > 0):\n",
    "                    dx[i, j, k] = 1\n",
    "    return dx"
   ]
  },
  {
   "cell_type": "code",
   "execution_count": 56,
   "metadata": {},
   "outputs": [],
   "source": [
    "def softmax(Z):\n",
    "    A = []\n",
    "    exp_Z = []\n",
    "    for i in range(0, Z.shape[0]):\n",
    "        exp_Z.append(np.exp(Z[i, :]))\n",
    "    \n",
    "    exp_Z = np.array(exp_Z)\n",
    "    sum_exp_Z = np.sum(exp_Z, axis = 0, keepdims = True)\n",
    "    \n",
    "    for i in range(0, Z.shape[0]):\n",
    "        ans = (exp_Z[i, :] / sum_exp_Z)\n",
    "        A.append(ans)\n",
    "    \n",
    "    A = np.array(A)\n",
    "    A = A.reshape((A.shape[0], A.shape[2]))\n",
    "    return A"
   ]
  },
  {
   "cell_type": "code",
   "execution_count": 57,
   "metadata": {},
   "outputs": [],
   "source": [
    "def  forwardPropagation (A_prev, W, b, activation):\n",
    "    '''\n",
    "    Parameters:\n",
    "    model = perceptron class instance, where it is the model initialized using initializeParameters\n",
    "    X =     [[all dim1 vals], [all dim2 vals]]    i.e.inputs stacked vertically\n",
    "\n",
    "    Returns:\n",
    "    modelOutput = The class instance with 'x', 'Z1', 'A1' and 'Z2', 'A2' in it\n",
    "    '''\n",
    "    \n",
    "    Z = np.dot(W, A_prev) + b\n",
    "    \n",
    "    if(activation == \"sigmoid\"):\n",
    "        A = sigmoid(Z)\n",
    "    elif(activation == \"softmax\"):\n",
    "        A = softmax(Z)\n",
    "    else:\n",
    "        print(\"wrong activation\")\n",
    "        \n",
    "    return A, Z"
   ]
  },
  {
   "cell_type": "code",
   "execution_count": 58,
   "metadata": {},
   "outputs": [],
   "source": [
    "def feedForward(net, X):\n",
    "    '''\n",
    "    net:   \n",
    "    X:     \n",
    "    \n",
    "    return:\n",
    "    net:       \n",
    "    '''\n",
    "    no_of_layers = net[\"no_of_layers\"]\n",
    "    net[\"X\"] = X\n",
    "    \n",
    "    A_prev = X\n",
    "    activation = \"sigmoid\"\n",
    "    \n",
    "    for i in range(1, no_of_layers):\n",
    "        W = net[\"W\"+str(i)]\n",
    "        b = net[\"b\"+str(i)]\n",
    "        net[\"AL\"+str(i)], net[\"ZL\"+str(i)] = forwardPropagation (A_prev, W, b, activation)\n",
    "        A_prev = net[\"AL\"+str(i)]\n",
    "    \n",
    "    W = net[\"W\"+str(no_of_layers)]\n",
    "    b = net[\"b\"+str(no_of_layers)]\n",
    "    net[\"AL\"+str(no_of_layers)], net[\"ZL\"+str(no_of_layers)] = forwardPropagation (A_prev, W, b, activation = \"softmax\")\n",
    "        \n",
    "    return net"
   ]
  },
  {
   "cell_type": "code",
   "execution_count": 59,
   "metadata": {},
   "outputs": [],
   "source": [
    "def CostCalculation(m, net_out, encoded_Y):\n",
    "    '''\n",
    "    net_out:  \n",
    "    Y: ground truth\n",
    "    \n",
    "    reutrn:\n",
    "    cost\n",
    "    '''\n",
    "    \n",
    "    cost = (1/(2*m)) * np.sum(np.power(abs(encoded_Y - net_out), 2), axis = 1, keepdims = True)\n",
    "    \n",
    "    return cost"
   ]
  },
  {
   "cell_type": "code",
   "execution_count": 60,
   "metadata": {},
   "outputs": [],
   "source": [
    "def BackProp(net, encoded_Y):\n",
    "    '''\n",
    "    parms:\n",
    "    net =  dict\n",
    "    encoded_Y =    one hot encoded GT \n",
    "    \n",
    "    returns:\n",
    "    gradients =   \n",
    "    '''\n",
    "    gradients = {}\n",
    "    no_of_layers = net[\"no_of_layers\"]\n",
    "    \n",
    "    m = encoded_Y.shape[1]\n",
    "    W = net[\"W\"+str(no_of_layers)]\n",
    "    b = net[\"b\"+str(no_of_layers)]\n",
    "    Z = net[\"ZL\"+str(no_of_layers)]\n",
    "    A = net[\"AL\"+str(no_of_layers)]\n",
    "    \n",
    "    dZ = (A - encoded_Y) * (A*(1-A))\n",
    "    \n",
    "    dW = (1/m)*(np.dot(dZ, net[\"AL\"+str(no_of_layers-1)].T))\n",
    "    db = (1/m)*(np.sum(dZ, axis = 1, keepdims = True))\n",
    "    gradients[\"dW\"+str(no_of_layers)] = dW\n",
    "    gradients[\"db\"+str(no_of_layers)] = db\n",
    "    \n",
    "    for i in range(1, no_of_layers-1):\n",
    "        dZ = np.dot(net[\"W\"+str(no_of_layers -i+1)].T, dZ) * (net[\"AL\"+str(no_of_layers -i)] - (net[\"AL\"+str(no_of_layers -i)]*net[\"AL\"+str(no_of_layers -i)]))\n",
    "        dW = (1/m)*(np.dot(dZ, net[\"AL\"+str(no_of_layers -i-1)].T))\n",
    "        db = (1/m)*(np.sum(dZ, axis = 1, keepdims = True))\n",
    "        gradients[\"dW\"+str(no_of_layers -i)] = dW\n",
    "        gradients[\"db\"+str(no_of_layers -i)] = db\n",
    "    \n",
    "    i = no_of_layers - 1    \n",
    "    dZ = np.dot(net[\"W\"+str(no_of_layers -i+1)].T, dZ) * (net[\"AL\"+str(no_of_layers -i)] - (net[\"AL\"+str(no_of_layers -i)]*net[\"AL\"+str(no_of_layers -i)]))\n",
    "    dW = (1/m)*(np.dot(dZ, net[\"X\"].T))\n",
    "    db = (1/m)*(np.sum(dZ, axis = 1, keepdims = True))\n",
    "    gradients[\"dW\"+str(no_of_layers -i)] = dW\n",
    "    gradients[\"db\"+str(no_of_layers -i)] = db\n",
    "    \n",
    "    \n",
    "    return gradients"
   ]
  },
  {
   "cell_type": "code",
   "execution_count": 61,
   "metadata": {},
   "outputs": [],
   "source": [
    "def  weightUpdate (net, gradients, lr_rate):\n",
    "    '''\n",
    "    \n",
    "    '''\n",
    "    \n",
    "    no_of_layers = net[\"no_of_layers\"]\n",
    "    \n",
    "    for i in range(1, no_of_layers+1):\n",
    "        net[\"W\"+str(i)] = net[\"W\"+str(i)] - (lr_rate * gradients[\"dW\"+str(i)])\n",
    "        net[\"b\"+str(i)] = net[\"b\"+str(i)] - (lr_rate * gradients[\"db\"+str(i)])\n",
    "        \n",
    "\n",
    "    return net"
   ]
  },
  {
   "cell_type": "code",
   "execution_count": 62,
   "metadata": {},
   "outputs": [],
   "source": [
    "def train_Model(net, train_X, encoded_train_Y, test_X, encoded_test_Y, numberofEpochs = 100, lr_rate = 0.1):\n",
    "    '''\n",
    "    \n",
    "    '''\n",
    "    \n",
    "    #after flatten\n",
    "    no_of_layers = net[\"no_of_layers\"]\n",
    "    All_Train_Loss = []\n",
    "    All_Test_Loss = []\n",
    "    \n",
    "    m = train_X.shape[1]\n",
    "    \n",
    "    \n",
    "    for i in range(1, numberofEpochs+1):\n",
    "        trn_net = feedForward(net, train_X)\n",
    "        trn_loss = CostCalculation(train_X.shape[1], trn_net[\"AL\"+str(no_of_layers)], encoded_train_Y)\n",
    "        All_Train_Loss.append((1/10)*np.sum(trn_loss, axis = 0, keepdims = True))\n",
    "        \n",
    "        trn_grads = BackProp(trn_net, encoded_train_Y)\n",
    "        net = weightUpdate(trn_net, trn_grads, lr_rate)    \n",
    "        \n",
    "        tst_net = feedForward(net, test_X)\n",
    "        tst_loss = CostCalculation(test_X.shape[1], tst_net[\"AL\"+str(no_of_layers)], encoded_test_Y)\n",
    "        All_Test_Loss.append((1/10)*np.sum(tst_loss, axis = 0, keepdims = True))\n",
    "        \n",
    "        if((i%50 == 0) or (i in range(1, 10+1))):\n",
    "            print(\"epoch #\"+ str(i) + \": \\tTrain Loss = \"+ str(All_Train_Loss[-1]) + \"\\t\\t Validation Loss = \" + str(All_Test_Loss[-1]))\n",
    "    \n",
    "    out = {\n",
    "        \"net\": net,\n",
    "        \"All_Train_Loss\": All_Train_Loss,\n",
    "        \"All_Test_Loss\": All_Test_Loss\n",
    "    }\n",
    "    return out"
   ]
  },
  {
   "cell_type": "markdown",
   "metadata": {},
   "source": [
    "# Using above Functions for demo"
   ]
  },
  {
   "cell_type": "markdown",
   "metadata": {},
   "source": [
    "## Conv layer "
   ]
  },
  {
   "cell_type": "code",
   "execution_count": 66,
   "metadata": {},
   "outputs": [
    {
     "name": "stdout",
     "output_type": "stream",
     "text": [
      "(28, 28, 4)\n"
     ]
    }
   ],
   "source": [
    "filters = init_conv([5,5, 3, 4])\n",
    "result = conv_forward(train_set_X[30800], filters)\n",
    "print(result.shape)"
   ]
  },
  {
   "cell_type": "code",
   "execution_count": 67,
   "metadata": {},
   "outputs": [
    {
     "data": {
      "text/plain": [
       "<matplotlib.image.AxesImage at 0x24956e4fbe0>"
      ]
     },
     "execution_count": 67,
     "metadata": {},
     "output_type": "execute_result"
    },
    {
     "data": {
      "image/png": "[encoded data removed]",
      "text/plain": [
       "<Figure size 432x288 with 1 Axes>"
      ]
     },
     "metadata": {},
     "output_type": "display_data"
    }
   ],
   "source": [
    "plt.imshow(result[:,:, 0])"
   ]
  },
  {
   "cell_type": "code",
   "execution_count": 68,
   "metadata": {},
   "outputs": [
    {
     "data": {
      "text/plain": [
       "<matplotlib.image.AxesImage at 0x24956d07588>"
      ]
     },
     "execution_count": 68,
     "metadata": {},
     "output_type": "execute_result"
    },
    {
     "data": {
      "image/png": "[encoded data removed]",
      "text/plain": [
       "<Figure size 432x288 with 1 Axes>"
      ]
     },
     "metadata": {},
     "output_type": "display_data"
    }
   ],
   "source": [
    "plt.imshow(result[:,:, 1])"
   ]
  },
  {
   "cell_type": "code",
   "execution_count": 69,
   "metadata": {},
   "outputs": [
    {
     "data": {
      "text/plain": [
       "<matplotlib.image.AxesImage at 0x249571928d0>"
      ]
     },
     "execution_count": 69,
     "metadata": {},
     "output_type": "execute_result"
    },
    {
     "data": {
      "image/png": "[encoded data removed]",
      "text/plain": [
       "<Figure size 432x288 with 1 Axes>"
      ]
     },
     "metadata": {},
     "output_type": "display_data"
    }
   ],
   "source": [
    "plt.imshow(result[:,:, 2])"
   ]
  },
  {
   "cell_type": "markdown",
   "metadata": {},
   "source": [
    "## Pool layer"
   ]
  },
  {
   "cell_type": "code",
   "execution_count": 70,
   "metadata": {},
   "outputs": [],
   "source": [
    "result = pool_forward(result)"
   ]
  },
  {
   "cell_type": "code",
   "execution_count": 71,
   "metadata": {},
   "outputs": [
    {
     "data": {
      "text/plain": [
       "<matplotlib.image.AxesImage at 0x249581996d8>"
      ]
     },
     "execution_count": 71,
     "metadata": {},
     "output_type": "execute_result"
    },
    {
     "data": {
      "image/png": "[encoded data removed]",
      "text/plain": [
       "<Figure size 432x288 with 1 Axes>"
      ]
     },
     "metadata": {},
     "output_type": "display_data"
    }
   ],
   "source": [
    "plt.imshow(result[:,:, 0])"
   ]
  },
  {
   "cell_type": "code",
   "execution_count": 72,
   "metadata": {},
   "outputs": [
    {
     "data": {
      "text/plain": [
       "<matplotlib.image.AxesImage at 0x249581d0eb8>"
      ]
     },
     "execution_count": 72,
     "metadata": {},
     "output_type": "execute_result"
    },
    {
     "data": {
      "image/png": "[encoded data removed]",
      "text/plain": [
       "<Figure size 432x288 with 1 Axes>"
      ]
     },
     "metadata": {},
     "output_type": "display_data"
    }
   ],
   "source": [
    "plt.imshow(result[:,:, 1])"
   ]
  },
  {
   "cell_type": "code",
   "execution_count": 73,
   "metadata": {},
   "outputs": [
    {
     "data": {
      "text/plain": [
       "<matplotlib.image.AxesImage at 0x2495820c400>"
      ]
     },
     "execution_count": 73,
     "metadata": {},
     "output_type": "execute_result"
    },
    {
     "data": {
      "image/png": "[encoded data removed]",
      "text/plain": [
       "<Figure size 432x288 with 1 Axes>"
      ]
     },
     "metadata": {},
     "output_type": "display_data"
    }
   ],
   "source": [
    "plt.imshow(result[:,:, 2])"
   ]
  },
  {
   "cell_type": "markdown",
   "metadata": {},
   "source": [
    "## Forward Prop for 1 example"
   ]
  },
  {
   "cell_type": "code",
   "execution_count": 90,
   "metadata": {},
   "outputs": [],
   "source": [
    "NET = init_network(2, 144, [50, 10])\n",
    "NET[\"K_l1\"] = init_conv([5, 5, 3, 3])\n",
    "NET[\"K_l2\"] = init_conv([3, 3, 3, 4])"
   ]
  },
  {
   "cell_type": "code",
   "execution_count": 91,
   "metadata": {},
   "outputs": [
    {
     "name": "stdout",
     "output_type": "stream",
     "text": [
      "(5, 5, 3, 3)\n",
      "(3, 3, 3, 4)\n"
     ]
    }
   ],
   "source": [
    "print(NET[\"K_l1\"].shape)\n",
    "print(NET[\"K_l2\"].shape)"
   ]
  },
  {
   "cell_type": "code",
   "execution_count": 92,
   "metadata": {},
   "outputs": [
    {
     "name": "stdout",
     "output_type": "stream",
     "text": [
      "(28, 28, 3)\n"
     ]
    }
   ],
   "source": [
    "NET[\"C_l1\"] = conv_forward(train_set_X[0], NET[\"K_l1\"])\n",
    "print(NET[\"C_l1\"].shape)"
   ]
  },
  {
   "cell_type": "code",
   "execution_count": 93,
   "metadata": {},
   "outputs": [
    {
     "data": {
      "text/plain": [
       "<matplotlib.image.AxesImage at 0x249583987f0>"
      ]
     },
     "execution_count": 93,
     "metadata": {},
     "output_type": "execute_result"
    },
    {
     "data": {
      "image/png": "[encoded data removed]",
      "text/plain": [
       "<Figure size 432x288 with 1 Axes>"
      ]
     },
     "metadata": {},
     "output_type": "display_data"
    }
   ],
   "source": [
    "plt.imshow(NET[\"C_l1\"][:,:,0])"
   ]
  },
  {
   "cell_type": "code",
   "execution_count": 94,
   "metadata": {},
   "outputs": [],
   "source": [
    "NET[\"CA_l1\"] = ReLU(NET[\"C_l1\"])"
   ]
  },
  {
   "cell_type": "code",
   "execution_count": 95,
   "metadata": {},
   "outputs": [
    {
     "data": {
      "text/plain": [
       "<matplotlib.image.AxesImage at 0x249583cea90>"
      ]
     },
     "execution_count": 95,
     "metadata": {},
     "output_type": "execute_result"
    },
    {
     "data": {
      "image/png": "[encoded data removed]",
      "text/plain": [
       "<Figure size 432x288 with 1 Axes>"
      ]
     },
     "metadata": {},
     "output_type": "display_data"
    }
   ],
   "source": [
    "plt.imshow(NET[\"CA_l1\"][:,:,0])"
   ]
  },
  {
   "cell_type": "code",
   "execution_count": 96,
   "metadata": {},
   "outputs": [
    {
     "name": "stdout",
     "output_type": "stream",
     "text": [
      "(14, 14, 3)\n"
     ]
    }
   ],
   "source": [
    "NET[\"P_l1\"] = pool_forward(NET[\"CA_l1\"])\n",
    "print(NET[\"P_l1\"].shape)"
   ]
  },
  {
   "cell_type": "code",
   "execution_count": 97,
   "metadata": {},
   "outputs": [
    {
     "data": {
      "text/plain": [
       "<matplotlib.image.AxesImage at 0x24958404e48>"
      ]
     },
     "execution_count": 97,
     "metadata": {},
     "output_type": "execute_result"
    },
    {
     "data": {
      "image/png": "[encoded data removed]",
      "text/plain": [
       "<Figure size 432x288 with 1 Axes>"
      ]
     },
     "metadata": {},
     "output_type": "display_data"
    }
   ],
   "source": [
    "plt.imshow(NET[\"P_l1\"][:,:,0])"
   ]
  },
  {
   "cell_type": "code",
   "execution_count": 98,
   "metadata": {},
   "outputs": [
    {
     "data": {
      "text/plain": [
       "(12, 12, 4)"
      ]
     },
     "execution_count": 98,
     "metadata": {},
     "output_type": "execute_result"
    }
   ],
   "source": [
    "NET[\"C_l2\"] = conv_forward(NET[\"P_l1\"], NET[\"K_l2\"])\n",
    "NET[\"C_l2\"].shape"
   ]
  },
  {
   "cell_type": "code",
   "execution_count": 99,
   "metadata": {},
   "outputs": [
    {
     "data": {
      "text/plain": [
       "<matplotlib.image.AxesImage at 0x24958440710>"
      ]
     },
     "execution_count": 99,
     "metadata": {},
     "output_type": "execute_result"
    },
    {
     "data": {
      "image/png": "[encoded data removed]",
      "text/plain": [
       "<Figure size 432x288 with 1 Axes>"
      ]
     },
     "metadata": {},
     "output_type": "display_data"
    }
   ],
   "source": [
    "plt.imshow(NET[\"C_l2\"][:,:,0])"
   ]
  },
  {
   "cell_type": "code",
   "execution_count": 100,
   "metadata": {},
   "outputs": [],
   "source": [
    "NET[\"CA_l2\"] = ReLU(NET[\"C_l2\"])"
   ]
  },
  {
   "cell_type": "code",
   "execution_count": 101,
   "metadata": {},
   "outputs": [
    {
     "data": {
      "text/plain": [
       "<matplotlib.image.AxesImage at 0x249584770f0>"
      ]
     },
     "execution_count": 101,
     "metadata": {},
     "output_type": "execute_result"
    },
    {
     "data": {
      "image/png": "[encoded data removed]",
      "text/plain": [
       "<Figure size 432x288 with 1 Axes>"
      ]
     },
     "metadata": {},
     "output_type": "display_data"
    }
   ],
   "source": [
    "plt.imshow(NET[\"CA_l2\"][:,:,0])"
   ]
  },
  {
   "cell_type": "code",
   "execution_count": 102,
   "metadata": {},
   "outputs": [
    {
     "name": "stdout",
     "output_type": "stream",
     "text": [
      "(6, 6, 4)\n"
     ]
    }
   ],
   "source": [
    "NET[\"P_l2\"] = pool_forward(NET[\"CA_l2\"])\n",
    "print(NET[\"P_l2\"].shape)"
   ]
  },
  {
   "cell_type": "code",
   "execution_count": 103,
   "metadata": {},
   "outputs": [
    {
     "data": {
      "text/plain": [
       "<matplotlib.image.AxesImage at 0x249584ad128>"
      ]
     },
     "execution_count": 103,
     "metadata": {},
     "output_type": "execute_result"
    },
    {
     "data": {
      "image/png": "[encoded data removed]",
      "text/plain": [
       "<Figure size 432x288 with 1 Axes>"
      ]
     },
     "metadata": {},
     "output_type": "display_data"
    }
   ],
   "source": [
    "plt.imshow(NET[\"P_l2\"][:,:,0])"
   ]
  },
  {
   "cell_type": "code",
   "execution_count": 104,
   "metadata": {},
   "outputs": [
    {
     "name": "stdout",
     "output_type": "stream",
     "text": [
      "(144, 1)\n"
     ]
    }
   ],
   "source": [
    "NET[\"F_l3\"] = NET[\"P_l2\"].reshape(NET[\"P_l2\"].shape[0]*NET[\"P_l2\"].shape[1]*NET[\"P_l2\"].shape[2], 1)\n",
    "print(NET[\"F_l3\"].shape)"
   ]
  },
  {
   "cell_type": "code",
   "execution_count": 105,
   "metadata": {},
   "outputs": [],
   "source": [
    "NET = feedForward(NET, NET[\"F_l3\"])"
   ]
  },
  {
   "cell_type": "code",
   "execution_count": 106,
   "metadata": {},
   "outputs": [
    {
     "name": "stdout",
     "output_type": "stream",
     "text": [
      "0.4479155165742719\n"
     ]
    }
   ],
   "source": [
    "cost = CostCalculation(1, NET[\"AL\"+str(2)], np.array(encoded_train_Y[:, 0]).reshape(10,1))\n",
    "print(np.sum(cost))"
   ]
  },
  {
   "cell_type": "code",
   "execution_count": 107,
   "metadata": {},
   "outputs": [
    {
     "name": "stdout",
     "output_type": "stream",
     "text": [
      "(10, 50)\n",
      "(10, 1)\n",
      "(10, 1)\n"
     ]
    }
   ],
   "source": [
    "print(NET[\"W\"+str(2)].shape)\n",
    "print(NET[\"b\"+str(2)].shape)\n",
    "print(NET[\"AL\"+str(2)].shape)\n"
   ]
  },
  {
   "cell_type": "markdown",
   "metadata": {},
   "source": [
    "## Back Prop for 1 example"
   ]
  },
  {
   "cell_type": "code",
   "execution_count": 108,
   "metadata": {},
   "outputs": [],
   "source": [
    "encoded_Y = np.array(encoded_train_Y[:, 0]).reshape(10,1)\n",
    "gradients = {}\n",
    "no_of_layers = NET[\"no_of_layers\"]\n",
    "\n",
    "m = encoded_Y.shape[1]\n",
    "W = NET[\"W\"+str(no_of_layers)]\n",
    "b = NET[\"b\"+str(no_of_layers)]\n",
    "Z = NET[\"ZL\"+str(no_of_layers)]\n",
    "A = NET[\"AL\"+str(no_of_layers)]\n",
    "    \n",
    "dZ = (A - encoded_Y) * (A*(1-A))\n",
    "    \n",
    "dW = (1/m)*(np.dot(dZ, NET[\"AL\"+str(no_of_layers-1)].T))\n",
    "db = (1/m)*(np.sum(dZ, axis = 1, keepdims = True))\n",
    "gradients[\"dW\"+str(no_of_layers)] = dW\n",
    "gradients[\"db\"+str(no_of_layers)] = db\n",
    "    \n",
    "for i in range(1, no_of_layers-1):\n",
    "    dZ = np.dot(NET[\"W\"+str(no_of_layers -i+1)].T, dZ) * (NET[\"AL\"+str(no_of_layers -i)] - (NET[\"AL\"+str(no_of_layers -i)]*NET[\"AL\"+str(no_of_layers -i)]))\n",
    "    dW = (1/m)*(np.dot(dZ, NET[\"AL\"+str(no_of_layers -i-1)].T))\n",
    "    db = (1/m)*(np.sum(dZ, axis = 1, keepdims = True))\n",
    "    gradients[\"dW\"+str(no_of_layers -i)] = dW\n",
    "    gradients[\"db\"+str(no_of_layers -i)] = db\n",
    "    \n",
    "i = no_of_layers - 1    \n",
    "dZ = np.dot(NET[\"W\"+str(no_of_layers -i+1)].T, dZ) * (NET[\"AL\"+str(no_of_layers -i)] - (NET[\"AL\"+str(no_of_layers -i)]*NET[\"AL\"+str(no_of_layers -i)]))\n",
    "dW = (1/m)*(np.dot(dZ, NET[\"X\"].T))\n",
    "db = (1/m)*(np.sum(dZ, axis = 1, keepdims = True))\n",
    "gradients[\"dW\"+str(no_of_layers -i)] = dW\n",
    "gradients[\"db\"+str(no_of_layers -i)] = db"
   ]
  },
  {
   "cell_type": "code",
   "execution_count": 109,
   "metadata": {},
   "outputs": [
    {
     "data": {
      "text/plain": [
       "{'dW1': array([[ 1.62697963e-05,  0.00000000e+00,  0.00000000e+00, ...,\n",
       "          0.00000000e+00,  1.37200472e-06,  0.00000000e+00],\n",
       "        [-8.35895535e-05,  0.00000000e+00,  0.00000000e+00, ...,\n",
       "          0.00000000e+00, -7.04896730e-06,  0.00000000e+00],\n",
       "        [ 6.75093725e-05,  0.00000000e+00,  0.00000000e+00, ...,\n",
       "          0.00000000e+00,  5.69295252e-06,  0.00000000e+00],\n",
       "        ...,\n",
       "        [-1.26999733e-04,  0.00000000e+00,  0.00000000e+00, ...,\n",
       "          0.00000000e+00, -1.07096751e-05,  0.00000000e+00],\n",
       "        [-2.74822050e-05,  0.00000000e+00,  0.00000000e+00, ...,\n",
       "          0.00000000e+00, -2.31752840e-06,  0.00000000e+00],\n",
       "        [-1.61561895e-05,  0.00000000e+00,  0.00000000e+00, ...,\n",
       "          0.00000000e+00, -1.36242445e-06,  0.00000000e+00]]),\n",
       " 'dW2': array([[ 0.00452169,  0.00443958,  0.00454623,  0.0045402 ,  0.00450903,\n",
       "          0.00469292,  0.00439183,  0.00457958,  0.00453922,  0.00458823,\n",
       "          0.00465352,  0.00468001,  0.00441651,  0.00446862,  0.00470778,\n",
       "          0.00463115,  0.00462858,  0.00471261,  0.00455533,  0.0046447 ,\n",
       "          0.00460911,  0.00452198,  0.00444964,  0.0044831 ,  0.00460076,\n",
       "          0.00447159,  0.0045438 ,  0.00452962,  0.00453805,  0.00442675,\n",
       "          0.00433003,  0.0044273 ,  0.00449221,  0.00459943,  0.0045376 ,\n",
       "          0.00453521,  0.0044001 ,  0.00447453,  0.00464192,  0.00439757,\n",
       "          0.00450431,  0.00451855,  0.00468892,  0.00459319,  0.0046335 ,\n",
       "          0.00467459,  0.00438341,  0.00466489,  0.00456717,  0.00440455],\n",
       "        [ 0.00408887,  0.00401462,  0.00411106,  0.00410561,  0.00407742,\n",
       "          0.00424371,  0.00397145,  0.00414122,  0.00410472,  0.00414904,\n",
       "          0.00420808,  0.00423204,  0.00399376,  0.00404088,  0.00425715,\n",
       "          0.00418786,  0.00418553,  0.00426152,  0.00411929,  0.0042001 ,\n",
       "          0.00416792,  0.00408913,  0.00402371,  0.00405398,  0.00416037,\n",
       "          0.00404357,  0.00410886,  0.00409604,  0.00410367,  0.00400302,\n",
       "          0.00391555,  0.00400352,  0.00406221,  0.00415917,  0.00410326,\n",
       "          0.0041011 ,  0.00397892,  0.00404623,  0.00419759,  0.00397663,\n",
       "          0.00407315,  0.00408604,  0.00424009,  0.00415353,  0.00418998,\n",
       "          0.00422713,  0.00396383,  0.00421836,  0.00413   ,  0.00398295],\n",
       "        [ 0.00393004,  0.00385867,  0.00395137,  0.00394613,  0.00391904,\n",
       "          0.00407887,  0.00381718,  0.00398036,  0.00394528,  0.00398787,\n",
       "          0.00404462,  0.00406765,  0.00383862,  0.00388392,  0.00409178,\n",
       "          0.00402518,  0.00402295,  0.00409598,  0.00395928,  0.00403695,\n",
       "          0.00400602,  0.00393029,  0.00386742,  0.0038965 ,  0.00399876,\n",
       "          0.0038865 ,  0.00394926,  0.00393693,  0.00394426,  0.00384752,\n",
       "          0.00376346,  0.003848  ,  0.00390442,  0.00399761,  0.00394387,\n",
       "          0.0039418 ,  0.00382436,  0.00388905,  0.00403454,  0.00382216,\n",
       "          0.00391493,  0.00392732,  0.00407539,  0.00399219,  0.00402722,\n",
       "          0.00406293,  0.00380986,  0.0040545 ,  0.00396957,  0.00382823],\n",
       "        [ 0.00499544,  0.00490473,  0.00502255,  0.00501589,  0.00498145,\n",
       "          0.00518461,  0.00485198,  0.00505939,  0.00501481,  0.00506895,\n",
       "          0.00514108,  0.00517035,  0.00487924,  0.00493681,  0.00520103,\n",
       "          0.00511637,  0.00511353,  0.00520636,  0.00503261,  0.00513133,\n",
       "          0.00509202,  0.00499576,  0.00491584,  0.00495281,  0.00508279,\n",
       "          0.00494009,  0.00501987,  0.0050042 ,  0.00501352,  0.00489055,\n",
       "          0.0047837 ,  0.00489116,  0.00496287,  0.00508133,  0.00501302,\n",
       "          0.00501038,  0.00486111,  0.00494334,  0.00512827,  0.00485831,\n",
       "          0.00497624,  0.00499198,  0.00518019,  0.00507443,  0.00511897,\n",
       "          0.00516436,  0.00484268,  0.00515364,  0.00504569,  0.00486603],\n",
       "        [ 0.00485159,  0.00476348,  0.00487792,  0.00487144,  0.004838  ,\n",
       "          0.0050353 ,  0.00471225,  0.0049137 ,  0.00487039,  0.00492298,\n",
       "          0.00499303,  0.00502146,  0.00473873,  0.00479464,  0.00505125,\n",
       "          0.00496903,  0.00496627,  0.00505643,  0.00488768,  0.00498356,\n",
       "          0.00494538,  0.00485189,  0.00477427,  0.00481018,  0.00493642,\n",
       "          0.00479783,  0.00487531,  0.00486009,  0.00486914,  0.00474972,\n",
       "          0.00464594,  0.00475031,  0.00481995,  0.004935  ,  0.00486865,\n",
       "          0.0048661 ,  0.00472112,  0.00480099,  0.00498059,  0.0047184 ,\n",
       "          0.00483293,  0.00484822,  0.00503101,  0.0049283 ,  0.00497155,\n",
       "          0.00501564,  0.00470322,  0.00500523,  0.00490038,  0.0047259 ],\n",
       "        [ 0.0044872 ,  0.00440571,  0.00451155,  0.00450557,  0.00447463,\n",
       "          0.00465712,  0.00435833,  0.00454465,  0.0045046 ,  0.00455323,\n",
       "          0.00461802,  0.00464432,  0.00438282,  0.00443454,  0.00467187,\n",
       "          0.00459583,  0.00459327,  0.00467666,  0.00452059,  0.00460927,\n",
       "          0.00457395,  0.00448748,  0.0044157 ,  0.00444891,  0.00456567,\n",
       "          0.00443748,  0.00450914,  0.00449507,  0.00450344,  0.00439298,\n",
       "          0.004297  ,  0.00439353,  0.00445794,  0.00456435,  0.00450299,\n",
       "          0.00450062,  0.00436654,  0.0044404 ,  0.00460651,  0.00436402,\n",
       "          0.00446995,  0.00448409,  0.00465315,  0.00455815,  0.00459816,\n",
       "          0.00463893,  0.00434998,  0.00462931,  0.00453233,  0.00437096],\n",
       "        [-0.04109151, -0.04034528, -0.04131451, -0.04125966, -0.04097641,\n",
       "         -0.04264754, -0.0399114 , -0.04161755, -0.04125079, -0.04169616,\n",
       "         -0.04228951, -0.04253027, -0.04013565, -0.04060922, -0.0427826 ,\n",
       "         -0.04208624, -0.04206285, -0.04282649, -0.04139722, -0.04220932,\n",
       "         -0.04188592, -0.04109408, -0.04043668, -0.04074082, -0.04181003,\n",
       "         -0.04063618, -0.04129241, -0.04116352, -0.04124017, -0.04022869,\n",
       "         -0.03934972, -0.04023371, -0.04082356, -0.041798  , -0.04123605,\n",
       "         -0.04121439, -0.03998652, -0.04066293, -0.04218409, -0.03996349,\n",
       "         -0.04093351, -0.04106298, -0.0426112 , -0.04174125, -0.04210759,\n",
       "         -0.04248096, -0.03983487, -0.04239282, -0.04150479, -0.04002701],\n",
       "        [ 0.00414727,  0.00407195,  0.00416978,  0.00416424,  0.00413565,\n",
       "          0.00430432,  0.00402816,  0.00420036,  0.00416334,  0.00420829,\n",
       "          0.00426818,  0.00429248,  0.0040508 ,  0.00409859,  0.00431795,\n",
       "          0.00424766,  0.0042453 ,  0.00432238,  0.00417812,  0.00426009,\n",
       "          0.00422745,  0.00414753,  0.00408118,  0.00411187,  0.00421979,\n",
       "          0.00410131,  0.00416754,  0.00415454,  0.00416227,  0.00406019,\n",
       "          0.00397147,  0.00406069,  0.00412023,  0.00421857,  0.00416186,\n",
       "          0.00415967,  0.00403574,  0.00410401,  0.00425754,  0.00403342,\n",
       "          0.00413132,  0.00414439,  0.00430065,  0.00421285,  0.00424982,\n",
       "          0.0042875 ,  0.00402044,  0.00427861,  0.00418898,  0.00403983],\n",
       "        [ 0.00440885,  0.00432879,  0.00443278,  0.00442689,  0.0043965 ,\n",
       "          0.0045758 ,  0.00428223,  0.00446529,  0.00442594,  0.00447373,\n",
       "          0.00453739,  0.00456322,  0.00430629,  0.0043571 ,  0.00459029,\n",
       "          0.00451558,  0.00451307,  0.004595  ,  0.00444165,  0.00452879,\n",
       "          0.00449409,  0.00440913,  0.00433859,  0.00437122,  0.00448594,\n",
       "          0.00436   ,  0.00443041,  0.00441658,  0.0044248 ,  0.00431628,\n",
       "          0.00422197,  0.00431681,  0.0043801 ,  0.00448465,  0.00442436,\n",
       "          0.00442204,  0.00429029,  0.00436287,  0.00452608,  0.00428782,\n",
       "          0.0043919 ,  0.00440579,  0.0045719 ,  0.00447856,  0.00451787,\n",
       "          0.00455793,  0.00427402,  0.00454847,  0.00445319,  0.00429464],\n",
       "        [ 0.00485509,  0.00476692,  0.00488143,  0.00487495,  0.00484149,\n",
       "          0.00503894,  0.00471565,  0.00491724,  0.0048739 ,  0.00492653,\n",
       "          0.00499663,  0.00502508,  0.00474215,  0.0047981 ,  0.00505489,\n",
       "          0.00497262,  0.00496985,  0.00506008,  0.00489121,  0.00498716,\n",
       "          0.00494895,  0.00485539,  0.00477772,  0.00481365,  0.00493998,\n",
       "          0.00480129,  0.00487882,  0.00486359,  0.00487265,  0.00475314,\n",
       "          0.00464929,  0.00475373,  0.00482343,  0.00493856,  0.00487216,\n",
       "          0.0048696 ,  0.00472453,  0.00480445,  0.00498418,  0.00472181,\n",
       "          0.00483642,  0.00485171,  0.00503464,  0.00493185,  0.00497514,\n",
       "          0.00501925,  0.00470661,  0.00500884,  0.00490392,  0.00472931]]),\n",
       " 'db1': array([[ 4.04369505e-05],\n",
       "        [-2.07753469e-04],\n",
       "        [ 1.67787789e-04],\n",
       "        [ 3.98224695e-04],\n",
       "        [ 1.65052899e-04],\n",
       "        [ 1.31700584e-04],\n",
       "        [ 5.95704136e-06],\n",
       "        [-1.23223084e-04],\n",
       "        [-1.19937808e-04],\n",
       "        [-2.15861771e-05],\n",
       "        [ 1.54352827e-04],\n",
       "        [ 4.57448267e-05],\n",
       "        [ 2.55807651e-04],\n",
       "        [ 7.82489042e-05],\n",
       "        [ 1.14175749e-04],\n",
       "        [ 4.53108066e-05],\n",
       "        [-2.24820238e-04],\n",
       "        [ 3.02005585e-04],\n",
       "        [-1.10242971e-04],\n",
       "        [ 9.14771460e-05],\n",
       "        [ 3.66426450e-05],\n",
       "        [ 1.42122913e-04],\n",
       "        [ 1.73028041e-04],\n",
       "        [ 1.00324910e-04],\n",
       "        [-1.28810393e-04],\n",
       "        [-2.66879564e-04],\n",
       "        [-9.96458091e-05],\n",
       "        [-1.08103511e-04],\n",
       "        [ 3.03830030e-04],\n",
       "        [-1.97251906e-04],\n",
       "        [ 2.30469465e-04],\n",
       "        [-1.85014845e-04],\n",
       "        [-2.66978020e-04],\n",
       "        [-6.22654199e-05],\n",
       "        [ 2.94307653e-04],\n",
       "        [-2.15317464e-04],\n",
       "        [ 1.95461699e-04],\n",
       "        [-8.25338415e-05],\n",
       "        [-4.81346908e-04],\n",
       "        [ 2.47781855e-04],\n",
       "        [-2.35643502e-05],\n",
       "        [-1.56133024e-04],\n",
       "        [-2.44545250e-04],\n",
       "        [-2.73233388e-04],\n",
       "        [-3.51199334e-04],\n",
       "        [-2.08374644e-04],\n",
       "        [ 2.56850499e-05],\n",
       "        [-3.15645125e-04],\n",
       "        [-6.83042701e-05],\n",
       "        [-4.01545921e-05]]),\n",
       " 'db2': array([[ 0.00906243],\n",
       "        [ 0.00819497],\n",
       "        [ 0.00787665],\n",
       "        [ 0.01001193],\n",
       "        [ 0.00972361],\n",
       "        [ 0.00899331],\n",
       "        [-0.08235613],\n",
       "        [ 0.00831201],\n",
       "        [ 0.00883628],\n",
       "        [ 0.00973062]])}"
      ]
     },
     "execution_count": 109,
     "metadata": {},
     "output_type": "execute_result"
    }
   ],
   "source": [
    "gradients"
   ]
  },
  {
   "cell_type": "code",
   "execution_count": 110,
   "metadata": {},
   "outputs": [
    {
     "name": "stdout",
     "output_type": "stream",
     "text": [
      "(144, 1)\n"
     ]
    }
   ],
   "source": [
    "NET[\"dF_l3\"] = np.dot(NET[\"W1\"].T, dZ)\n",
    "print(NET[\"dF_l3\"].shape)"
   ]
  },
  {
   "cell_type": "code",
   "execution_count": 111,
   "metadata": {},
   "outputs": [
    {
     "name": "stdout",
     "output_type": "stream",
     "text": [
      "(6, 6, 4)\n"
     ]
    }
   ],
   "source": [
    "NET[\"dP_l2\"] = NET[\"dF_l3\"].reshape((NET[\"P_l2\"].shape))\n",
    "print(NET[\"dP_l2\"].shape)"
   ]
  },
  {
   "cell_type": "code",
   "execution_count": 112,
   "metadata": {},
   "outputs": [
    {
     "name": "stdout",
     "output_type": "stream",
     "text": [
      "(12, 12, 4)\n"
     ]
    }
   ],
   "source": [
    "NET[\"dCA_l2\"] = np.zeros((NET[\"CA_l2\"].shape))\n",
    "\n",
    "for c in range(0, NET[\"dCA_l2\"].shape[2]):\n",
    "    for i in range(0, NET[\"dCA_l2\"].shape[0]):\n",
    "        for j in range(0, NET[\"dCA_l2\"].shape[1]):\n",
    "            NET[\"dCA_l2\"][i, j, c] = (1/4)*(NET[\"dP_l2\"][int(i/2), int(j/2), c])\n",
    "\n",
    "print(NET[\"dCA_l2\"].shape)"
   ]
  },
  {
   "cell_type": "code",
   "execution_count": 113,
   "metadata": {},
   "outputs": [
    {
     "data": {
      "text/plain": [
       "<matplotlib.image.AxesImage at 0x249584e7128>"
      ]
     },
     "execution_count": 113,
     "metadata": {},
     "output_type": "execute_result"
    },
    {
     "data": {
      "image/png": "[encoded data removed]",
      "text/plain": [
       "<Figure size 432x288 with 1 Axes>"
      ]
     },
     "metadata": {},
     "output_type": "display_data"
    }
   ],
   "source": [
    "plt.imshow(NET[\"dCA_l2\"][:,:,0])"
   ]
  },
  {
   "cell_type": "code",
   "execution_count": 114,
   "metadata": {},
   "outputs": [
    {
     "name": "stdout",
     "output_type": "stream",
     "text": [
      "(12, 12, 4)\n"
     ]
    }
   ],
   "source": [
    "NET[\"dC_l2\"] = ReLU_derivative(NET[\"C_l2\"])\n",
    "print(NET[\"dC_l2\"].shape)"
   ]
  },
  {
   "cell_type": "code",
   "execution_count": 115,
   "metadata": {},
   "outputs": [
    {
     "data": {
      "text/plain": [
       "<matplotlib.image.AxesImage at 0x249570524a8>"
      ]
     },
     "execution_count": 115,
     "metadata": {},
     "output_type": "execute_result"
    },
    {
     "data": {
      "image/png": "[encoded data removed]",
      "text/plain": [
       "<Figure size 432x288 with 1 Axes>"
      ]
     },
     "metadata": {},
     "output_type": "display_data"
    }
   ],
   "source": [
    "plt.imshow(NET[\"dC_l2\"][:,:,0])"
   ]
  },
  {
   "cell_type": "code",
   "execution_count": 116,
   "metadata": {},
   "outputs": [
    {
     "ename": "ValueError",
     "evalue": "For 'valid' mode, one must be at least as large as the other in every dimension",
     "output_type": "error",
     "traceback": [
      "\u001b[1;31m---------------------------------------------------------------------------\u001b[0m",
      "\u001b[1;31mValueError\u001b[0m                                Traceback (most recent call last)",
      "\u001b[1;32m<ipython-input-116-4d25d177918b>\u001b[0m in \u001b[0;36m<module>\u001b[1;34m()\u001b[0m\n\u001b[1;32m----> 1\u001b[1;33m \u001b[0mNET\u001b[0m\u001b[1;33m[\u001b[0m\u001b[1;34m\"dk_l2\"\u001b[0m\u001b[1;33m]\u001b[0m \u001b[1;33m=\u001b[0m \u001b[0msignal\u001b[0m\u001b[1;33m.\u001b[0m\u001b[0mconvolve\u001b[0m\u001b[1;33m(\u001b[0m\u001b[0mNET\u001b[0m\u001b[1;33m[\u001b[0m\u001b[1;34m\"P_l1\"\u001b[0m\u001b[1;33m]\u001b[0m\u001b[1;33m,\u001b[0m \u001b[0mNET\u001b[0m\u001b[1;33m[\u001b[0m\u001b[1;34m\"dC_l2\"\u001b[0m\u001b[1;33m]\u001b[0m\u001b[1;33m,\u001b[0m \u001b[0mmode\u001b[0m \u001b[1;33m=\u001b[0m \u001b[1;34m'valid'\u001b[0m\u001b[1;33m)\u001b[0m\u001b[1;33m\u001b[0m\u001b[0m\n\u001b[0m\u001b[0;32m      2\u001b[0m \u001b[0mprint\u001b[0m\u001b[1;33m(\u001b[0m\u001b[0mNET\u001b[0m\u001b[1;33m[\u001b[0m\u001b[1;34m\"dk_l2\"\u001b[0m\u001b[1;33m]\u001b[0m\u001b[1;33m.\u001b[0m\u001b[0mshape\u001b[0m\u001b[1;33m)\u001b[0m\u001b[1;33m\u001b[0m\u001b[0m\n",
      "\u001b[1;32m~\\AppData\\Roaming\\Python\\Python35\\site-packages\\scipy\\signal\\signaltools.py\u001b[0m in \u001b[0;36mconvolve\u001b[1;34m(in1, in2, mode, method)\u001b[0m\n\u001b[0;32m    757\u001b[0m         \u001b[1;32mreturn\u001b[0m \u001b[0mvolume\u001b[0m \u001b[1;33m*\u001b[0m \u001b[0mkernel\u001b[0m\u001b[1;33m\u001b[0m\u001b[0m\n\u001b[0;32m    758\u001b[0m \u001b[1;33m\u001b[0m\u001b[0m\n\u001b[1;32m--> 759\u001b[1;33m     \u001b[1;32mif\u001b[0m \u001b[0m_inputs_swap_needed\u001b[0m\u001b[1;33m(\u001b[0m\u001b[0mmode\u001b[0m\u001b[1;33m,\u001b[0m \u001b[0mvolume\u001b[0m\u001b[1;33m.\u001b[0m\u001b[0mshape\u001b[0m\u001b[1;33m,\u001b[0m \u001b[0mkernel\u001b[0m\u001b[1;33m.\u001b[0m\u001b[0mshape\u001b[0m\u001b[1;33m)\u001b[0m\u001b[1;33m:\u001b[0m\u001b[1;33m\u001b[0m\u001b[0m\n\u001b[0m\u001b[0;32m    760\u001b[0m         \u001b[1;31m# Convolution is commutative; order doesn't have any effect on output\u001b[0m\u001b[1;33m\u001b[0m\u001b[1;33m\u001b[0m\u001b[0m\n\u001b[0;32m    761\u001b[0m         \u001b[0mvolume\u001b[0m\u001b[1;33m,\u001b[0m \u001b[0mkernel\u001b[0m \u001b[1;33m=\u001b[0m \u001b[0mkernel\u001b[0m\u001b[1;33m,\u001b[0m \u001b[0mvolume\u001b[0m\u001b[1;33m\u001b[0m\u001b[0m\n",
      "\u001b[1;32m~\\AppData\\Roaming\\Python\\Python35\\site-packages\\scipy\\signal\\signaltools.py\u001b[0m in \u001b[0;36m_inputs_swap_needed\u001b[1;34m(mode, shape1, shape2)\u001b[0m\n\u001b[0;32m    101\u001b[0m \u001b[1;33m\u001b[0m\u001b[0m\n\u001b[0;32m    102\u001b[0m         \u001b[1;32mif\u001b[0m \u001b[1;32mnot\u001b[0m \u001b[1;33m(\u001b[0m\u001b[0mok1\u001b[0m \u001b[1;32mor\u001b[0m \u001b[0mok2\u001b[0m\u001b[1;33m)\u001b[0m\u001b[1;33m:\u001b[0m\u001b[1;33m\u001b[0m\u001b[0m\n\u001b[1;32m--> 103\u001b[1;33m             raise ValueError(\"For 'valid' mode, one must be at least \"\n\u001b[0m\u001b[0;32m    104\u001b[0m                              \"as large as the other in every dimension\")\n\u001b[0;32m    105\u001b[0m \u001b[1;33m\u001b[0m\u001b[0m\n",
      "\u001b[1;31mValueError\u001b[0m: For 'valid' mode, one must be at least as large as the other in every dimension"
     ]
    }
   ],
   "source": [
    "NET[\"dk_l2\"] = signal.convolve(NET[\"P_l1\"], NET[\"dC_l2\"], mode = 'valid')\n",
    "print(NET[\"dk_l2\"].shape)"
   ]
  },
  {
   "cell_type": "code",
   "execution_count": null,
   "metadata": {},
   "outputs": [],
   "source": []
  },
  {
   "cell_type": "code",
   "execution_count": null,
   "metadata": {},
   "outputs": [],
   "source": []
  }
 ],
 "metadata": {
  "kernelspec": {
   "display_name": "Python 3",
   "language": "python",
   "name": "python3"
  },
  "language_info": {
   "codemirror_mode": {
    "name": "ipython",
    "version": 3
   },
   "file_extension": ".py",
   "mimetype": "text/x-python",
   "name": "python",
   "nbconvert_exporter": "python",
   "pygments_lexer": "ipython3",
   "version": "3.5.2"
  }
 },
 "nbformat": 4,
 "nbformat_minor": 2
}
