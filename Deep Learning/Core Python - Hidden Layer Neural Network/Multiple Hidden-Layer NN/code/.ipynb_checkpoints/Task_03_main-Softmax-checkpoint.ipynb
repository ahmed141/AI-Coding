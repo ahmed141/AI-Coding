{
 "cells": [
  {
   "cell_type": "code",
   "execution_count": 4,
   "metadata": {},
   "outputs": [
    {
     "name": "stderr",
     "output_type": "stream",
     "text": [
      "Using TensorFlow backend.\n"
     ]
    }
   ],
   "source": [
    "import numpy as np\n",
    "import random\n",
    "import matplotlib.pyplot as plt\n",
    "import imageio\n",
    "import glob\n",
    "\n",
    "from keras.utils import to_categorical #for one hot encoding\n",
    "\n",
    "#To make it compatible with jupyter notebook\n",
    "%matplotlib inline\n",
    "# Fixing random state for reproducibility\n",
    "np.random.seed(1)"
   ]
  },
  {
   "cell_type": "markdown",
   "metadata": {},
   "source": [
    "## Data Loading Function "
   ]
  },
  {
   "cell_type": "code",
   "execution_count": 5,
   "metadata": {},
   "outputs": [],
   "source": [
    "def load_dataset(path_to_dataset):\n",
    "    '''\n",
    "    return = train_set_x, train_set_y, test_set_x, test_set_y\n",
    "    '''\n",
    "    \n",
    "    train_data_path = str(path_to_dataset) + \"/train/\"\n",
    "    test_data_path = str(path_to_dataset) + \"/test/\"\n",
    "\n",
    "    #for Train folder\n",
    "    Train_X = []\n",
    "    Train_X_paths = []\n",
    "    Train_Y = []\n",
    "\n",
    "    for i in range(0, 10):\n",
    "        curr_dir = train_data_path + str(i) + \"/*.png\"\n",
    "        filename = None\n",
    "        img = None\n",
    "\n",
    "        for filename in glob.glob(curr_dir):\n",
    "            img = imageio.imread(filename)\n",
    "            Train_X.append(img)\n",
    "            Train_X_paths.append(filename)\n",
    "            Train_Y.append(i)\n",
    "    \n",
    "    #for test folder\n",
    "    Test_X = []\n",
    "    Test_X_paths = []\n",
    "    Test_Y = []\n",
    "\n",
    "    for i in range(0, 10):\n",
    "        curr_dir = test_data_path + str(i) + \"/*.png\"\n",
    "        filename = None\n",
    "        img = None\n",
    "\n",
    "        for filename in glob.glob(curr_dir):\n",
    "            img = imageio.imread(filename)\n",
    "            Test_X.append(img)\n",
    "            Test_X_paths.append(filename)\n",
    "            Test_Y.append(i)\n",
    "\n",
    "    #list to ndarray\n",
    "    train_set_x = np.array(Train_X)\n",
    "    train_set_y = np.array(Train_Y, ndmin=2)\n",
    "    train_set_y = train_set_y.T\n",
    "    \n",
    "    test_set_x = np.array(Test_X)\n",
    "    test_set_y = np.array(Test_Y, ndmin=2)\n",
    "    test_set_y = test_set_y.T\n",
    "\n",
    "    #shuffle the data\n",
    "    test = list(zip(train_set_x, train_set_y))\n",
    "    random.shuffle(test)\n",
    "    a, b = zip(*test)\n",
    "    \n",
    "    train_set_x = np.asarray(a)\n",
    "    train_set_y = np.asarray(b)\n",
    "    \n",
    "    train = list(zip(test_set_x, test_set_y))  #to shfuffle as of now data of same classes is contigous\n",
    "    random.shuffle(train)\n",
    "    a, b = zip(*train)\n",
    "    \n",
    "    test_set_x = np.asarray(a)\n",
    "    test_set_y = np.asarray(b)\n",
    "\n",
    "    return train_set_x, train_set_y, test_set_x, test_set_y"
   ]
  },
  {
   "cell_type": "code",
   "execution_count": 6,
   "metadata": {},
   "outputs": [],
   "source": [
    "train_set_X, train_set_Y, test_set_X, test_set_Y = load_dataset(\"../data\")"
   ]
  },
  {
   "cell_type": "code",
   "execution_count": 11,
   "metadata": {},
   "outputs": [],
   "source": [
    "train_set_Y = train_set_Y.T\n",
    "test_set_Y = test_set_Y.T"
   ]
  },
  {
   "cell_type": "code",
   "execution_count": 12,
   "metadata": {},
   "outputs": [
    {
     "name": "stdout",
     "output_type": "stream",
     "text": [
      "Train X shape: \t(60000, 28, 28)\n",
      "Train Y shape: \t(1, 60000)\n",
      "Test X shape: \t(10000, 28, 28)\n",
      "Test Y shape: \t(1, 10000)\n"
     ]
    }
   ],
   "source": [
    "print(\"Train X shape: \\t\" + str(train_set_X.shape))  #can make (60000, 28, 28, 1) but i think there is no need\n",
    "print(\"Train Y shape: \\t\" + str(train_set_Y.shape))\n",
    "print(\"Test X shape: \\t\" + str(test_set_X.shape))\n",
    "print(\"Test Y shape: \\t\" + str(test_set_Y.shape))"
   ]
  },
  {
   "cell_type": "code",
   "execution_count": 13,
   "metadata": {},
   "outputs": [
    {
     "name": "stdout",
     "output_type": "stream",
     "text": [
      "Label: \t9\n"
     ]
    },
    {
     "data": {
      "text/plain": [
       "<matplotlib.image.AxesImage at 0x2f014e9d7b8>"
      ]
     },
     "execution_count": 13,
     "metadata": {},
     "output_type": "execute_result"
    },
    {
     "data": {
      "image/png": "[encoded data removed]",
      "text/plain": [
       "<Figure size 432x288 with 1 Axes>"
      ]
     },
     "metadata": {},
     "output_type": "display_data"
    }
   ],
   "source": [
    "index = 30800\n",
    "print(\"Label: \\t\" + str(train_set_Y[0, index]))\n",
    "plt.imshow(train_set_X[index])"
   ]
  },
  {
   "cell_type": "markdown",
   "metadata": {},
   "source": [
    "## Flattening the Image Matrices"
   ]
  },
  {
   "cell_type": "code",
   "execution_count": 14,
   "metadata": {},
   "outputs": [],
   "source": [
    "train_X_flatten = train_set_X.reshape(train_set_X.shape[0], -1).T\n",
    "test_X_flatten = test_set_X.reshape(test_set_X.shape[0], -1).T"
   ]
  },
  {
   "cell_type": "code",
   "execution_count": 15,
   "metadata": {},
   "outputs": [
    {
     "name": "stdout",
     "output_type": "stream",
     "text": [
      "After Flatten\n",
      "train_X_flatten.shape: \t(784, 60000)\n",
      "train_set_Y.shape: \t(1, 60000)\n",
      "test_X_flatten.shape: \t(784, 10000)\n",
      "test_set_Y.shape: \t(1, 10000)\n"
     ]
    }
   ],
   "source": [
    "print(\"After Flatten\")\n",
    "print(\"train_X_flatten.shape: \\t\" + str(train_X_flatten.shape))\n",
    "print(\"train_set_Y.shape: \\t\" + str(train_set_Y.shape))\n",
    "print(\"test_X_flatten.shape: \\t\" + str(test_X_flatten.shape))\n",
    "print(\"test_set_Y.shape: \\t\" + str(test_set_Y.shape))\n"
   ]
  },
  {
   "cell_type": "markdown",
   "metadata": {},
   "source": [
    "## Network Function"
   ]
  },
  {
   "cell_type": "markdown",
   "metadata": {},
   "source": [
    "### init_network"
   ]
  },
  {
   "cell_type": "code",
   "execution_count": 16,
   "metadata": {},
   "outputs": [],
   "source": [
    "def init_network(no_of_layers, input_dim, neurons_per_layer):\n",
    "    '''\n",
    "    no_of_layers: count\n",
    "    input_dim: m\n",
    "    neurons_per_layer: list in order L1, L2, L3 ... Lout\n",
    "    \n",
    "    returns:\n",
    "    net:    dict instance\n",
    "    '''\n",
    "    net = {\n",
    "        \"no_of_layers\": no_of_layers,\n",
    "        \"W1\": np.random.randn(neurons_per_layer[0], input_dim)*0.01,\n",
    "        \"b1\": np.zeros((neurons_per_layer[0], 1))\n",
    "    }\n",
    "    \n",
    "    for i in range(1, no_of_layers):\n",
    "        net[\"W\"+str(i+1)] = np.random.randn(neurons_per_layer[i], neurons_per_layer[i-1])*0.01\n",
    "        net[\"b\"+str(i+1)] = np.zeros((neurons_per_layer[i], 1))\n",
    "\n",
    "    return net"
   ]
  },
  {
   "cell_type": "markdown",
   "metadata": {},
   "source": [
    "### feedForward"
   ]
  },
  {
   "cell_type": "code",
   "execution_count": 19,
   "metadata": {},
   "outputs": [],
   "source": [
    "def sigmoid (x):\n",
    "    '''\n",
    "    Parameters:\n",
    "    x - input\n",
    "    \n",
    "    Returns:\n",
    "    answer - The sigmoid vaue of 'x'\n",
    "    '''\n",
    "    answer = 1/(1 + np.exp(-x))\n",
    "    return answer"
   ]
  },
  {
   "cell_type": "code",
   "execution_count": 20,
   "metadata": {},
   "outputs": [],
   "source": [
    "def softmax(Z):\n",
    "    A = []\n",
    "    exp_Z = []\n",
    "    for i in range(0, Z.shape[0]):\n",
    "        exp_Z.append(np.exp(Z[i, :]))\n",
    "    \n",
    "    exp_Z = np.array(exp_Z)\n",
    "    sum_exp_Z = np.sum(exp_Z, axis = 0, keepdims = True)\n",
    "    \n",
    "    for i in range(0, Z.shape[0]):\n",
    "        ans = (exp_Z[i, :] / sum_exp_Z)\n",
    "        A.append(ans)\n",
    "    \n",
    "    A = np.array(A)\n",
    "    A = A.reshape((A.shape[0], A.shape[2]))\n",
    "    return A"
   ]
  },
  {
   "cell_type": "code",
   "execution_count": 22,
   "metadata": {},
   "outputs": [],
   "source": [
    "def  forwardPropagation (A_prev, W, b, activation):\n",
    "    '''\n",
    "    Parameters:\n",
    "    model = perceptron class instance, where it is the model initialized using initializeParameters\n",
    "    X =     [[all dim1 vals], [all dim2 vals]]    i.e.inputs stacked vertically\n",
    "\n",
    "    Returns:\n",
    "    modelOutput = The class instance with 'x', 'Z1', 'A1' and 'Z2', 'A2' in it\n",
    "    '''\n",
    "    \n",
    "    Z = np.dot(W, A_prev) + b\n",
    "    \n",
    "    if(activation == \"sigmoid\"):\n",
    "        A = sigmoid(Z)\n",
    "    elif(activation == \"softmax\"):\n",
    "        A = softmax(Z)\n",
    "    else:\n",
    "        print(\"wrong activation\")\n",
    "        \n",
    "    return A, Z"
   ]
  },
  {
   "cell_type": "code",
   "execution_count": 23,
   "metadata": {},
   "outputs": [],
   "source": [
    "def feedForward(net, X):\n",
    "    '''\n",
    "    net:   \n",
    "    X:     \n",
    "    \n",
    "    return:\n",
    "    net:       \n",
    "    '''\n",
    "    no_of_layers = net[\"no_of_layers\"]\n",
    "    net[\"X\"] = X\n",
    "    \n",
    "    A_prev = X\n",
    "    activation = \"sigmoid\"\n",
    "    \n",
    "    for i in range(1, no_of_layers):\n",
    "        W = net[\"W\"+str(i)]\n",
    "        b = net[\"b\"+str(i)]\n",
    "        net[\"AL\"+str(i)], net[\"ZL\"+str(i)] = forwardPropagation (A_prev, W, b, activation)\n",
    "        A_prev = net[\"AL\"+str(i)]\n",
    "    \n",
    "    W = net[\"W\"+str(no_of_layers)]\n",
    "    b = net[\"b\"+str(no_of_layers)]\n",
    "    net[\"AL\"+str(no_of_layers)], net[\"ZL\"+str(no_of_layers)] = forwardPropagation (A_prev, W, b, activation)\n",
    "        \n",
    "    return net"
   ]
  },
  {
   "cell_type": "markdown",
   "metadata": {},
   "source": [
    "### LossCalculation"
   ]
  },
  {
   "cell_type": "code",
   "execution_count": 28,
   "metadata": {},
   "outputs": [],
   "source": [
    "def CostCalculation(m, net_out, Y):\n",
    "    '''\n",
    "    net_out:  \n",
    "    Y: ground truth\n",
    "    \n",
    "    reutrn:\n",
    "    cost\n",
    "    '''\n",
    "    \n",
    "    # one hot encode\n",
    "    encoded_Y = to_categorical(Y)\n",
    "    encoded_Y = encoded_Y.reshape(encoded_Y.shape[1], encoded_Y.shape[2])\n",
    "    encoded_Y = encoded_Y.T\n",
    "    \n",
    "    cost = (1/(2*m)) * np.sum(np.power(abs(encoded_Y - net_out), 2), axis = 1, keepdims = True)\n",
    "    \n",
    "    return cost"
   ]
  },
  {
   "cell_type": "markdown",
   "metadata": {},
   "source": [
    "### backPropagation"
   ]
  },
  {
   "cell_type": "code",
   "execution_count": 67,
   "metadata": {},
   "outputs": [],
   "source": [
    "def BackProp(net, Y):\n",
    "    '''\n",
    "    parms:\n",
    "    net =  dict\n",
    "    Y =    GT\n",
    "    \n",
    "    returns:\n",
    "    gradients =   \n",
    "    '''\n",
    "    gradients = {}\n",
    "    no_of_layers = net[\"no_of_layers\"]\n",
    "    \n",
    "    # one hot encode\n",
    "    encoded_Y = to_categorical(Y)\n",
    "    encoded_Y = encoded_Y.reshape(encoded_Y.shape[1], encoded_Y.shape[2])\n",
    "    encoded_Y = encoded_Y.T\n",
    "    m = encoded_Y.shape[1]\n",
    "    W = net[\"W\"+str(no_of_layers)]\n",
    "    b = net[\"b\"+str(no_of_layers)]\n",
    "    Z = net[\"ZL\"+str(no_of_layers)]\n",
    "    A = net[\"AL\"+str(no_of_layers)]\n",
    "    \n",
    "    dZ = (A - encoded_Y) * (A*(1-A))\n",
    "    \n",
    "    dW = (1/m)*(np.dot(dZ, net[\"AL\"+str(no_of_layers-1)].T))\n",
    "    db = (1/m)*(np.sum(dZ, axis = 1, keepdims = True))\n",
    "    gradients[\"dW\"+str(no_of_layers)] = dW\n",
    "    gradients[\"db\"+str(no_of_layers)] = db\n",
    "    \n",
    "    for i in range(1, no_of_layers-1):\n",
    "        dZ = np.dot(net[\"W\"+str(no_of_layers -i+1)].T, dZ) * (net[\"AL\"+str(no_of_layers -i)] - (net[\"AL\"+str(no_of_layers -i)]*net[\"AL\"+str(no_of_layers -i)]))\n",
    "        dW = (1/m)*(np.dot(dZ, net[\"AL\"+str(no_of_layers -i-1)].T))\n",
    "        db = (1/m)*(np.sum(dZ, axis = 1, keepdims = True))\n",
    "        gradients[\"dW\"+str(no_of_layers -i)] = dW\n",
    "        gradients[\"db\"+str(no_of_layers -i)] = db\n",
    "    \n",
    "    i = no_of_layers - 1    \n",
    "    dZ = np.dot(net[\"W\"+str(no_of_layers -i+1)].T, dZ) * (net[\"AL\"+str(no_of_layers -i)] - (net[\"AL\"+str(no_of_layers -i)]*net[\"AL\"+str(no_of_layers -i)]))\n",
    "    dW = (1/m)*(np.dot(dZ, net[\"X\"].T))\n",
    "    db = (1/m)*(np.sum(dZ, axis = 1, keepdims = True))\n",
    "    gradients[\"dW\"+str(no_of_layers -i)] = dW\n",
    "    gradients[\"db\"+str(no_of_layers -i)] = db\n",
    "    \n",
    "    \n",
    "    return gradients"
   ]
  },
  {
   "cell_type": "code",
   "execution_count": 41,
   "metadata": {},
   "outputs": [],
   "source": [
    "def  weightUpdate (net, gradients, lr_rate):\n",
    "    '''\n",
    "    \n",
    "    '''\n",
    "    \n",
    "    no_of_layers = net[\"no_of_layers\"]\n",
    "    \n",
    "    for i in range(1, no_of_layers+1):\n",
    "        net[\"W\"+str(i)] = net[\"W\"+str(i)] - (lr_rate * gradients[\"dW\"+str(i)])\n",
    "        net[\"b\"+str(i)] = net[\"b\"+str(i)] - (lr_rate * gradients[\"db\"+str(i)])\n",
    "        \n",
    "\n",
    "    return net"
   ]
  },
  {
   "cell_type": "markdown",
   "metadata": {},
   "source": [
    "### Train model (mini batch SGD)"
   ]
  },
  {
   "cell_type": "code",
   "execution_count": 78,
   "metadata": {},
   "outputs": [],
   "source": [
    "def train_Model_mini(net, train_X, train_Y, test_X, test_Y, batch_size = 200, numberofEpochs = 100, lr_rate = 0.1):\n",
    "    '''\n",
    "    \n",
    "    '''\n",
    "    no_of_layers = net[\"no_of_layers\"]\n",
    "    All_Train_Loss = []\n",
    "    All_Test_Loss = []\n",
    "    \n",
    "    m = train_X.shape[1]\n",
    "    \n",
    "    \n",
    "    for i in range(1, numberofEpochs+1):\n",
    "        trn_net = feedForward(net, train_X)\n",
    "        trn_loss = CostCalculation(train_X.shape[1], trn_net[\"AL\"+str(no_of_layers)], train_Y)\n",
    "        All_Train_Loss.append((1/10)*np.sum(trn_loss, axis = 0, keepdims = True))\n",
    "        \n",
    "        for j in range(1, (m//batch_size)):\n",
    "            trn_net = feedForward(net, train_X[:, (j*batch_size):((j+1)*batch_size)])\n",
    "            trn_grads = BackProp(trn_net, train_Y[:, (j*batch_size):((j+1)*batch_size)])\n",
    "            net = weightUpdate(trn_net, trn_grads, lr_rate)    \n",
    "        \n",
    "        \n",
    "        #below was expected tobe done in test() function\n",
    "        tst_net = feedForward(net, test_X)\n",
    "        tst_loss = CostCalculation(test_X.shape[1], tst_net[\"AL\"+str(no_of_layers)], test_Y)\n",
    "        All_Test_Loss.append((1/10)*np.sum(tst_loss, axis = 0, keepdims = True))\n",
    "        \n",
    "        if((i%50 == 0) or (i in range(1, 10+1))):\n",
    "            print(\"epoch #\"+ str(i) + \": \\tTrain Loss = \"+ str(All_Train_Loss[-1]) + \"\\t\\t Validation Loss = \" + str(All_Test_Loss[-1]))\n",
    "    \n",
    "    out = {\n",
    "        \"net\": net,\n",
    "        \"All_Train_Loss\": All_Train_Loss,\n",
    "        \"All_Test_Loss\": All_Test_Loss\n",
    "    }\n",
    "    return out"
   ]
  },
  {
   "cell_type": "code",
   "execution_count": 79,
   "metadata": {},
   "outputs": [
    {
     "name": "stdout",
     "output_type": "stream",
     "text": [
      "epoch #1: \tTrain Loss = [[0.12576425]]\t\t Validation Loss = [[0.04498156]]\n",
      "epoch #2: \tTrain Loss = [[0.04498448]]\t\t Validation Loss = [[0.04497842]]\n",
      "epoch #3: \tTrain Loss = [[0.04498144]]\t\t Validation Loss = [[0.04497403]]\n",
      "epoch #4: \tTrain Loss = [[0.04497717]]\t\t Validation Loss = [[0.0449669]]\n",
      "epoch #5: \tTrain Loss = [[0.0449703]]\t\t Validation Loss = [[0.04495428]]\n",
      "epoch #6: \tTrain Loss = [[0.04495811]]\t\t Validation Loss = [[0.04492927]]\n",
      "epoch #7: \tTrain Loss = [[0.04493376]]\t\t Validation Loss = [[0.04487316]]\n",
      "epoch #8: \tTrain Loss = [[0.04487899]]\t\t Validation Loss = [[0.04471315]]\n",
      "epoch #9: \tTrain Loss = [[0.04472231]]\t\t Validation Loss = [[0.04396903]]\n",
      "epoch #10: \tTrain Loss = [[0.04399572]]\t\t Validation Loss = [[0.04124878]]\n"
     ]
    },
    {
     "name": "stderr",
     "output_type": "stream",
     "text": [
      "c:\\program files\\python35\\lib\\site-packages\\ipykernel_launcher.py:9: RuntimeWarning: overflow encountered in exp\n",
      "  if __name__ == '__main__':\n"
     ]
    },
    {
     "name": "stdout",
     "output_type": "stream",
     "text": [
      "epoch #50: \tTrain Loss = [[0.00721678]]\t\t Validation Loss = [[0.00745654]]\n",
      "epoch #100: \tTrain Loss = [[0.00331239]]\t\t Validation Loss = [[0.00426766]]\n",
      "epoch #150: \tTrain Loss = [[0.00241207]]\t\t Validation Loss = [[0.00330702]]\n",
      "epoch #200: \tTrain Loss = [[0.00189554]]\t\t Validation Loss = [[0.00295337]]\n"
     ]
    }
   ],
   "source": [
    "Model2 = init_network(no_of_layers = 3, input_dim = train_X_flatten.shape[0], neurons_per_layer = [100, 50, 10])\n",
    "Out2 = train_Model_mini(Model2, train_X_flatten, train_set_Y, test_X_flatten, test_set_Y, batch_size = 200, numberofEpochs = 200, lr_rate = 0.1)"
   ]
  },
  {
   "cell_type": "code",
   "execution_count": 80,
   "metadata": {},
   "outputs": [
    {
     "name": "stdout",
     "output_type": "stream",
     "text": [
      "first: \t Train = [[0.12576425]]\t\t Val:[[0.04498156]]\n",
      "Last: \t Train = [[0.00189554]]\t\t Val:[[0.00295337]]\n",
      "Difference: \t Train = [[-0.12386871]]\t\t Val:[[-0.04202819]]\n"
     ]
    },
    {
     "data": {
      "image/png": "[encoded data removed]",
      "text/plain": [
       "<Figure size 1440x720 with 1 Axes>"
      ]
     },
     "metadata": {},
     "output_type": "display_data"
    }
   ],
   "source": [
    "#For visualizing the losses throughout training\n",
    "TrainLosses = Out2[\"All_Train_Loss\"]\n",
    "TestLosses = Out2[\"All_Test_Loss\"]\n",
    "\n",
    "plt.figure(figsize=(20,10))\n",
    "x1 = np.arange(1, len(TrainLosses)+1)\n",
    "y1 = np.array(TrainLosses)\n",
    "x1.shape = (x1.shape[0], 1)\n",
    "y1.shape = (y1.shape[0], 1)\n",
    "\n",
    "x2 = np.arange(1, len(TestLosses)+1)\n",
    "y2 = np.array(TestLosses)\n",
    "x2.shape = (x2.shape[0], 1)\n",
    "y2.shape = (y2.shape[0], 1)\n",
    "\n",
    "#plt.title(\"Following Plot is for hidden units = \"+ str(hu)+ \" \\t Learning Rate = \"+str(lr))\n",
    "plt.plot(x1, y1, label=\"Train Loss\")\n",
    "plt.plot(x2, y2, label=\"Validation Loss\")\n",
    "plt.xlabel('Epochs')\n",
    "plt.ylabel('Loss')\n",
    "plt.legend(loc='best')\n",
    "\n",
    "print(\"first: \\t Train = \" + str(TrainLosses[0]) + \"\\t\\t Val:\" + str(TestLosses[0]))\n",
    "print(\"Last: \\t Train = \" + str(TrainLosses[-1]) + \"\\t\\t Val:\" + str(TestLosses[-1]))\n",
    "print(\"Difference: \\t Train = \" + str(TrainLosses[-1] - TrainLosses[0]) + \"\\t\\t Val:\" + str(TestLosses[-1] - TestLosses[0]))\n",
    "\n",
    "plt.show()\n",
    "#plt.savefig(\"./images/Task02/hu_\"+str(hu)+\"_lr_\"+str(lr))\n"
   ]
  },
  {
   "cell_type": "markdown",
   "metadata": {},
   "source": [
    "### Model Evaluation"
   ]
  },
  {
   "cell_type": "code",
   "execution_count": 82,
   "metadata": {},
   "outputs": [],
   "source": [
    "#this function is not implemented correctly\n",
    "\n",
    "def evaluate_model(model, test_data, target ):\n",
    "    '''\n",
    "    Parameters:\n",
    "    model : perceptron class instance\n",
    "    test_data : input vector of test dataset\n",
    "    target : Ground truth for test dateset\n",
    "    \n",
    "    Returns:\n",
    "    accuracy, precision, recall, loss\n",
    "    '''\n",
    "    X = test_data\n",
    "    Y = target\n",
    "    no_of_layers = model[\"no_of_layers\"]\n",
    "    \n",
    "    modelOutput = feedForward (model, X)\n",
    "    loss = CostCalculation(modelOutput[\"X\"].shape[1], modelOutput[\"AL\"+str(no_of_layers)], Y)\n",
    "    \n",
    "    Max_AL_indexs = np.argmax(modelOutput[\"AL\"+str(no_of_layers)], axis = 0)\n",
    "    \n",
    "    print(Max_AL_indexs.shape)\n",
    "    print(modelOutput[\"AL\"+str(no_of_layers)].shape)\n",
    "    print(modelOutput[\"AL\"+str(no_of_layers)][:, 0])\n",
    "    print(Max_AL_indexs)\n",
    "    \n",
    "    TP = 0\n",
    "    TN = 0\n",
    "    FP = 0\n",
    "    FN = 0\n",
    "    accuracy = None\n",
    "    precision = None\n",
    "    recall = None\n",
    "    \n",
    "    \n",
    "    \n",
    "    \n",
    "    if((TP+FP) != 0):\n",
    "        precision = (TP)/(TP+FP)\n",
    "    if((TP+TN) != 0):\n",
    "        recall = (TP)/(TP+TN)\n",
    "    accuracy = (TP+TN)/(TP+TN+FP+FN)\n",
    "    \n",
    "    print(\"True Positives: \\t\" + str(TP))\n",
    "    print(\"False Positives: \\t\" + str(FP))\n",
    "    print(\"True Negatives: \\t\" + str(TN))\n",
    "    print(\"False Negatives: \\t\" + str(FN))\n",
    "    \n",
    "    return accuracy, precision, recall, loss"
   ]
  },
  {
   "cell_type": "code",
   "execution_count": null,
   "metadata": {},
   "outputs": [],
   "source": [
    "accuracy, precision, recall, loss = evaluate_model(Model, test_X_flatten, test_set_Y)"
   ]
  }
 ],
 "metadata": {
  "kernelspec": {
   "display_name": "Python 3",
   "language": "python",
   "name": "python3"
  },
  "language_info": {
   "codemirror_mode": {
    "name": "ipython",
    "version": 3
   },
   "file_extension": ".py",
   "mimetype": "text/x-python",
   "name": "python",
   "nbconvert_exporter": "python",
   "pygments_lexer": "ipython3",
   "version": "3.5.2"
  }
 },
 "nbformat": 4,
 "nbformat_minor": 2
}
