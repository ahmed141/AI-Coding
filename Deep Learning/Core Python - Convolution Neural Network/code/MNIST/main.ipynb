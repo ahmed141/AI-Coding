{
 "cells": [
  {
   "cell_type": "code",
   "execution_count": 206,
   "metadata": {},
   "outputs": [],
   "source": [
    "import numpy as np\n",
    "import random\n",
    "import matplotlib.pyplot as plt\n",
    "import imageio\n",
    "import glob\n",
    "import os\n",
    "import scipy.io\n",
    "from scipy import signal\n",
    "from scipy import ndimage\n",
    "import math\n",
    "\n",
    "from keras.utils import to_categorical #for one hot encoding\n",
    "\n",
    "#To make it compatible with jupyter notebook\n",
    "%matplotlib inline\n",
    "# Fixing random state for reproducibility\n",
    "np.random.seed(1)"
   ]
  },
  {
   "cell_type": "markdown",
   "metadata": {},
   "source": [
    "## Dataset Preparation:"
   ]
  },
  {
   "cell_type": "code",
   "execution_count": 2,
   "metadata": {},
   "outputs": [],
   "source": [
    "%run \"Dataset_generator.ipynb\""
   ]
  },
  {
   "cell_type": "code",
   "execution_count": 3,
   "metadata": {},
   "outputs": [
    {
     "name": "stdout",
     "output_type": "stream",
     "text": [
      "Train X shape: \t(60000, 28, 28)\n",
      "Train Y shape: \t(60000, 1)\n",
      "Test X shape: \t(10000, 28, 28)\n",
      "Test Y shape: \t(10000, 1)\n"
     ]
    }
   ],
   "source": [
    "def print_shapes_of_dataset():\n",
    "    print(\"Train X shape: \\t\" + str(train_set_X.shape))  #can make (60000, 28, 28, 1) but i think there is no need\n",
    "    print(\"Train Y shape: \\t\" + str(train_set_Y.shape))\n",
    "    print(\"Test X shape: \\t\" + str(test_set_X.shape))\n",
    "    print(\"Test Y shape: \\t\" + str(test_set_Y.shape))\n",
    "print_shapes_of_dataset()"
   ]
  },
  {
   "cell_type": "code",
   "execution_count": 4,
   "metadata": {},
   "outputs": [],
   "source": [
    "train_set_Y = train_set_Y.T\n",
    "test_set_Y = test_set_Y.T"
   ]
  },
  {
   "cell_type": "code",
   "execution_count": 5,
   "metadata": {},
   "outputs": [
    {
     "name": "stdout",
     "output_type": "stream",
     "text": [
      "Train X shape: \t(60000, 28, 28)\n",
      "Train Y shape: \t(1, 60000)\n",
      "Test X shape: \t(10000, 28, 28)\n",
      "Test Y shape: \t(1, 10000)\n"
     ]
    }
   ],
   "source": [
    "print_shapes_of_dataset()"
   ]
  },
  {
   "cell_type": "code",
   "execution_count": 119,
   "metadata": {},
   "outputs": [
    {
     "name": "stdout",
     "output_type": "stream",
     "text": [
      "(10, 60000)\n",
      "(10, 10000)\n"
     ]
    }
   ],
   "source": [
    "# one hot encode\n",
    "encoded_train_Y = to_categorical(train_set_Y)\n",
    "encoded_train_Y = encoded_train_Y.reshape(encoded_train_Y.shape[1], encoded_train_Y.shape[2])\n",
    "encoded_train_Y = encoded_train_Y.T\n",
    "print(encoded_train_Y.shape)\n",
    "\n",
    "# one hot encode\n",
    "encoded_test_Y = to_categorical(test_set_Y)\n",
    "encoded_test_Y = encoded_test_Y.reshape(encoded_test_Y.shape[1], encoded_test_Y.shape[2])\n",
    "encoded_test_Y = encoded_test_Y.T\n",
    "print(encoded_test_Y.shape)"
   ]
  },
  {
   "cell_type": "code",
   "execution_count": 6,
   "metadata": {},
   "outputs": [
    {
     "name": "stdout",
     "output_type": "stream",
     "text": [
      "Label: \t5\n"
     ]
    },
    {
     "data": {
      "image/png": "[encoded data removed]",
      "text/plain": [
       "<Figure size 432x288 with 1 Axes>"
      ]
     },
     "metadata": {},
     "output_type": "display_data"
    }
   ],
   "source": [
    "def visualize_img_from_trainset (index = 30800):\n",
    "    print(\"Label: \\t\" + str(train_set_Y[0, index]))\n",
    "    plt.imshow(train_set_X[index])\n",
    "visualize_img_from_trainset (index = 0)"
   ]
  },
  {
   "cell_type": "code",
   "execution_count": 7,
   "metadata": {},
   "outputs": [
    {
     "name": "stdout",
     "output_type": "stream",
     "text": [
      "(5, 5, 3)\n",
      "2.1855754065331614\n",
      "(28, 28)\n",
      "(24, 24)\n"
     ]
    },
    {
     "data": {
      "text/plain": [
       "<matplotlib.image.AxesImage at 0x1f833f645f8>"
      ]
     },
     "execution_count": 7,
     "metadata": {},
     "output_type": "execute_result"
    },
    {
     "data": {
      "image/png": "[encoded data removed]",
      "text/plain": [
       "<Figure size 432x288 with 1 Axes>"
      ]
     },
     "metadata": {},
     "output_type": "display_data"
    }
   ],
   "source": [
    "filter_01 = np.random.randn(5,5, 3)\n",
    "print(filter_01.shape)\n",
    "print(np.amax(filter_01))\n",
    "print(train_set_X[30800].shape)\n",
    "conv = signal.convolve2d(train_set_X[30800], filter_01[:, :, 0], mode = 'valid')\n",
    "print(conv.shape)\n",
    "plt.imshow(conv)"
   ]
  },
  {
   "cell_type": "markdown",
   "metadata": {},
   "source": [
    "## Convolution Functions:"
   ]
  },
  {
   "cell_type": "code",
   "execution_count": 47,
   "metadata": {},
   "outputs": [],
   "source": [
    "def init_conv(kernel_dims):\n",
    "    '''\n",
    "    kernel_dims = [H, W, # of kernels] or [H, W, C, # of kernels] \n",
    "    '''\n",
    "    if(len(kernel_dims) == 3):\n",
    "        kernels = np.random.randn(kernel_dims[0], kernel_dims[1], kernel_dims[2]) * 0.01\n",
    "    else:\n",
    "        kernels = np.random.randn(kernel_dims[0], kernel_dims[1], kernel_dims[2], kernel_dims[3]) * 0.01\n",
    "    \n",
    "    return kernels "
   ]
  },
  {
   "cell_type": "code",
   "execution_count": 10,
   "metadata": {},
   "outputs": [],
   "source": [
    "def conv_forward(img, filters, stride = 1, pad = 0):\n",
    "    '''\n",
    "    img  = 2D\n",
    "    filters = 2D with 3rd dimesion representing # of filters\n",
    "    '''\n",
    "    conv_mat = None\n",
    "    img_rows = img.shape[0]\n",
    "    img_cols = img.shape[1]\n",
    "    flt_rows = filters.shape[0]\n",
    "    flt_cols = filters.shape[1]\n",
    "    n_h = int((img_rows - flt_rows + (2*pad))/stride) + 1\n",
    "    n_w = int((img_cols - flt_cols + (2*pad))/stride) + 1\n",
    "    \n",
    "    if(len(filters.shape) == 3):\n",
    "        n_c = filters.shape[2] \n",
    "        conv_mat = np.zeros((n_h, n_w, n_c))\n",
    "        for i in range(0, n_c):\n",
    "            conv_mat[:, :, i] = signal.convolve(img, filters[:, :, i], mode = 'valid')\n",
    "    else:\n",
    "        n_c = filters.shape[3] \n",
    "        conv_mat = np.zeros((n_h, n_w, n_c))\n",
    "        for i in range(0, n_c):\n",
    "            conv_mat[:, :, i] = signal.convolve(img, filters[:, :, :,i], mode = 'valid').reshape((n_h, n_w))\n",
    "        \n",
    "    return conv_mat"
   ]
  },
  {
   "cell_type": "markdown",
   "metadata": {},
   "source": [
    "## Pooling Functions"
   ]
  },
  {
   "cell_type": "code",
   "execution_count": 11,
   "metadata": {},
   "outputs": [],
   "source": [
    "def pool_forward(feature_map, mode = \"max\", filter_size = 2, stride = 2):\n",
    "    \n",
    "    n_c = feature_map.shape[2]\n",
    "    f_rows = feature_map.shape[0]\n",
    "    f_cols = feature_map.shape[1]\n",
    "    \n",
    "    n_h = int((f_rows - filter_size)/stride) + 1\n",
    "    n_w = int((f_rows - filter_size)/stride) + 1\n",
    "    \n",
    "    poolout = np.zeros((n_h, n_w, n_c))\n",
    "    \n",
    "    if (mode == \"max\"):\n",
    "        for c in range(0, n_c):\n",
    "            for i in range(0, n_h):\n",
    "                for j in range(0, n_w):\n",
    "                    pool_max = np.amax(feature_map[(i*stride):((i*stride)+filter_size), (j*stride):((j*stride)+filter_size),c])\n",
    "                    poolout[i, j, c] = pool_max\n",
    "    else:\n",
    "        print(\"Wrong Way bro\")\n",
    "    return poolout"
   ]
  },
  {
   "cell_type": "markdown",
   "metadata": {},
   "source": [
    "# FC Layers Functions"
   ]
  },
  {
   "cell_type": "code",
   "execution_count": 12,
   "metadata": {},
   "outputs": [],
   "source": [
    "# %run FC_Layer_functions.ipynb"
   ]
  },
  {
   "cell_type": "code",
   "execution_count": 13,
   "metadata": {},
   "outputs": [],
   "source": [
    "def init_network(no_of_layers, input_dim, neurons_per_layer):\n",
    "    '''\n",
    "    no_of_layers: count\n",
    "    input_dim: m\n",
    "    neurons_per_layer: list in order L1, L2, L3 ... Lout\n",
    "    \n",
    "    returns:\n",
    "    net:    dict instance\n",
    "    '''\n",
    "    net = {\n",
    "        \"no_of_layers\": no_of_layers,\n",
    "        \"W1\": np.random.randn(neurons_per_layer[0], input_dim)*0.01,\n",
    "        \"b1\": np.zeros((neurons_per_layer[0], 1))\n",
    "    }\n",
    "    \n",
    "    for i in range(1, no_of_layers):\n",
    "        net[\"W\"+str(i+1)] = np.random.randn(neurons_per_layer[i], neurons_per_layer[i-1])*0.01\n",
    "        net[\"b\"+str(i+1)] = np.zeros((neurons_per_layer[i], 1))\n",
    "\n",
    "    return net"
   ]
  },
  {
   "cell_type": "code",
   "execution_count": 14,
   "metadata": {},
   "outputs": [],
   "source": [
    "def sigmoid (x):\n",
    "    '''\n",
    "    Parameters:\n",
    "    x - input\n",
    "    \n",
    "    Returns:\n",
    "    answer - The sigmoid vaue of 'x'\n",
    "    '''\n",
    "    answer = 1/(1 + np.exp(-x))\n",
    "    return answer"
   ]
  },
  {
   "cell_type": "code",
   "execution_count": 15,
   "metadata": {},
   "outputs": [],
   "source": [
    "def ReLU(x):\n",
    "    \n",
    "    if(len(x.shape) == 3):\n",
    "        return np.maximum(np.zeros((x.shape[0], x.shape[1], x.shape[2])), x)\n",
    "    elif(len(x.shape) == 4):\n",
    "        return np.maximum(np.zeros((x.shape[0], x.shape[1], x.shape[2], x.shape[3])), x)"
   ]
  },
  {
   "cell_type": "code",
   "execution_count": 219,
   "metadata": {},
   "outputs": [],
   "source": [
    "def ReLU_derivative(x):\n",
    "    dx = np.zeros((x.shape))\n",
    "    \n",
    "    for i in range(0, dx.shape[0]):\n",
    "        for j in range(0, dx.shape[1]):\n",
    "            for k in range(0, dx.shape[2]):\n",
    "                if (x[i, j, k] > 0):\n",
    "                    dx[i, j, k] = 1\n",
    "    return dx"
   ]
  },
  {
   "cell_type": "code",
   "execution_count": 16,
   "metadata": {},
   "outputs": [],
   "source": [
    "def softmax(Z):\n",
    "    A = []\n",
    "    exp_Z = []\n",
    "    for i in range(0, Z.shape[0]):\n",
    "        exp_Z.append(np.exp(Z[i, :]))\n",
    "    \n",
    "    exp_Z = np.array(exp_Z)\n",
    "    sum_exp_Z = np.sum(exp_Z, axis = 0, keepdims = True)\n",
    "    \n",
    "    for i in range(0, Z.shape[0]):\n",
    "        ans = (exp_Z[i, :] / sum_exp_Z)\n",
    "        A.append(ans)\n",
    "    \n",
    "    A = np.array(A)\n",
    "    A = A.reshape((A.shape[0], A.shape[2]))\n",
    "    return A"
   ]
  },
  {
   "cell_type": "code",
   "execution_count": 17,
   "metadata": {},
   "outputs": [],
   "source": [
    "def  forwardPropagation (A_prev, W, b, activation):\n",
    "    '''\n",
    "    Parameters:\n",
    "    model = perceptron class instance, where it is the model initialized using initializeParameters\n",
    "    X =     [[all dim1 vals], [all dim2 vals]]    i.e.inputs stacked vertically\n",
    "\n",
    "    Returns:\n",
    "    modelOutput = The class instance with 'x', 'Z1', 'A1' and 'Z2', 'A2' in it\n",
    "    '''\n",
    "    \n",
    "    Z = np.dot(W, A_prev) + b\n",
    "    \n",
    "    if(activation == \"sigmoid\"):\n",
    "        A = sigmoid(Z)\n",
    "    elif(activation == \"softmax\"):\n",
    "        A = softmax(Z)\n",
    "    else:\n",
    "        print(\"wrong activation\")\n",
    "        \n",
    "    return A, Z"
   ]
  },
  {
   "cell_type": "code",
   "execution_count": 18,
   "metadata": {},
   "outputs": [],
   "source": [
    "def feedForward(net, X):\n",
    "    '''\n",
    "    net:   \n",
    "    X:     \n",
    "    \n",
    "    return:\n",
    "    net:       \n",
    "    '''\n",
    "    no_of_layers = net[\"no_of_layers\"]\n",
    "    net[\"X\"] = X\n",
    "    \n",
    "    A_prev = X\n",
    "    activation = \"sigmoid\"\n",
    "    \n",
    "    for i in range(1, no_of_layers):\n",
    "        W = net[\"W\"+str(i)]\n",
    "        b = net[\"b\"+str(i)]\n",
    "        net[\"AL\"+str(i)], net[\"ZL\"+str(i)] = forwardPropagation (A_prev, W, b, activation)\n",
    "        A_prev = net[\"AL\"+str(i)]\n",
    "    \n",
    "    W = net[\"W\"+str(no_of_layers)]\n",
    "    b = net[\"b\"+str(no_of_layers)]\n",
    "    net[\"AL\"+str(no_of_layers)], net[\"ZL\"+str(no_of_layers)] = forwardPropagation (A_prev, W, b, activation = \"softmax\")\n",
    "        \n",
    "    return net"
   ]
  },
  {
   "cell_type": "code",
   "execution_count": 19,
   "metadata": {},
   "outputs": [],
   "source": [
    "def CostCalculation(m, net_out, encoded_Y):\n",
    "    '''\n",
    "    net_out:  \n",
    "    Y: ground truth\n",
    "    \n",
    "    reutrn:\n",
    "    cost\n",
    "    '''\n",
    "    \n",
    "    cost = (1/(2*m)) * np.sum(np.power(abs(encoded_Y - net_out), 2), axis = 1, keepdims = True)\n",
    "    \n",
    "    return cost"
   ]
  },
  {
   "cell_type": "code",
   "execution_count": 20,
   "metadata": {},
   "outputs": [],
   "source": [
    "def BackProp(net, encoded_Y):\n",
    "    '''\n",
    "    parms:\n",
    "    net =  dict\n",
    "    encoded_Y =    one hot encoded GT \n",
    "    \n",
    "    returns:\n",
    "    gradients =   \n",
    "    '''\n",
    "    gradients = {}\n",
    "    no_of_layers = net[\"no_of_layers\"]\n",
    "    \n",
    "    m = encoded_Y.shape[1]\n",
    "    W = net[\"W\"+str(no_of_layers)]\n",
    "    b = net[\"b\"+str(no_of_layers)]\n",
    "    Z = net[\"ZL\"+str(no_of_layers)]\n",
    "    A = net[\"AL\"+str(no_of_layers)]\n",
    "    \n",
    "    dZ = (A - encoded_Y) * (A*(1-A))\n",
    "    \n",
    "    dW = (1/m)*(np.dot(dZ, net[\"AL\"+str(no_of_layers-1)].T))\n",
    "    db = (1/m)*(np.sum(dZ, axis = 1, keepdims = True))\n",
    "    gradients[\"dW\"+str(no_of_layers)] = dW\n",
    "    gradients[\"db\"+str(no_of_layers)] = db\n",
    "    \n",
    "    for i in range(1, no_of_layers-1):\n",
    "        dZ = np.dot(net[\"W\"+str(no_of_layers -i+1)].T, dZ) * (net[\"AL\"+str(no_of_layers -i)] - (net[\"AL\"+str(no_of_layers -i)]*net[\"AL\"+str(no_of_layers -i)]))\n",
    "        dW = (1/m)*(np.dot(dZ, net[\"AL\"+str(no_of_layers -i-1)].T))\n",
    "        db = (1/m)*(np.sum(dZ, axis = 1, keepdims = True))\n",
    "        gradients[\"dW\"+str(no_of_layers -i)] = dW\n",
    "        gradients[\"db\"+str(no_of_layers -i)] = db\n",
    "    \n",
    "    i = no_of_layers - 1    \n",
    "    dZ = np.dot(net[\"W\"+str(no_of_layers -i+1)].T, dZ) * (net[\"AL\"+str(no_of_layers -i)] - (net[\"AL\"+str(no_of_layers -i)]*net[\"AL\"+str(no_of_layers -i)]))\n",
    "    dW = (1/m)*(np.dot(dZ, net[\"X\"].T))\n",
    "    db = (1/m)*(np.sum(dZ, axis = 1, keepdims = True))\n",
    "    gradients[\"dW\"+str(no_of_layers -i)] = dW\n",
    "    gradients[\"db\"+str(no_of_layers -i)] = db\n",
    "    \n",
    "    \n",
    "    return gradients"
   ]
  },
  {
   "cell_type": "code",
   "execution_count": 21,
   "metadata": {},
   "outputs": [],
   "source": [
    "def  weightUpdate (net, gradients, lr_rate):\n",
    "    '''\n",
    "    \n",
    "    '''\n",
    "    \n",
    "    no_of_layers = net[\"no_of_layers\"]\n",
    "    \n",
    "    for i in range(1, no_of_layers+1):\n",
    "        net[\"W\"+str(i)] = net[\"W\"+str(i)] - (lr_rate * gradients[\"dW\"+str(i)])\n",
    "        net[\"b\"+str(i)] = net[\"b\"+str(i)] - (lr_rate * gradients[\"db\"+str(i)])\n",
    "        \n",
    "\n",
    "    return net"
   ]
  },
  {
   "cell_type": "code",
   "execution_count": 120,
   "metadata": {},
   "outputs": [],
   "source": [
    "def train_Model(net, train_X, encoded_train_Y, test_X, encoded_test_Y, numberofEpochs = 100, lr_rate = 0.1):\n",
    "    '''\n",
    "    \n",
    "    '''\n",
    "    \n",
    "    #after flatten\n",
    "    no_of_layers = net[\"no_of_layers\"]\n",
    "    All_Train_Loss = []\n",
    "    All_Test_Loss = []\n",
    "    \n",
    "    m = train_X.shape[1]\n",
    "    \n",
    "    \n",
    "    for i in range(1, numberofEpochs+1):\n",
    "        trn_net = feedForward(net, train_X)\n",
    "        trn_loss = CostCalculation(train_X.shape[1], trn_net[\"AL\"+str(no_of_layers)], encoded_train_Y)\n",
    "        All_Train_Loss.append((1/10)*np.sum(trn_loss, axis = 0, keepdims = True))\n",
    "        \n",
    "        trn_grads = BackProp(trn_net, encoded_train_Y)\n",
    "        net = weightUpdate(trn_net, trn_grads, lr_rate)    \n",
    "        \n",
    "        tst_net = feedForward(net, test_X)\n",
    "        tst_loss = CostCalculation(test_X.shape[1], tst_net[\"AL\"+str(no_of_layers)], encoded_test_Y)\n",
    "        All_Test_Loss.append((1/10)*np.sum(tst_loss, axis = 0, keepdims = True))\n",
    "        \n",
    "        if((i%50 == 0) or (i in range(1, 10+1))):\n",
    "            print(\"epoch #\"+ str(i) + \": \\tTrain Loss = \"+ str(All_Train_Loss[-1]) + \"\\t\\t Validation Loss = \" + str(All_Test_Loss[-1]))\n",
    "    \n",
    "    out = {\n",
    "        \"net\": net,\n",
    "        \"All_Train_Loss\": All_Train_Loss,\n",
    "        \"All_Test_Loss\": All_Test_Loss\n",
    "    }\n",
    "    return out"
   ]
  },
  {
   "cell_type": "markdown",
   "metadata": {},
   "source": [
    "# Using above Functions for demo"
   ]
  },
  {
   "cell_type": "markdown",
   "metadata": {},
   "source": [
    "## Forward Prop for 1 example"
   ]
  },
  {
   "cell_type": "code",
   "execution_count": 278,
   "metadata": {},
   "outputs": [],
   "source": [
    "NET = init_network(2, 100, [50, 10])\n",
    "NET[\"K_l1\"] = init_conv([5, 5, 3])\n",
    "NET[\"K_l2\"] = init_conv([3, 3, 3, 4])"
   ]
  },
  {
   "cell_type": "code",
   "execution_count": 279,
   "metadata": {},
   "outputs": [
    {
     "name": "stdout",
     "output_type": "stream",
     "text": [
      "(5, 5, 3)\n",
      "(3, 3, 3, 4)\n"
     ]
    }
   ],
   "source": [
    "print(NET[\"K_l1\"].shape)\n",
    "print(NET[\"K_l2\"].shape)"
   ]
  },
  {
   "cell_type": "code",
   "execution_count": 311,
   "metadata": {},
   "outputs": [
    {
     "data": {
      "text/plain": [
       "<matplotlib.image.AxesImage at 0x1f8385f8320>"
      ]
     },
     "execution_count": 311,
     "metadata": {},
     "output_type": "execute_result"
    },
    {
     "data": {
      "image/png": "[encoded data removed]",
      "text/plain": [
       "<Figure size 432x288 with 1 Axes>"
      ]
     },
     "metadata": {},
     "output_type": "display_data"
    }
   ],
   "source": [
    "plt.imshow(NET[\"K_l1\"][:, :, 0])"
   ]
  },
  {
   "cell_type": "code",
   "execution_count": 280,
   "metadata": {},
   "outputs": [
    {
     "name": "stdout",
     "output_type": "stream",
     "text": [
      "(24, 24, 3)\n"
     ]
    }
   ],
   "source": [
    "NET[\"C_l1\"] = conv_forward(train_set_X[0], NET[\"K_l1\"])\n",
    "print(NET[\"C_l1\"].shape)"
   ]
  },
  {
   "cell_type": "code",
   "execution_count": 281,
   "metadata": {},
   "outputs": [
    {
     "data": {
      "text/plain": [
       "<matplotlib.image.AxesImage at 0x1f838313978>"
      ]
     },
     "execution_count": 281,
     "metadata": {},
     "output_type": "execute_result"
    },
    {
     "data": {
      "image/png": "[encoded data removed]",
      "text/plain": [
       "<Figure size 432x288 with 1 Axes>"
      ]
     },
     "metadata": {},
     "output_type": "display_data"
    }
   ],
   "source": [
    "plt.imshow(NET[\"C_l1\"][:,:,0])"
   ]
  },
  {
   "cell_type": "code",
   "execution_count": 282,
   "metadata": {},
   "outputs": [],
   "source": [
    "NET[\"CA_l1\"] = ReLU(NET[\"C_l1\"])"
   ]
  },
  {
   "cell_type": "code",
   "execution_count": 283,
   "metadata": {},
   "outputs": [
    {
     "data": {
      "text/plain": [
       "<matplotlib.image.AxesImage at 0x1f83834a390>"
      ]
     },
     "execution_count": 283,
     "metadata": {},
     "output_type": "execute_result"
    },
    {
     "data": {
      "image/png": "[encoded data removed]",
      "text/plain": [
       "<Figure size 432x288 with 1 Axes>"
      ]
     },
     "metadata": {},
     "output_type": "display_data"
    }
   ],
   "source": [
    "plt.imshow(NET[\"CA_l1\"][:,:,0])"
   ]
  },
  {
   "cell_type": "code",
   "execution_count": 284,
   "metadata": {},
   "outputs": [
    {
     "name": "stdout",
     "output_type": "stream",
     "text": [
      "(12, 12, 3)\n"
     ]
    }
   ],
   "source": [
    "NET[\"P_l1\"] = pool_forward(NET[\"CA_l1\"])\n",
    "print(NET[\"P_l1\"].shape)"
   ]
  },
  {
   "cell_type": "code",
   "execution_count": 285,
   "metadata": {},
   "outputs": [
    {
     "data": {
      "text/plain": [
       "<matplotlib.image.AxesImage at 0x1f83837bd68>"
      ]
     },
     "execution_count": 285,
     "metadata": {},
     "output_type": "execute_result"
    },
    {
     "data": {
      "image/png": "[encoded data removed]",
      "text/plain": [
       "<Figure size 432x288 with 1 Axes>"
      ]
     },
     "metadata": {},
     "output_type": "display_data"
    }
   ],
   "source": [
    "plt.imshow(NET[\"P_l1\"][:,:,0])"
   ]
  },
  {
   "cell_type": "code",
   "execution_count": 286,
   "metadata": {},
   "outputs": [
    {
     "data": {
      "text/plain": [
       "(10, 10, 4)"
      ]
     },
     "execution_count": 286,
     "metadata": {},
     "output_type": "execute_result"
    }
   ],
   "source": [
    "NET[\"C_l2\"] = conv_forward(NET[\"P_l1\"], NET[\"K_l2\"])\n",
    "NET[\"C_l2\"].shape"
   ]
  },
  {
   "cell_type": "code",
   "execution_count": 287,
   "metadata": {},
   "outputs": [
    {
     "data": {
      "text/plain": [
       "<matplotlib.image.AxesImage at 0x1f8383afc18>"
      ]
     },
     "execution_count": 287,
     "metadata": {},
     "output_type": "execute_result"
    },
    {
     "data": {
      "image/png": "[encoded data removed]",
      "text/plain": [
       "<Figure size 432x288 with 1 Axes>"
      ]
     },
     "metadata": {},
     "output_type": "display_data"
    }
   ],
   "source": [
    "plt.imshow(NET[\"C_l2\"][:,:,0])"
   ]
  },
  {
   "cell_type": "code",
   "execution_count": 288,
   "metadata": {},
   "outputs": [],
   "source": [
    "NET[\"CA_l2\"] = ReLU(NET[\"C_l2\"])"
   ]
  },
  {
   "cell_type": "code",
   "execution_count": 289,
   "metadata": {},
   "outputs": [
    {
     "data": {
      "text/plain": [
       "<matplotlib.image.AxesImage at 0x1f8383e4f28>"
      ]
     },
     "execution_count": 289,
     "metadata": {},
     "output_type": "execute_result"
    },
    {
     "data": {
      "image/png": "[encoded data removed]",
      "text/plain": [
       "<Figure size 432x288 with 1 Axes>"
      ]
     },
     "metadata": {},
     "output_type": "display_data"
    }
   ],
   "source": [
    "plt.imshow(NET[\"CA_l2\"][:,:,0])"
   ]
  },
  {
   "cell_type": "code",
   "execution_count": 290,
   "metadata": {},
   "outputs": [
    {
     "name": "stdout",
     "output_type": "stream",
     "text": [
      "(5, 5, 4)\n"
     ]
    }
   ],
   "source": [
    "NET[\"P_l2\"] = pool_forward(NET[\"CA_l2\"])\n",
    "print(NET[\"P_l2\"].shape)"
   ]
  },
  {
   "cell_type": "code",
   "execution_count": 291,
   "metadata": {},
   "outputs": [
    {
     "data": {
      "text/plain": [
       "<matplotlib.image.AxesImage at 0x1f83841a400>"
      ]
     },
     "execution_count": 291,
     "metadata": {},
     "output_type": "execute_result"
    },
    {
     "data": {
      "image/png": "[encoded data removed]",
      "text/plain": [
       "<Figure size 432x288 with 1 Axes>"
      ]
     },
     "metadata": {},
     "output_type": "display_data"
    }
   ],
   "source": [
    "plt.imshow(NET[\"P_l2\"][:,:,0])"
   ]
  },
  {
   "cell_type": "code",
   "execution_count": 292,
   "metadata": {},
   "outputs": [
    {
     "name": "stdout",
     "output_type": "stream",
     "text": [
      "(100, 1)\n"
     ]
    }
   ],
   "source": [
    "NET[\"F_l3\"] = NET[\"P_l2\"].reshape(NET[\"P_l2\"].shape[0]*NET[\"P_l2\"].shape[1]*NET[\"P_l2\"].shape[2], 1)\n",
    "print(NET[\"F_l3\"].shape)"
   ]
  },
  {
   "cell_type": "code",
   "execution_count": 293,
   "metadata": {},
   "outputs": [],
   "source": [
    "NET = feedForward(NET, NET[\"F_l3\"])"
   ]
  },
  {
   "cell_type": "code",
   "execution_count": 294,
   "metadata": {},
   "outputs": [
    {
     "name": "stdout",
     "output_type": "stream",
     "text": [
      "0.4527832767957703\n"
     ]
    }
   ],
   "source": [
    "cost = CostCalculation(1, NET[\"AL\"+str(2)], np.array(encoded_train_Y[:, 0]).reshape(10,1))\n",
    "print(np.sum(cost))"
   ]
  },
  {
   "cell_type": "code",
   "execution_count": 295,
   "metadata": {},
   "outputs": [
    {
     "name": "stdout",
     "output_type": "stream",
     "text": [
      "(10, 50)\n",
      "(10, 1)\n",
      "(10, 1)\n"
     ]
    }
   ],
   "source": [
    "print(NET[\"W\"+str(2)].shape)\n",
    "print(NET[\"b\"+str(2)].shape)\n",
    "print(NET[\"AL\"+str(2)].shape)\n"
   ]
  },
  {
   "cell_type": "markdown",
   "metadata": {},
   "source": [
    "## Back Prop for 1 example"
   ]
  },
  {
   "cell_type": "code",
   "execution_count": 296,
   "metadata": {},
   "outputs": [],
   "source": [
    "encoded_Y = np.array(encoded_train_Y[:, 0]).reshape(10,1)\n",
    "gradients = {}\n",
    "no_of_layers = NET[\"no_of_layers\"]\n",
    "\n",
    "m = encoded_Y.shape[1]\n",
    "W = NET[\"W\"+str(no_of_layers)]\n",
    "b = NET[\"b\"+str(no_of_layers)]\n",
    "Z = NET[\"ZL\"+str(no_of_layers)]\n",
    "A = NET[\"AL\"+str(no_of_layers)]\n",
    "    \n",
    "dZ = (A - encoded_Y) * (A*(1-A))\n",
    "    \n",
    "dW = (1/m)*(np.dot(dZ, NET[\"AL\"+str(no_of_layers-1)].T))\n",
    "db = (1/m)*(np.sum(dZ, axis = 1, keepdims = True))\n",
    "gradients[\"dW\"+str(no_of_layers)] = dW\n",
    "gradients[\"db\"+str(no_of_layers)] = db\n",
    "    \n",
    "for i in range(1, no_of_layers-1):\n",
    "    dZ = np.dot(NET[\"W\"+str(no_of_layers -i+1)].T, dZ) * (NET[\"AL\"+str(no_of_layers -i)] - (NET[\"AL\"+str(no_of_layers -i)]*NET[\"AL\"+str(no_of_layers -i)]))\n",
    "    dW = (1/m)*(np.dot(dZ, NET[\"AL\"+str(no_of_layers -i-1)].T))\n",
    "    db = (1/m)*(np.sum(dZ, axis = 1, keepdims = True))\n",
    "    gradients[\"dW\"+str(no_of_layers -i)] = dW\n",
    "    gradients[\"db\"+str(no_of_layers -i)] = db\n",
    "    \n",
    "i = no_of_layers - 1    \n",
    "dZ = np.dot(NET[\"W\"+str(no_of_layers -i+1)].T, dZ) * (NET[\"AL\"+str(no_of_layers -i)] - (NET[\"AL\"+str(no_of_layers -i)]*NET[\"AL\"+str(no_of_layers -i)]))\n",
    "dW = (1/m)*(np.dot(dZ, NET[\"X\"].T))\n",
    "db = (1/m)*(np.sum(dZ, axis = 1, keepdims = True))\n",
    "gradients[\"dW\"+str(no_of_layers -i)] = dW\n",
    "gradients[\"db\"+str(no_of_layers -i)] = db"
   ]
  },
  {
   "cell_type": "code",
   "execution_count": 297,
   "metadata": {},
   "outputs": [
    {
     "data": {
      "text/plain": [
       "{'dW1': array([[ 1.08221787e-05,  8.59454418e-07,  1.16941208e-06, ...,\n",
       "          0.00000000e+00,  1.13571585e-05,  4.28245561e-06],\n",
       "        [ 1.44491640e-05,  1.14749518e-06,  1.56133320e-06, ...,\n",
       "          0.00000000e+00,  1.51634390e-05,  5.71769374e-06],\n",
       "        [-6.63683230e-06, -5.27070842e-07, -7.17156133e-07, ...,\n",
       "          0.00000000e+00, -6.96491515e-06, -2.62626782e-06],\n",
       "        ...,\n",
       "        [-3.18648171e-06, -2.53057712e-07, -3.44321628e-07, ...,\n",
       "          0.00000000e+00, -3.34400113e-06, -1.26092599e-06],\n",
       "        [-1.84553291e-06, -1.46564888e-07, -1.99422734e-07, ...,\n",
       "          0.00000000e+00, -1.93676434e-06, -7.30297748e-07],\n",
       "        [ 1.78550265e-05,  1.41797524e-06,  1.92936045e-06, ...,\n",
       "          0.00000000e+00,  1.87376657e-05,  7.06543113e-06]]),\n",
       " 'dW2': array([[ 0.00491255,  0.0049295 ,  0.00494216,  0.00491496,  0.00489975,\n",
       "          0.00490361,  0.00491482,  0.00490077,  0.00492118,  0.00490481,\n",
       "          0.00493099,  0.00487214,  0.00491317,  0.00490406,  0.00492493,\n",
       "          0.00491738,  0.00492306,  0.00493393,  0.00490531,  0.00497169,\n",
       "          0.00491231,  0.00489991,  0.00488452,  0.00491203,  0.00493977,\n",
       "          0.00490261,  0.00485849,  0.00487702,  0.00490657,  0.00491681,\n",
       "          0.00491548,  0.00485612,  0.00492354,  0.00492739,  0.00490173,\n",
       "          0.00495654,  0.00487877,  0.0049316 ,  0.00492055,  0.00491633,\n",
       "          0.00493601,  0.0048859 ,  0.00490115,  0.0048994 ,  0.0049457 ,\n",
       "          0.00492334,  0.00490816,  0.00492097,  0.00495106,  0.00491227],\n",
       "        [ 0.00470239,  0.00471861,  0.00473073,  0.00470469,  0.00469014,\n",
       "          0.00469383,  0.00470457,  0.00469112,  0.00471066,  0.00469498,\n",
       "          0.00472004,  0.00466371,  0.00470298,  0.00469426,  0.00471424,\n",
       "          0.00470701,  0.00471245,  0.00472286,  0.00469546,  0.004759  ,\n",
       "          0.00470216,  0.00469029,  0.00467556,  0.0047019 ,  0.00472844,\n",
       "          0.00469288,  0.00465064,  0.00466838,  0.00469666,  0.00470647,\n",
       "          0.00470519,  0.00464838,  0.00471291,  0.0047166 ,  0.00469204,\n",
       "          0.0047445 ,  0.00467006,  0.00472063,  0.00471005,  0.00470601,\n",
       "          0.00472485,  0.00467688,  0.00469148,  0.0046898 ,  0.00473412,\n",
       "          0.00471272,  0.00469819,  0.00471045,  0.00473926,  0.00470213],\n",
       "        [ 0.00465909,  0.00467516,  0.00468716,  0.00466137,  0.00464694,\n",
       "          0.0046506 ,  0.00466124,  0.00464792,  0.00466727,  0.00465175,\n",
       "          0.00467658,  0.00462076,  0.00465967,  0.00465103,  0.00467083,\n",
       "          0.00466367,  0.00466906,  0.00467936,  0.00465222,  0.00471517,\n",
       "          0.00465886,  0.0046471 ,  0.0046325 ,  0.0046586 ,  0.0046849 ,\n",
       "          0.00464966,  0.00460781,  0.00462539,  0.00465341,  0.00466313,\n",
       "          0.00466186,  0.00460557,  0.00466951,  0.00467316,  0.00464883,\n",
       "          0.0047008 ,  0.00462705,  0.00467715,  0.00466667,  0.00466267,\n",
       "          0.00468134,  0.00463381,  0.00464828,  0.00464661,  0.00469052,\n",
       "          0.00466932,  0.00465492,  0.00466708,  0.00469561,  0.00465882],\n",
       "        [ 0.0044601 ,  0.00447549,  0.00448698,  0.00446229,  0.00444848,\n",
       "          0.00445198,  0.00446216,  0.00444941,  0.00446794,  0.00445307,\n",
       "          0.00447684,  0.00442341,  0.00446066,  0.00445239,  0.00447134,\n",
       "          0.00446448,  0.00446964,  0.00447951,  0.00445353,  0.00451379,\n",
       "          0.00445988,  0.00444862,  0.00443465,  0.00445963,  0.00448481,\n",
       "          0.00445108,  0.00441102,  0.00442785,  0.00445467,  0.00446397,\n",
       "          0.00446276,  0.00440887,  0.00447008,  0.00447357,  0.00445028,\n",
       "          0.00450003,  0.00442944,  0.0044774 ,  0.00446736,  0.00446353,\n",
       "          0.0044814 ,  0.00443591,  0.00444975,  0.00444816,  0.0044902 ,\n",
       "          0.0044699 ,  0.00445611,  0.00446775,  0.00449507,  0.00445985],\n",
       "        [ 0.00406856,  0.00408259,  0.00409307,  0.00407055,  0.00405795,\n",
       "          0.00406115,  0.00407044,  0.0040588 ,  0.00407571,  0.00406214,\n",
       "          0.00408383,  0.00403509,  0.00406907,  0.00406152,  0.00407881,\n",
       "          0.00407255,  0.00407726,  0.00408626,  0.00406256,  0.00411753,\n",
       "          0.00406836,  0.00405809,  0.00404534,  0.00406813,  0.00409109,\n",
       "          0.00406032,  0.00402378,  0.00403913,  0.0040636 ,  0.00407208,\n",
       "          0.00407098,  0.00402182,  0.00407766,  0.00408085,  0.00405959,\n",
       "          0.00410498,  0.00404058,  0.00408433,  0.00407518,  0.00407169,\n",
       "          0.00408799,  0.00404649,  0.00405912,  0.00405766,  0.00409601,\n",
       "          0.00407749,  0.00406492,  0.00407553,  0.00410045,  0.00406833],\n",
       "        [-0.03963893, -0.03977567, -0.0398778 , -0.03965833, -0.03953561,\n",
       "         -0.03956674, -0.03965724, -0.03954388, -0.03970858, -0.03957646,\n",
       "         -0.03978772, -0.03931283, -0.03964391, -0.03957038, -0.03973881,\n",
       "         -0.03967787, -0.03972373, -0.03981142, -0.03958051, -0.0401161 ,\n",
       "         -0.03963699, -0.03953692, -0.03941273, -0.03963473, -0.03985852,\n",
       "         -0.03955871, -0.0392027 , -0.03935224, -0.03959064, -0.0396733 ,\n",
       "         -0.03966254, -0.03918358, -0.0397276 , -0.03975866, -0.03955162,\n",
       "         -0.03999383, -0.03936638, -0.03979264, -0.03970347, -0.03966943,\n",
       "         -0.03982822, -0.0394239 , -0.03954696, -0.03953278, -0.03990639,\n",
       "         -0.03972597, -0.03960346, -0.03970688, -0.03994969, -0.03963669],\n",
       "        [ 0.00445111,  0.00446646,  0.00447793,  0.00445329,  0.00443951,\n",
       "          0.004443  ,  0.00445316,  0.00444044,  0.00445893,  0.00444409,\n",
       "          0.00446782,  0.00441449,  0.00445167,  0.00444341,  0.00446232,\n",
       "          0.00445548,  0.00446063,  0.00447048,  0.00444455,  0.00450469,\n",
       "          0.00445089,  0.00443965,  0.00442571,  0.00445064,  0.00447577,\n",
       "          0.0044421 ,  0.00440212,  0.00441892,  0.00444569,  0.00445497,\n",
       "          0.00445376,  0.00439998,  0.00446107,  0.00446455,  0.0044413 ,\n",
       "          0.00449096,  0.0044205 ,  0.00446837,  0.00445836,  0.00445453,\n",
       "          0.00447236,  0.00442696,  0.00444078,  0.00443919,  0.00448114,\n",
       "          0.00446088,  0.00444713,  0.00445874,  0.004486  ,  0.00445086],\n",
       "        [ 0.00465282,  0.00466887,  0.00468086,  0.0046551 ,  0.00464069,\n",
       "          0.00464435,  0.00465497,  0.00464166,  0.004661  ,  0.00464549,\n",
       "          0.00467029,  0.00461454,  0.00465341,  0.00464478,  0.00466455,\n",
       "          0.00465739,  0.00466278,  0.00467307,  0.00464597,  0.00470883,\n",
       "          0.00465259,  0.00464085,  0.00462627,  0.00465233,  0.0046786 ,\n",
       "          0.00464341,  0.00460162,  0.00461917,  0.00464715,  0.00465686,\n",
       "          0.00465559,  0.00459937,  0.00466323,  0.00466688,  0.00464257,\n",
       "          0.00469448,  0.00462083,  0.00467086,  0.0046604 ,  0.0046564 ,\n",
       "          0.00467504,  0.00462758,  0.00464203,  0.00464036,  0.00468422,\n",
       "          0.00466304,  0.00464866,  0.0046608 ,  0.0046893 ,  0.00465256],\n",
       "        [ 0.00430801,  0.00432287,  0.00433397,  0.00431011,  0.00429678,\n",
       "          0.00430016,  0.00431   ,  0.00429768,  0.00431558,  0.00430122,\n",
       "          0.00432418,  0.00427257,  0.00430855,  0.00430056,  0.00431886,\n",
       "          0.00431224,  0.00431722,  0.00432675,  0.00430166,  0.00435986,\n",
       "          0.00430779,  0.00429692,  0.00428342,  0.00430755,  0.00433187,\n",
       "          0.00429929,  0.0042606 ,  0.00427685,  0.00430276,  0.00431174,\n",
       "          0.00431057,  0.00425852,  0.00431764,  0.00432102,  0.00429852,\n",
       "          0.00434658,  0.00427838,  0.00432471,  0.00431502,  0.00431132,\n",
       "          0.00432858,  0.00428464,  0.00429801,  0.00429647,  0.00433707,\n",
       "          0.00431747,  0.00430415,  0.00431539,  0.00434178,  0.00430776],\n",
       "        [ 0.00455299,  0.0045687 ,  0.00458043,  0.00455522,  0.00454113,\n",
       "          0.0045447 ,  0.0045551 ,  0.00454208,  0.004561  ,  0.00454582,\n",
       "          0.00457009,  0.00451554,  0.00455357,  0.00454512,  0.00456447,\n",
       "          0.00455747,  0.00456274,  0.00457281,  0.00454629,  0.0046078 ,\n",
       "          0.00455277,  0.00454128,  0.00452701,  0.00455251,  0.00457822,\n",
       "          0.00454378,  0.00450289,  0.00452007,  0.00454745,  0.00455694,\n",
       "          0.00455571,  0.00450069,  0.00456318,  0.00456675,  0.00454297,\n",
       "          0.00459376,  0.00452169,  0.00457065,  0.00456041,  0.0045565 ,\n",
       "          0.00457474,  0.0045283 ,  0.00454243,  0.0045408 ,  0.00458372,\n",
       "          0.00456299,  0.00454892,  0.0045608 ,  0.00458869,  0.00455274]]),\n",
       " 'db1': array([[ 2.46482243e-04],\n",
       "        [ 3.29089221e-04],\n",
       "        [-1.51158224e-04],\n",
       "        [-2.26608675e-04],\n",
       "        [ 8.18710942e-04],\n",
       "        [-4.30292461e-04],\n",
       "        [ 8.42223723e-05],\n",
       "        [ 2.51447230e-05],\n",
       "        [-2.89234918e-05],\n",
       "        [-2.18812641e-04],\n",
       "        [ 1.22340443e-04],\n",
       "        [ 3.17476854e-04],\n",
       "        [-2.34799655e-04],\n",
       "        [ 1.48895235e-05],\n",
       "        [-1.36439811e-04],\n",
       "        [ 2.75118743e-05],\n",
       "        [ 4.43056601e-05],\n",
       "        [ 2.07031879e-04],\n",
       "        [ 1.20674723e-04],\n",
       "        [ 3.70985318e-04],\n",
       "        [ 7.97173677e-05],\n",
       "        [-7.89642382e-05],\n",
       "        [-1.80068900e-04],\n",
       "        [-5.89100962e-05],\n",
       "        [ 4.83330859e-05],\n",
       "        [ 2.21995663e-04],\n",
       "        [ 3.77528836e-06],\n",
       "        [-2.01030575e-04],\n",
       "        [-8.50763464e-05],\n",
       "        [ 4.94589700e-05],\n",
       "        [-6.82331153e-05],\n",
       "        [-1.68117812e-04],\n",
       "        [ 3.97850489e-05],\n",
       "        [-1.26251047e-05],\n",
       "        [-1.37786096e-04],\n",
       "        [-8.62595379e-06],\n",
       "        [ 2.14868488e-04],\n",
       "        [-4.39749495e-04],\n",
       "        [ 3.37256431e-05],\n",
       "        [ 4.21252800e-04],\n",
       "        [-1.39231009e-04],\n",
       "        [ 6.34194926e-05],\n",
       "        [ 7.26672177e-05],\n",
       "        [-2.87312979e-04],\n",
       "        [ 6.24418207e-05],\n",
       "        [ 3.08839635e-04],\n",
       "        [-5.94416047e-05],\n",
       "        [-7.25742181e-05],\n",
       "        [-4.20332266e-05],\n",
       "        [ 4.06659980e-04]]),\n",
       " 'db2': array([[ 0.00982257],\n",
       "        [ 0.00940236],\n",
       "        [ 0.00931578],\n",
       "        [ 0.00891791],\n",
       "        [ 0.00813502],\n",
       "        [-0.07925744],\n",
       "        [ 0.00889992],\n",
       "        [ 0.00930325],\n",
       "        [ 0.00861379],\n",
       "        [ 0.00910364]])}"
      ]
     },
     "execution_count": 297,
     "metadata": {},
     "output_type": "execute_result"
    }
   ],
   "source": [
    "gradients"
   ]
  },
  {
   "cell_type": "code",
   "execution_count": 298,
   "metadata": {},
   "outputs": [
    {
     "name": "stdout",
     "output_type": "stream",
     "text": [
      "(100, 1)\n"
     ]
    }
   ],
   "source": [
    "NET[\"dF_l3\"] = np.dot(NET[\"W1\"].T, dZ)\n",
    "print(NET[\"dF_l3\"].shape)"
   ]
  },
  {
   "cell_type": "code",
   "execution_count": 299,
   "metadata": {},
   "outputs": [
    {
     "name": "stdout",
     "output_type": "stream",
     "text": [
      "(5, 5, 4)\n"
     ]
    }
   ],
   "source": [
    "NET[\"dP_l2\"] = NET[\"dF_l3\"].reshape((NET[\"P_l2\"].shape))\n",
    "print(NET[\"dP_l2\"].shape)"
   ]
  },
  {
   "cell_type": "code",
   "execution_count": 300,
   "metadata": {},
   "outputs": [
    {
     "name": "stdout",
     "output_type": "stream",
     "text": [
      "(10, 10, 4)\n"
     ]
    }
   ],
   "source": [
    "NET[\"dCA_l2\"] = np.zeros((NET[\"CA_l2\"].shape))\n",
    "\n",
    "for c in range(0, NET[\"dCA_l2\"].shape[2]):\n",
    "    for i in range(0, NET[\"dCA_l2\"].shape[0]):\n",
    "        for j in range(0, NET[\"dCA_l2\"].shape[1]):\n",
    "            NET[\"dCA_l2\"][i, j, c] = (1/4)*(NET[\"dP_l2\"][int(i/2), int(j/2), c])\n",
    "\n",
    "print(NET[\"dCA_l2\"].shape)"
   ]
  },
  {
   "cell_type": "code",
   "execution_count": 301,
   "metadata": {},
   "outputs": [
    {
     "data": {
      "text/plain": [
       "<matplotlib.image.AxesImage at 0x1f83844c1d0>"
      ]
     },
     "execution_count": 301,
     "metadata": {},
     "output_type": "execute_result"
    },
    {
     "data": {
      "image/png": "[encoded data removed]",
      "text/plain": [
       "<Figure size 432x288 with 1 Axes>"
      ]
     },
     "metadata": {},
     "output_type": "display_data"
    }
   ],
   "source": [
    "plt.imshow(NET[\"dCA_l2\"][:,:,0])"
   ]
  },
  {
   "cell_type": "code",
   "execution_count": 302,
   "metadata": {},
   "outputs": [
    {
     "name": "stdout",
     "output_type": "stream",
     "text": [
      "(10, 10, 4)\n"
     ]
    }
   ],
   "source": [
    "NET[\"dC_l2\"] = ReLU_derivative(NET[\"C_l2\"])\n",
    "print(NET[\"dC_l2\"].shape)"
   ]
  },
  {
   "cell_type": "code",
   "execution_count": 303,
   "metadata": {},
   "outputs": [
    {
     "data": {
      "text/plain": [
       "<matplotlib.image.AxesImage at 0x1f838486780>"
      ]
     },
     "execution_count": 303,
     "metadata": {},
     "output_type": "execute_result"
    },
    {
     "data": {
      "image/png": "[encoded data removed]",
      "text/plain": [
       "<Figure size 432x288 with 1 Axes>"
      ]
     },
     "metadata": {},
     "output_type": "display_data"
    }
   ],
   "source": [
    "plt.imshow(NET[\"dC_l2\"][:,:,0])"
   ]
  },
  {
   "cell_type": "code",
   "execution_count": 319,
   "metadata": {},
   "outputs": [
    {
     "ename": "ValueError",
     "evalue": "For 'valid' mode, one must be at least as large as the other in every dimension",
     "output_type": "error",
     "traceback": [
      "\u001b[1;31m---------------------------------------------------------------------------\u001b[0m",
      "\u001b[1;31mValueError\u001b[0m                                Traceback (most recent call last)",
      "\u001b[1;32m<ipython-input-319-4d25d177918b>\u001b[0m in \u001b[0;36m<module>\u001b[1;34m()\u001b[0m\n\u001b[1;32m----> 1\u001b[1;33m \u001b[0mNET\u001b[0m\u001b[1;33m[\u001b[0m\u001b[1;34m\"dk_l2\"\u001b[0m\u001b[1;33m]\u001b[0m \u001b[1;33m=\u001b[0m \u001b[0msignal\u001b[0m\u001b[1;33m.\u001b[0m\u001b[0mconvolve\u001b[0m\u001b[1;33m(\u001b[0m\u001b[0mNET\u001b[0m\u001b[1;33m[\u001b[0m\u001b[1;34m\"P_l1\"\u001b[0m\u001b[1;33m]\u001b[0m\u001b[1;33m,\u001b[0m \u001b[0mNET\u001b[0m\u001b[1;33m[\u001b[0m\u001b[1;34m\"dC_l2\"\u001b[0m\u001b[1;33m]\u001b[0m\u001b[1;33m,\u001b[0m \u001b[0mmode\u001b[0m \u001b[1;33m=\u001b[0m \u001b[1;34m'valid'\u001b[0m\u001b[1;33m)\u001b[0m\u001b[1;33m\u001b[0m\u001b[0m\n\u001b[0m\u001b[0;32m      2\u001b[0m \u001b[0mprint\u001b[0m\u001b[1;33m(\u001b[0m\u001b[0mNET\u001b[0m\u001b[1;33m[\u001b[0m\u001b[1;34m\"dk_l2\"\u001b[0m\u001b[1;33m]\u001b[0m\u001b[1;33m.\u001b[0m\u001b[0mshape\u001b[0m\u001b[1;33m)\u001b[0m\u001b[1;33m\u001b[0m\u001b[0m\n",
      "\u001b[1;32m~\\AppData\\Roaming\\Python\\Python35\\site-packages\\scipy\\signal\\signaltools.py\u001b[0m in \u001b[0;36mconvolve\u001b[1;34m(in1, in2, mode, method)\u001b[0m\n\u001b[0;32m    757\u001b[0m         \u001b[1;32mreturn\u001b[0m \u001b[0mvolume\u001b[0m \u001b[1;33m*\u001b[0m \u001b[0mkernel\u001b[0m\u001b[1;33m\u001b[0m\u001b[0m\n\u001b[0;32m    758\u001b[0m \u001b[1;33m\u001b[0m\u001b[0m\n\u001b[1;32m--> 759\u001b[1;33m     \u001b[1;32mif\u001b[0m \u001b[0m_inputs_swap_needed\u001b[0m\u001b[1;33m(\u001b[0m\u001b[0mmode\u001b[0m\u001b[1;33m,\u001b[0m \u001b[0mvolume\u001b[0m\u001b[1;33m.\u001b[0m\u001b[0mshape\u001b[0m\u001b[1;33m,\u001b[0m \u001b[0mkernel\u001b[0m\u001b[1;33m.\u001b[0m\u001b[0mshape\u001b[0m\u001b[1;33m)\u001b[0m\u001b[1;33m:\u001b[0m\u001b[1;33m\u001b[0m\u001b[0m\n\u001b[0m\u001b[0;32m    760\u001b[0m         \u001b[1;31m# Convolution is commutative; order doesn't have any effect on output\u001b[0m\u001b[1;33m\u001b[0m\u001b[1;33m\u001b[0m\u001b[0m\n\u001b[0;32m    761\u001b[0m         \u001b[0mvolume\u001b[0m\u001b[1;33m,\u001b[0m \u001b[0mkernel\u001b[0m \u001b[1;33m=\u001b[0m \u001b[0mkernel\u001b[0m\u001b[1;33m,\u001b[0m \u001b[0mvolume\u001b[0m\u001b[1;33m\u001b[0m\u001b[0m\n",
      "\u001b[1;32m~\\AppData\\Roaming\\Python\\Python35\\site-packages\\scipy\\signal\\signaltools.py\u001b[0m in \u001b[0;36m_inputs_swap_needed\u001b[1;34m(mode, shape1, shape2)\u001b[0m\n\u001b[0;32m    101\u001b[0m \u001b[1;33m\u001b[0m\u001b[0m\n\u001b[0;32m    102\u001b[0m         \u001b[1;32mif\u001b[0m \u001b[1;32mnot\u001b[0m \u001b[1;33m(\u001b[0m\u001b[0mok1\u001b[0m \u001b[1;32mor\u001b[0m \u001b[0mok2\u001b[0m\u001b[1;33m)\u001b[0m\u001b[1;33m:\u001b[0m\u001b[1;33m\u001b[0m\u001b[0m\n\u001b[1;32m--> 103\u001b[1;33m             raise ValueError(\"For 'valid' mode, one must be at least \"\n\u001b[0m\u001b[0;32m    104\u001b[0m                              \"as large as the other in every dimension\")\n\u001b[0;32m    105\u001b[0m \u001b[1;33m\u001b[0m\u001b[0m\n",
      "\u001b[1;31mValueError\u001b[0m: For 'valid' mode, one must be at least as large as the other in every dimension"
     ]
    }
   ],
   "source": [
    "NET[\"dk_l2\"] = signal.convolve(NET[\"P_l1\"], NET[\"dC_l2\"], mode = 'valid')\n",
    "print(NET[\"dk_l2\"].shape)"
   ]
  },
  {
   "cell_type": "code",
   "execution_count": null,
   "metadata": {},
   "outputs": [],
   "source": []
  },
  {
   "cell_type": "code",
   "execution_count": null,
   "metadata": {},
   "outputs": [],
   "source": []
  }
 ],
 "metadata": {
  "kernelspec": {
   "display_name": "Python 3",
   "language": "python",
   "name": "python3"
  },
  "language_info": {
   "codemirror_mode": {
    "name": "ipython",
    "version": 3
   },
   "file_extension": ".py",
   "mimetype": "text/x-python",
   "name": "python",
   "nbconvert_exporter": "python",
   "pygments_lexer": "ipython3",
   "version": "3.5.2"
  }
 },
 "nbformat": 4,
 "nbformat_minor": 2
}
