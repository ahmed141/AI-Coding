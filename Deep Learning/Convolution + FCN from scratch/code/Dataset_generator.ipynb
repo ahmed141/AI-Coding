{
 "cells": [
  {
   "cell_type": "code",
   "execution_count": 1,
   "metadata": {},
   "outputs": [
    {
     "name": "stderr",
     "output_type": "stream",
     "text": [
      "c:\\program files\\python35\\lib\\site-packages\\h5py\\__init__.py:36: FutureWarning: Conversion of the second argument of issubdtype from `float` to `np.floating` is deprecated. In future, it will be treated as `np.float64 == np.dtype(float).type`.\n",
      "  from ._conv import register_converters as _register_converters\n",
      "Using TensorFlow backend.\n"
     ]
    }
   ],
   "source": [
    "import numpy as np\n",
    "import random\n",
    "import matplotlib.pyplot as plt\n",
    "import imageio\n",
    "import glob\n",
    "import os\n",
    "\n",
    "from keras.utils import to_categorical #for one hot encoding\n",
    "\n",
    "#To make it compatible with jupyter notebook\n",
    "%matplotlib inline\n",
    "# Fixing random state for reproducibility\n",
    "np.random.seed(1)"
   ]
  },
  {
   "cell_type": "code",
   "execution_count": 2,
   "metadata": {},
   "outputs": [],
   "source": [
    "def load_dataset(path_to_dataset):\n",
    "    '''\n",
    "    return = train_set_x, train_set_y, test_set_x, test_set_y\n",
    "    '''\n",
    "    \n",
    "    train_data_path = str(path_to_dataset) + \"/train/\"\n",
    "    test_data_path = str(path_to_dataset) + \"/test/\"\n",
    "\n",
    "    #for Train folder\n",
    "    Train_X = []\n",
    "    Train_X_paths = []\n",
    "    Train_Y = []\n",
    "\n",
    "    for i in range(0, 10):\n",
    "        curr_dir = train_data_path + str(i) + \"/*.png\"\n",
    "        filename = None\n",
    "        img = None\n",
    "\n",
    "        for filename in glob.glob(curr_dir):\n",
    "            img = imageio.imread(filename)\n",
    "            Train_X.append(img)\n",
    "            Train_X_paths.append(filename)\n",
    "            Train_Y.append(i)\n",
    "    \n",
    "    #for test folder\n",
    "    Test_X = []\n",
    "    Test_X_paths = []\n",
    "    Test_Y = []\n",
    "\n",
    "    for i in range(0, 10):\n",
    "        curr_dir = test_data_path + str(i) + \"/*.png\"\n",
    "        filename = None\n",
    "        img = None\n",
    "\n",
    "        for filename in glob.glob(curr_dir):\n",
    "            img = imageio.imread(filename)\n",
    "            Test_X.append(img)\n",
    "            Test_X_paths.append(filename)\n",
    "            Test_Y.append(i)\n",
    "\n",
    "    #list to ndarray\n",
    "    train_set_x = np.array(Train_X)\n",
    "    train_set_y = np.array(Train_Y, ndmin=2)\n",
    "    train_set_y = train_set_y.T\n",
    "    \n",
    "    test_set_x = np.array(Test_X)\n",
    "    test_set_y = np.array(Test_Y, ndmin=2)\n",
    "    test_set_y = test_set_y.T\n",
    "\n",
    "    #shuffle the data\n",
    "    test = list(zip(train_set_x, train_set_y))\n",
    "    random.shuffle(test)\n",
    "    a, b = zip(*test)\n",
    "    \n",
    "    train_set_x = np.asarray(a)\n",
    "    train_set_y = np.asarray(b)\n",
    "    \n",
    "    train = list(zip(test_set_x, test_set_y))\n",
    "    random.shuffle(train)\n",
    "    a, b = zip(*train)\n",
    "    \n",
    "    test_set_x = np.asarray(a)\n",
    "    test_set_y = np.asarray(b)\n",
    "\n",
    "    return train_set_x, train_set_y, test_set_x, test_set_y"
   ]
  },
  {
   "cell_type": "code",
   "execution_count": 3,
   "metadata": {},
   "outputs": [],
   "source": [
    "if os.path.isfile(\"dataset.npz\"): \n",
    "    npzfile = np.load(\"dataset.npz\")\n",
    "    test_set_Y = npzfile['test_set_Y']\n",
    "    test_set_X = npzfile['test_set_X']\n",
    "    train_set_Y = npzfile['train_set_Y']\n",
    "    train_set_X = npzfile['train_set_X']\n",
    "else:\n",
    "    train_set_X, train_set_Y, test_set_X, test_set_Y = load_dataset(\"../data\")\n",
    "    np.savez(\"dataset.npz\", train_set_X = train_set_X, train_set_Y = train_set_Y, test_set_X = test_set_X, test_set_Y = test_set_Y)"
   ]
  },
  {
   "cell_type": "code",
   "execution_count": null,
   "metadata": {},
   "outputs": [],
   "source": []
  }
 ],
 "metadata": {
  "kernelspec": {
   "display_name": "Python 3",
   "language": "python",
   "name": "python3"
  },
  "language_info": {
   "codemirror_mode": {
    "name": "ipython",
    "version": 3
   },
   "file_extension": ".py",
   "mimetype": "text/x-python",
   "name": "python",
   "nbconvert_exporter": "python",
   "pygments_lexer": "ipython3",
   "version": "3.5.2"
  }
 },
 "nbformat": 4,
 "nbformat_minor": 2
}
