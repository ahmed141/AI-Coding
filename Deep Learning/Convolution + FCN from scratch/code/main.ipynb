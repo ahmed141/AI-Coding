{
 "cells": [
  {
   "cell_type": "code",
   "execution_count": 1,
   "metadata": {},
   "outputs": [
    {
     "name": "stderr",
     "output_type": "stream",
     "text": [
      "c:\\program files\\python35\\lib\\site-packages\\h5py\\__init__.py:36: FutureWarning: Conversion of the second argument of issubdtype from `float` to `np.floating` is deprecated. In future, it will be treated as `np.float64 == np.dtype(float).type`.\n",
      "  from ._conv import register_converters as _register_converters\n",
      "Using TensorFlow backend.\n"
     ]
    }
   ],
   "source": [
    "import numpy as np\n",
    "import random\n",
    "import matplotlib.pyplot as plt\n",
    "import imageio\n",
    "import glob\n",
    "import os\n",
    "import scipy.io\n",
    "\n",
    "from keras.utils import to_categorical #for one hot encoding\n",
    "\n",
    "#To make it compatible with jupyter notebook\n",
    "%matplotlib inline\n",
    "# Fixing random state for reproducibility\n",
    "np.random.seed(1)"
   ]
  },
  {
   "cell_type": "markdown",
   "metadata": {},
   "source": [
    "## Dataset Preparation:"
   ]
  },
  {
   "cell_type": "code",
   "execution_count": 2,
   "metadata": {},
   "outputs": [],
   "source": [
    "%run \"Dataset_generator.ipynb\""
   ]
  },
  {
   "cell_type": "code",
   "execution_count": 3,
   "metadata": {},
   "outputs": [
    {
     "name": "stdout",
     "output_type": "stream",
     "text": [
      "Train X shape: \t(60000, 28, 28)\n",
      "Train Y shape: \t(60000, 1)\n",
      "Test X shape: \t(10000, 28, 28)\n",
      "Test Y shape: \t(10000, 1)\n"
     ]
    }
   ],
   "source": [
    "def print_shapes_of_dataset():\n",
    "    print(\"Train X shape: \\t\" + str(train_set_X.shape))  #can make (60000, 28, 28, 1) but i think there is no need\n",
    "    print(\"Train Y shape: \\t\" + str(train_set_Y.shape))\n",
    "    print(\"Test X shape: \\t\" + str(test_set_X.shape))\n",
    "    print(\"Test Y shape: \\t\" + str(test_set_Y.shape))\n",
    "print_shapes_of_dataset()"
   ]
  },
  {
   "cell_type": "code",
   "execution_count": 4,
   "metadata": {},
   "outputs": [],
   "source": [
    "train_set_Y = train_set_Y.T\n",
    "test_set_Y = test_set_Y.T"
   ]
  },
  {
   "cell_type": "code",
   "execution_count": 5,
   "metadata": {},
   "outputs": [
    {
     "name": "stdout",
     "output_type": "stream",
     "text": [
      "Train X shape: \t(60000, 28, 28)\n",
      "Train Y shape: \t(1, 60000)\n",
      "Test X shape: \t(10000, 28, 28)\n",
      "Test Y shape: \t(1, 10000)\n"
     ]
    }
   ],
   "source": [
    "print_shapes_of_dataset()"
   ]
  },
  {
   "cell_type": "code",
   "execution_count": 6,
   "metadata": {},
   "outputs": [
    {
     "name": "stdout",
     "output_type": "stream",
     "text": [
      "Label: \t7\n"
     ]
    },
    {
     "data": {
      "image/png": "[encoded data removed]",
      "text/plain": [
       "<Figure size 432x288 with 1 Axes>"
      ]
     },
     "metadata": {},
     "output_type": "display_data"
    }
   ],
   "source": [
    "def visualize_img_from_trainset (index = 30800):\n",
    "    print(\"Label: \\t\" + str(train_set_Y[0, index]))\n",
    "    plt.imshow(train_set_X[index])\n",
    "visualize_img_from_trainset (index = 30800)"
   ]
  },
  {
   "cell_type": "markdown",
   "metadata": {},
   "source": [
    "## Loading Filters"
   ]
  },
  {
   "cell_type": "code",
   "execution_count": 7,
   "metadata": {},
   "outputs": [
    {
     "name": "stdout",
     "output_type": "stream",
     "text": [
      "(17, 17, 36)\n"
     ]
    }
   ],
   "source": [
    "#loading data from a mat file\n",
    "data = scipy.io.loadmat('filters.mat')\n",
    "filters = data['filters']\n",
    "filters = np.array(filters)\n",
    "print(filters.shape)"
   ]
  },
  {
   "cell_type": "code",
   "execution_count": 8,
   "metadata": {},
   "outputs": [],
   "source": [
    "def visulize_filters(filters, columns = 6, rows = 6):\n",
    "    fig = plt.figure(figsize=(20, 30))\n",
    "\n",
    "    for i in range(1, columns*rows +1):\n",
    "        img = filters[:, :, i-1]\n",
    "        fig.add_subplot(rows, columns, i)\n",
    "        plt.imshow(img)"
   ]
  },
  {
   "cell_type": "code",
   "execution_count": 9,
   "metadata": {},
   "outputs": [],
   "source": [
    "# visulize_filters(filters)"
   ]
  },
  {
   "cell_type": "markdown",
   "metadata": {},
   "source": [
    "## Convolution Functions:"
   ]
  },
  {
   "cell_type": "code",
   "execution_count": 10,
   "metadata": {},
   "outputs": [],
   "source": [
    "def conv_single_step(img_patch, in_filter):\n",
    "    '''\n",
    "    returns:\n",
    "        conv - image_patch * filter\n",
    "    '''\n",
    "    conv = np.dot(np.flip(img_patch.flatten(), axis = 0), in_filter.flatten())\n",
    "    \n",
    "    return conv"
   ]
  },
  {
   "cell_type": "code",
   "execution_count": 11,
   "metadata": {},
   "outputs": [],
   "source": [
    "def conv_forward(img, filters, stride = 1, pad = 0):\n",
    "    '''\n",
    "    \n",
    "    '''\n",
    "    conv_mat = None\n",
    "    img_rows = img.shape[0]\n",
    "    img_cols = img.shape[1]\n",
    "    flt_rows = filters.shape[0]\n",
    "    flt_cols = filters.shape[1]\n",
    "    flt_count = filters.shape[2]\n",
    "    \n",
    "    n_h = int((img_rows - flt_rows + (2*pad))/stride) + 1\n",
    "    n_w = int((img_cols - flt_cols + (2*pad))/stride) + 1\n",
    "    n_c = flt_count\n",
    "    conv_mat = np.zeros((n_h, n_w, n_c))\n",
    "    '''\n",
    "    print(\"conv rows:\\t\" + str(conv_mat.shape[0]))\n",
    "    print(\"conv cols:\\t\" + str(conv_mat.shape[1]))\n",
    "    print(\"conv depth:\\t\" + str(conv_mat.shape[2]))\n",
    "    '''\n",
    "    for i in range(0, n_c): #for filters\n",
    "        for j in range(0, n_h): #for image rows\n",
    "            for k in range(0, n_w): #for image cols\n",
    "                conv_mat[j, k, i] = conv_single_step(img[j:(j+flt_rows), k:(k+flt_cols)], filters[:, :, i])\n",
    "    return conv_mat"
   ]
  },
  {
   "cell_type": "code",
   "execution_count": 12,
   "metadata": {},
   "outputs": [],
   "source": [
    "def conv_forward_all(images, filters, stride = 1, pad = 0):\n",
    "    \n",
    "    img_count = images.shape[0]\n",
    "    img_rows = images.shape[1]\n",
    "    img_cols = images.shape[2]\n",
    "    flt_rows = filters.shape[0]\n",
    "    flt_cols = filters.shape[1]\n",
    "    flt_count = filters.shape[2]\n",
    "    \n",
    "    n_h = int((img_rows - flt_rows + (2*pad))/stride) + 1\n",
    "    n_w = int((img_cols - flt_cols + (2*pad))/stride) + 1\n",
    "    n_c = flt_count\n",
    "    conv_all = np.zeros((img_count, n_h, n_w, n_c))\n",
    "    \n",
    "    for i in range(0, images.shape[0]):\n",
    "        print(\"convolving the example:\\t\" + str(i))\n",
    "        conv_all[i, :,:,:] = conv_forward(images[i, :, :], filters, stride, pad)\n",
    "        \n",
    "    \n",
    "    return conv_all\n",
    "    "
   ]
  },
  {
   "cell_type": "markdown",
   "metadata": {},
   "source": [
    "## Pooling Functions"
   ]
  },
  {
   "cell_type": "code",
   "execution_count": 13,
   "metadata": {},
   "outputs": [],
   "source": [
    "def pool_forward(feature_map, mode = \"max\", filter_size = 2, stride = 2):\n",
    "    \n",
    "    n_c = feature_map.shape[2]\n",
    "    f_rows = feature_map.shape[0]\n",
    "    f_cols = feature_map.shape[1]\n",
    "    \n",
    "    n_h = int((f_rows - filter_size)/stride) + 1\n",
    "    n_w = int((f_rows - filter_size)/stride) + 1\n",
    "    \n",
    "    poolout = np.zeros((n_h, n_w, n_c))\n",
    "    \n",
    "    if (mode == \"max\"):\n",
    "        for c in range(0, n_c):\n",
    "            for i in range(0, n_h):\n",
    "                for j in range(0, n_w):\n",
    "                    pool_max = np.amax(feature_map[(i*stride):((i*stride)+filter_size), (j*stride):((j*stride)+filter_size),c])\n",
    "                    poolout[i, j, c] = pool_max\n",
    "    else:\n",
    "        print(\"Wrong Way bro\")\n",
    "    return poolout"
   ]
  },
  {
   "cell_type": "code",
   "execution_count": 14,
   "metadata": {},
   "outputs": [],
   "source": [
    "def pool_forward_all(input_mat, mode = \"max\", filter_size = 2, stride = 2):\n",
    "    \n",
    "    \n",
    "    n_count = input_mat.shape[0]\n",
    "    n_c = input_mat.shape[3]\n",
    "    f_rows = input_mat.shape[1]\n",
    "    f_cols = input_mat.shape[2]\n",
    "    \n",
    "    n_h = int((f_rows - filter_size)/stride) + 1\n",
    "    n_w = int((f_rows - filter_size)/stride) + 1\n",
    "    \n",
    "    poolout = np.zeros((n_count, n_h, n_w, n_c))\n",
    "    \n",
    "    for i in range(0, n_count):\n",
    "        print (\"pool the example:\\t\" + str(i))\n",
    "        poolout[i, :, :, :] = pool_forward(input_mat[i,:,:,:])\n",
    "        \n",
    "\n",
    "    return poolout"
   ]
  },
  {
   "cell_type": "markdown",
   "metadata": {},
   "source": [
    "# FC Layers Functions"
   ]
  },
  {
   "cell_type": "code",
   "execution_count": 15,
   "metadata": {},
   "outputs": [],
   "source": [
    "# %run FC_Layer_functions.ipynb"
   ]
  },
  {
   "cell_type": "code",
   "execution_count": 16,
   "metadata": {},
   "outputs": [],
   "source": [
    "def init_network(no_of_layers, input_dim, neurons_per_layer):\n",
    "    '''\n",
    "    no_of_layers: count\n",
    "    input_dim: m\n",
    "    neurons_per_layer: list in order L1, L2, L3 ... Lout\n",
    "    \n",
    "    returns:\n",
    "    net:    dict instance\n",
    "    '''\n",
    "    net = {\n",
    "        \"no_of_layers\": no_of_layers,\n",
    "        \"W1\": np.random.randn(neurons_per_layer[0], input_dim)*0.01,\n",
    "        \"b1\": np.zeros((neurons_per_layer[0], 1))\n",
    "    }\n",
    "    \n",
    "    for i in range(1, no_of_layers):\n",
    "        net[\"W\"+str(i+1)] = np.random.randn(neurons_per_layer[i], neurons_per_layer[i-1])*0.01\n",
    "        net[\"b\"+str(i+1)] = np.zeros((neurons_per_layer[i], 1))\n",
    "\n",
    "    return net"
   ]
  },
  {
   "cell_type": "code",
   "execution_count": 17,
   "metadata": {},
   "outputs": [],
   "source": [
    "def sigmoid (x):\n",
    "    '''\n",
    "    Parameters:\n",
    "    x - input\n",
    "    \n",
    "    Returns:\n",
    "    answer - The sigmoid vaue of 'x'\n",
    "    '''\n",
    "    answer = 1/(1 + np.exp(-x))\n",
    "    return answer"
   ]
  },
  {
   "cell_type": "code",
   "execution_count": 10,
   "metadata": {},
   "outputs": [],
   "source": [
    "def ReLU(x):\n",
    "    \n",
    "    \n",
    "    return np.maximum(np.zeros((x.shape[0], x.shape[1], x.shape[2], x.shape[3])), x)"
   ]
  },
  {
   "cell_type": "code",
   "execution_count": 19,
   "metadata": {},
   "outputs": [],
   "source": [
    "def softmax(Z):\n",
    "    A = []\n",
    "    exp_Z = []\n",
    "    for i in range(0, Z.shape[0]):\n",
    "        exp_Z.append(np.exp(Z[i, :]))\n",
    "    \n",
    "    exp_Z = np.array(exp_Z)\n",
    "    sum_exp_Z = np.sum(exp_Z, axis = 0, keepdims = True)\n",
    "    \n",
    "    for i in range(0, Z.shape[0]):\n",
    "        ans = (exp_Z[i, :] / sum_exp_Z)\n",
    "        A.append(ans)\n",
    "    \n",
    "    A = np.array(A)\n",
    "    A = A.reshape((A.shape[0], A.shape[2]))\n",
    "    return A"
   ]
  },
  {
   "cell_type": "code",
   "execution_count": 20,
   "metadata": {},
   "outputs": [],
   "source": [
    "def  forwardPropagation (A_prev, W, b, activation):\n",
    "    '''\n",
    "    Parameters:\n",
    "    model = perceptron class instance, where it is the model initialized using initializeParameters\n",
    "    X =     [[all dim1 vals], [all dim2 vals]]    i.e.inputs stacked vertically\n",
    "\n",
    "    Returns:\n",
    "    modelOutput = The class instance with 'x', 'Z1', 'A1' and 'Z2', 'A2' in it\n",
    "    '''\n",
    "    \n",
    "    Z = np.dot(W, A_prev) + b\n",
    "    \n",
    "    if(activation == \"sigmoid\"):\n",
    "        A = sigmoid(Z)\n",
    "    elif(activation == \"softmax\"):\n",
    "        A = softmax(Z)\n",
    "    else:\n",
    "        print(\"wrong activation\")\n",
    "        \n",
    "    return A, Z"
   ]
  },
  {
   "cell_type": "code",
   "execution_count": 21,
   "metadata": {},
   "outputs": [],
   "source": [
    "def feedForward(net, X):\n",
    "    '''\n",
    "    net:   \n",
    "    X:     \n",
    "    \n",
    "    return:\n",
    "    net:       \n",
    "    '''\n",
    "    no_of_layers = net[\"no_of_layers\"]\n",
    "    net[\"X\"] = X\n",
    "    \n",
    "    A_prev = X\n",
    "    activation = \"sigmoid\"\n",
    "    \n",
    "    for i in range(1, no_of_layers):\n",
    "        W = net[\"W\"+str(i)]\n",
    "        b = net[\"b\"+str(i)]\n",
    "        net[\"AL\"+str(i)], net[\"ZL\"+str(i)] = forwardPropagation (A_prev, W, b, activation)\n",
    "        A_prev = net[\"AL\"+str(i)]\n",
    "    \n",
    "    W = net[\"W\"+str(no_of_layers)]\n",
    "    b = net[\"b\"+str(no_of_layers)]\n",
    "    net[\"AL\"+str(no_of_layers)], net[\"ZL\"+str(no_of_layers)] = forwardPropagation (A_prev, W, b, activation = \"softmax\")\n",
    "        \n",
    "    return net"
   ]
  },
  {
   "cell_type": "code",
   "execution_count": 22,
   "metadata": {},
   "outputs": [],
   "source": [
    "def CostCalculation(m, net_out, Y):\n",
    "    '''\n",
    "    net_out:  \n",
    "    Y: ground truth\n",
    "    \n",
    "    reutrn:\n",
    "    cost\n",
    "    '''\n",
    "    \n",
    "    # one hot encode\n",
    "    encoded_Y = to_categorical(Y)\n",
    "    encoded_Y = encoded_Y.reshape(encoded_Y.shape[1], encoded_Y.shape[2])\n",
    "    encoded_Y = encoded_Y.T\n",
    "    \n",
    "    cost = (1/(2*m)) * np.sum(np.power(abs(encoded_Y - net_out), 2), axis = 1, keepdims = True)\n",
    "    \n",
    "    return cost"
   ]
  },
  {
   "cell_type": "code",
   "execution_count": 23,
   "metadata": {},
   "outputs": [],
   "source": [
    "def BackProp(net, Y):\n",
    "    '''\n",
    "    parms:\n",
    "    net =  dict\n",
    "    Y =    GT\n",
    "    \n",
    "    returns:\n",
    "    gradients =   \n",
    "    '''\n",
    "    gradients = {}\n",
    "    no_of_layers = net[\"no_of_layers\"]\n",
    "    \n",
    "    # one hot encode\n",
    "    encoded_Y = to_categorical(Y)\n",
    "    encoded_Y = encoded_Y.reshape(encoded_Y.shape[1], encoded_Y.shape[2])\n",
    "    encoded_Y = encoded_Y.T\n",
    "    m = encoded_Y.shape[1]\n",
    "    W = net[\"W\"+str(no_of_layers)]\n",
    "    b = net[\"b\"+str(no_of_layers)]\n",
    "    Z = net[\"ZL\"+str(no_of_layers)]\n",
    "    A = net[\"AL\"+str(no_of_layers)]\n",
    "    \n",
    "    dZ = (A - encoded_Y) * (A*(1-A))\n",
    "    \n",
    "    dW = (1/m)*(np.dot(dZ, net[\"AL\"+str(no_of_layers-1)].T))\n",
    "    db = (1/m)*(np.sum(dZ, axis = 1, keepdims = True))\n",
    "    gradients[\"dW\"+str(no_of_layers)] = dW\n",
    "    gradients[\"db\"+str(no_of_layers)] = db\n",
    "    \n",
    "    for i in range(1, no_of_layers-1):\n",
    "        dZ = np.dot(net[\"W\"+str(no_of_layers -i+1)].T, dZ) * (net[\"AL\"+str(no_of_layers -i)] - (net[\"AL\"+str(no_of_layers -i)]*net[\"AL\"+str(no_of_layers -i)]))\n",
    "        dW = (1/m)*(np.dot(dZ, net[\"AL\"+str(no_of_layers -i-1)].T))\n",
    "        db = (1/m)*(np.sum(dZ, axis = 1, keepdims = True))\n",
    "        gradients[\"dW\"+str(no_of_layers -i)] = dW\n",
    "        gradients[\"db\"+str(no_of_layers -i)] = db\n",
    "    \n",
    "    i = no_of_layers - 1    \n",
    "    dZ = np.dot(net[\"W\"+str(no_of_layers -i+1)].T, dZ) * (net[\"AL\"+str(no_of_layers -i)] - (net[\"AL\"+str(no_of_layers -i)]*net[\"AL\"+str(no_of_layers -i)]))\n",
    "    dW = (1/m)*(np.dot(dZ, net[\"X\"].T))\n",
    "    db = (1/m)*(np.sum(dZ, axis = 1, keepdims = True))\n",
    "    gradients[\"dW\"+str(no_of_layers -i)] = dW\n",
    "    gradients[\"db\"+str(no_of_layers -i)] = db\n",
    "    \n",
    "    \n",
    "    return gradients"
   ]
  },
  {
   "cell_type": "code",
   "execution_count": 24,
   "metadata": {},
   "outputs": [],
   "source": [
    "def  weightUpdate (net, gradients, lr_rate):\n",
    "    '''\n",
    "    \n",
    "    '''\n",
    "    \n",
    "    no_of_layers = net[\"no_of_layers\"]\n",
    "    \n",
    "    for i in range(1, no_of_layers+1):\n",
    "        net[\"W\"+str(i)] = net[\"W\"+str(i)] - (lr_rate * gradients[\"dW\"+str(i)])\n",
    "        net[\"b\"+str(i)] = net[\"b\"+str(i)] - (lr_rate * gradients[\"db\"+str(i)])\n",
    "        \n",
    "\n",
    "    return net"
   ]
  },
  {
   "cell_type": "code",
   "execution_count": 25,
   "metadata": {},
   "outputs": [],
   "source": [
    "def train_Model(net, train_X, train_Y, test_X, test_Y, numberofEpochs = 100, lr_rate = 0.1):\n",
    "    '''\n",
    "    \n",
    "    '''\n",
    "    \n",
    "    #after flatten\n",
    "    no_of_layers = net[\"no_of_layers\"]\n",
    "    All_Train_Loss = []\n",
    "    All_Test_Loss = []\n",
    "    \n",
    "    m = train_X.shape[1]\n",
    "    \n",
    "    \n",
    "    for i in range(1, numberofEpochs+1):\n",
    "        trn_net = feedForward(net, train_X)\n",
    "        trn_loss = CostCalculation(train_X.shape[1], trn_net[\"AL\"+str(no_of_layers)], train_Y)\n",
    "        All_Train_Loss.append((1/10)*np.sum(trn_loss, axis = 0, keepdims = True))\n",
    "        \n",
    "        trn_grads = BackProp(trn_net, train_Y)\n",
    "        net = weightUpdate(trn_net, trn_grads, lr_rate)    \n",
    "        \n",
    "        tst_net = feedForward(net, test_X)\n",
    "        tst_loss = CostCalculation(test_X.shape[1], tst_net[\"AL\"+str(no_of_layers)], test_Y)\n",
    "        All_Test_Loss.append((1/10)*np.sum(tst_loss, axis = 0, keepdims = True))\n",
    "        \n",
    "        if((i%50 == 0) or (i in range(1, 10+1))):\n",
    "            print(\"epoch #\"+ str(i) + \": \\tTrain Loss = \"+ str(All_Train_Loss[-1]) + \"\\t\\t Validation Loss = \" + str(All_Test_Loss[-1]))\n",
    "    \n",
    "    out = {\n",
    "        \"net\": net,\n",
    "        \"All_Train_Loss\": All_Train_Loss,\n",
    "        \"All_Test_Loss\": All_Test_Loss\n",
    "    }\n",
    "    return out"
   ]
  },
  {
   "cell_type": "code",
   "execution_count": 26,
   "metadata": {},
   "outputs": [],
   "source": [
    "def Train_Model(net, train_X, train_Y, test_X, test_Y, filters, numberofEpochs = 100, lr_rate = 0.1):\n",
    "    '''\n",
    "    \n",
    "    '''\n",
    "    # Covolving train_X+test_X\n",
    "    #on train set\n",
    "    if os.path.isfile(\"conv_all_train_X.npz\"): \n",
    "        npzfile = np.load(\"conv_all_train_X.npz\")\n",
    "        train_X_conv = npzfile['out']\n",
    "    else:\n",
    "        train_X_conv = conv_forward_all(train_X, filters)\n",
    "        np.savez(\"conv_all_train_X.npz\", out = train_X_conv)\n",
    "\n",
    "    #on test set\n",
    "\n",
    "    if os.path.isfile(\"conv_all_test_X.npz\"): \n",
    "        npzfile = np.load(\"conv_all_test_X.npz\")\n",
    "        test_X_conv = npzfile['out']\n",
    "    else:\n",
    "        test_X_conv = conv_forward_all(test_X, filters)\n",
    "        np.savez(\"conv_all_test_X.npz\", out = test_X_conv)\n",
    "    \n",
    "    #pool train_X+test_X\n",
    "    #on train set\n",
    "    if os.path.isfile(\"pool_all_train_X.npz\"): \n",
    "        npzfile = np.load(\"pool_all_train_X.npz\")\n",
    "        train_X_conv_pool = npzfile['out']\n",
    "    else:\n",
    "        train_X_conv_pool = pool_forward_all(train_X_conv)\n",
    "        np.savez(\"pool_all_train_X.npz\", out = train_X_conv_pool)\n",
    "\n",
    "    #on test set\n",
    "    if os.path.isfile(\"pool_all_test_X.npz\"): \n",
    "        npzfile = np.load(\"pool_all_test_X.npz\")\n",
    "        test_X_conv_pool = npzfile['out']\n",
    "    else:\n",
    "        test_X_conv_pool = pool_forward_all(test_X_conv)\n",
    "        np.savez(\"pool_all_test_X.npz\", out = test_X_conv_pool)\n",
    "    \n",
    "    #Apply ReLU\n",
    "    #train\n",
    "    train_X_conv_pool_relu = ReLU(train_X_conv_pool)\n",
    "    \n",
    "    #test\n",
    "    test_X_conv_pool_relu = ReLU(test_X_conv_pool)\n",
    "    \n",
    "    #flatten train_X+test_X\n",
    "    train_X_conv_pool_flatten = train_X_conv_pool.reshape(train_X_conv_pool.shape[0], -1).T\n",
    "    test_X_conv_pool_flatten = test_X_conv_pool.reshape(test_X_conv_pool.shape[0], -1).T\n",
    "    \n",
    "    #after flatten\n",
    "    no_of_layers = net[\"no_of_layers\"]\n",
    "    All_Train_Loss = []\n",
    "    All_Test_Loss = []\n",
    "    \n",
    "    m = train_Y.shape[1]\n",
    "    \n",
    "    \n",
    "    for i in range(1, numberofEpochs+1):\n",
    "        trn_net = feedForward(net, train_X_conv_pool_flatten)\n",
    "        trn_loss = CostCalculation(train_X_conv_pool_flatten.shape[1], trn_net[\"AL\"+str(no_of_layers)], train_Y)\n",
    "        All_Train_Loss.append((1/10)*np.sum(trn_loss, axis = 0, keepdims = True))\n",
    "        \n",
    "        trn_grads = BackProp(trn_net, train_Y)\n",
    "        net = weightUpdate(trn_net, trn_grads, lr_rate)    \n",
    "        \n",
    "        #below was expected tobe done in test() function\n",
    "        tst_net = feedForward(net, test_X)\n",
    "        tst_loss = CostCalculation(test_X.shape[1], tst_net[\"AL\"+str(no_of_layers)], test_Y)\n",
    "        All_Test_Loss.append((1/10)*np.sum(tst_loss, axis = 0, keepdims = True))\n",
    "        \n",
    "        if((i%50 == 0) or (i in range(1, 10+1))):\n",
    "            print(\"epoch #\"+ str(i) + \": \\tTrain Loss = \"+ str(All_Train_Loss[-1]) + \"\\t\\t Validation Loss = \" + str(All_Test_Loss[-1]))\n",
    "    \n",
    "    out = {\n",
    "        \"net\": net,\n",
    "        \"All_Train_Loss\": All_Train_Loss,\n",
    "        \"All_Test_Loss\": All_Test_Loss\n",
    "    }\n",
    "    return out"
   ]
  },
  {
   "cell_type": "markdown",
   "metadata": {},
   "source": [
    "# Using above Functions for demo"
   ]
  },
  {
   "cell_type": "markdown",
   "metadata": {},
   "source": [
    "## Conv layer "
   ]
  },
  {
   "cell_type": "code",
   "execution_count": 2,
   "metadata": {},
   "outputs": [],
   "source": [
    "#on train set\n",
    "if os.path.isfile(\"conv_all_train_X.npz\"): \n",
    "    npzfile = np.load(\"conv_all_train_X.npz\")\n",
    "    train_set_X_conv = npzfile['out']\n",
    "else:\n",
    "    train_set_X_conv = conv_forward_all(train_set_X, filters)\n",
    "    np.savez(\"conv_all_train_X.npz\", out = train_set_X_conv)\n",
    "\n",
    "#on test set\n",
    "\n",
    "if os.path.isfile(\"conv_all_test_X.npz\"): \n",
    "    npzfile = np.load(\"conv_all_test_X.npz\")\n",
    "    test_set_X_conv = npzfile['out']\n",
    "else:\n",
    "    test_set_X_conv = conv_forward_all(test_set_X, filters)\n",
    "    np.savez(\"conv_all_test_X.npz\", out = test_set_X_conv)"
   ]
  },
  {
   "cell_type": "code",
   "execution_count": 6,
   "metadata": {},
   "outputs": [
    {
     "data": {
      "text/plain": [
       "<matplotlib.image.AxesImage at 0x28758462358>"
      ]
     },
     "execution_count": 6,
     "metadata": {},
     "output_type": "execute_result"
    },
    {
     "data": {
      "image/png": "[encoded data removed]",
      "text/plain": [
       "<Figure size 432x288 with 1 Axes>"
      ]
     },
     "metadata": {},
     "output_type": "display_data"
    }
   ],
   "source": [
    "plt.imshow(train_set_X_conv[30800, :, :, 0])"
   ]
  },
  {
   "cell_type": "markdown",
   "metadata": {},
   "source": [
    "## Pool layer"
   ]
  },
  {
   "cell_type": "code",
   "execution_count": 3,
   "metadata": {},
   "outputs": [],
   "source": [
    "#on train set\n",
    "if os.path.isfile(\"pool_all_train_X.npz\"): \n",
    "    npzfile = np.load(\"pool_all_train_X.npz\")\n",
    "    train_set_X_conv_pool = npzfile['out']\n",
    "else:\n",
    "    train_set_X_conv_pool = pool_forward_all(train_set_X_conv)\n",
    "    np.savez(\"pool_all_train_X.npz\", out = train_set_X_conv_pool)\n",
    "    \n",
    "#on test set\n",
    "if os.path.isfile(\"pool_all_test_X.npz\"): \n",
    "    npzfile = np.load(\"pool_all_test_X.npz\")\n",
    "    test_set_X_conv_pool = npzfile['out']\n",
    "else:\n",
    "    test_set_X_conv_pool = pool_forward_all(test_set_X_conv)\n",
    "    np.savez(\"pool_all_test_X.npz\", out = test_set_X_conv_pool)"
   ]
  },
  {
   "cell_type": "code",
   "execution_count": 4,
   "metadata": {},
   "outputs": [
    {
     "name": "stdout",
     "output_type": "stream",
     "text": [
      "(60000, 6, 6, 36)\n",
      "(10000, 6, 6, 36)\n"
     ]
    }
   ],
   "source": [
    "print(train_set_X_conv_pool.shape)\n",
    "print(test_set_X_conv_pool.shape)"
   ]
  },
  {
   "cell_type": "code",
   "execution_count": 7,
   "metadata": {},
   "outputs": [
    {
     "data": {
      "text/plain": [
       "<matplotlib.image.AxesImage at 0x2875849b668>"
      ]
     },
     "execution_count": 7,
     "metadata": {},
     "output_type": "execute_result"
    },
    {
     "data": {
      "image/png": "[encoded data removed]",
      "text/plain": [
       "<Figure size 432x288 with 1 Axes>"
      ]
     },
     "metadata": {},
     "output_type": "display_data"
    }
   ],
   "source": [
    "plt.imshow(train_set_X_conv_pool[30800, :, :, 0])"
   ]
  },
  {
   "cell_type": "markdown",
   "metadata": {},
   "source": [
    "## ReLU Layer"
   ]
  },
  {
   "cell_type": "code",
   "execution_count": 11,
   "metadata": {},
   "outputs": [],
   "source": [
    "#Apply ReLU\n",
    "    #train\n",
    "train_X_conv_pool_relu = ReLU(train_set_X_conv_pool)\n",
    "    #test\n",
    "test_X_conv_pool_relu = ReLU(test_set_X_conv_pool)"
   ]
  },
  {
   "cell_type": "code",
   "execution_count": 12,
   "metadata": {},
   "outputs": [
    {
     "name": "stdout",
     "output_type": "stream",
     "text": [
      "(60000, 6, 6, 36)\n",
      "(10000, 6, 6, 36)\n"
     ]
    }
   ],
   "source": [
    "print(train_X_conv_pool_relu.shape)\n",
    "print(test_X_conv_pool_relu.shape)"
   ]
  },
  {
   "cell_type": "code",
   "execution_count": 13,
   "metadata": {},
   "outputs": [
    {
     "data": {
      "text/plain": [
       "<matplotlib.image.AxesImage at 0x2875858c240>"
      ]
     },
     "execution_count": 13,
     "metadata": {},
     "output_type": "execute_result"
    },
    {
     "data": {
      "image/png": "[encoded data removed]",
      "text/plain": [
       "<Figure size 432x288 with 1 Axes>"
      ]
     },
     "metadata": {},
     "output_type": "display_data"
    }
   ],
   "source": [
    "plt.imshow(train_X_conv_pool_relu[30800, :, :, 0])"
   ]
  },
  {
   "cell_type": "markdown",
   "metadata": {},
   "source": [
    "## Flatten conv+pool output"
   ]
  },
  {
   "cell_type": "code",
   "execution_count": 32,
   "metadata": {},
   "outputs": [],
   "source": [
    "train_set_X_conv_pool_flatten = train_X_conv_pool_relu.reshape(train_X_conv_pool_relu.shape[0], -1).T\n",
    "test_set_X_conv_pool_flatten = test_X_conv_pool_relu.reshape(test_X_conv_pool_relu.shape[0], -1).T"
   ]
  },
  {
   "cell_type": "code",
   "execution_count": 33,
   "metadata": {},
   "outputs": [
    {
     "name": "stdout",
     "output_type": "stream",
     "text": [
      "After Flatten\n",
      "train_set_X_conv_pool_flatten.shape: \t(1296, 60000)\n",
      "train_set_Y.shape: \t(1, 60000)\n",
      "test_set_X_conv_pool.shape: \t(1296, 10000)\n",
      "test_set_Y.shape: \t(1, 10000)\n"
     ]
    }
   ],
   "source": [
    "print(\"After Flatten\")\n",
    "print(\"train_set_X_conv_pool_flatten.shape: \\t\" + str(train_set_X_conv_pool_flatten.shape))\n",
    "print(\"train_set_Y.shape: \\t\" + str(train_set_Y.shape))\n",
    "print(\"test_set_X_conv_pool.shape: \\t\" + str(test_set_X_conv_pool_flatten.shape))\n",
    "print(\"test_set_Y.shape: \\t\" + str(test_set_Y.shape))"
   ]
  },
  {
   "cell_type": "markdown",
   "metadata": {},
   "source": [
    "## Train FC layers"
   ]
  },
  {
   "cell_type": "code",
   "execution_count": 87,
   "metadata": {},
   "outputs": [],
   "source": [
    "# Model = init_network(no_of_layers = 3, input_dim = train_set_X_conv_pool_flatten.shape[0], neurons_per_layer = [100, 50, 10])\n",
    "# Out = train_Model(Model, train_set_X_conv_pool_flatten, train_set_Y, test_set_X_conv_pool_flatten, test_set_Y, numberofEpochs = 1500, lr_rate = 0.1)"
   ]
  },
  {
   "cell_type": "code",
   "execution_count": 88,
   "metadata": {},
   "outputs": [
    {
     "data": {
      "text/plain": [
       "'\\n\\n#For visualizing the losses throughout training\\nTrainLosses = Out[\"All_Train_Loss\"]\\nTestLosses = Out[\"All_Test_Loss\"]\\n\\nplt.figure(figsize=(20,10))\\nx1 = np.arange(1, len(TrainLosses)+1)\\ny1 = np.array(TrainLosses)\\nx1.shape = (x1.shape[0], 1)\\ny1.shape = (y1.shape[0], 1)\\n\\nx2 = np.arange(1, len(TestLosses)+1)\\ny2 = np.array(TestLosses)\\nx2.shape = (x2.shape[0], 1)\\ny2.shape = (y2.shape[0], 1)\\n\\n#plt.title(\"Following Plot is for hidden units = \"+ str(hu)+ \" \\t Learning Rate = \"+str(lr))\\nplt.plot(x1, y1, label=\"Train Loss\")\\nplt.plot(x2, y2, label=\"Validation Loss\")\\nplt.xlabel(\\'Epochs\\')\\nplt.ylabel(\\'Loss\\')\\nplt.legend(loc=\\'best\\')\\n\\nprint(\"first: \\t Train = \" + str(TrainLosses[0]) + \"\\t\\t Val:\" + str(TestLosses[0]))\\nprint(\"Last: \\t Train = \" + str(TrainLosses[-1]) + \"\\t\\t Val:\" + str(TestLosses[-1]))\\nprint(\"Difference: \\t Train = \" + str(TrainLosses[-1] - TrainLosses[0]) + \"\\t\\t Val:\" + str(TestLosses[-1] - TestLosses[0]))\\n\\nplt.show()\\n#plt.savefig(\"./images/Task02/hu_\"+str(hu)+\"_lr_\"+str(lr))\\n'"
      ]
     },
     "execution_count": 88,
     "metadata": {},
     "output_type": "execute_result"
    }
   ],
   "source": [
    "'''\n",
    "\n",
    "#For visualizing the losses throughout training\n",
    "TrainLosses = Out[\"All_Train_Loss\"]\n",
    "TestLosses = Out[\"All_Test_Loss\"]\n",
    "\n",
    "plt.figure(figsize=(20,10))\n",
    "x1 = np.arange(1, len(TrainLosses)+1)\n",
    "y1 = np.array(TrainLosses)\n",
    "x1.shape = (x1.shape[0], 1)\n",
    "y1.shape = (y1.shape[0], 1)\n",
    "\n",
    "x2 = np.arange(1, len(TestLosses)+1)\n",
    "y2 = np.array(TestLosses)\n",
    "x2.shape = (x2.shape[0], 1)\n",
    "y2.shape = (y2.shape[0], 1)\n",
    "\n",
    "#plt.title(\"Following Plot is for hidden units = \"+ str(hu)+ \" \\t Learning Rate = \"+str(lr))\n",
    "plt.plot(x1, y1, label=\"Train Loss\")\n",
    "plt.plot(x2, y2, label=\"Validation Loss\")\n",
    "plt.xlabel('Epochs')\n",
    "plt.ylabel('Loss')\n",
    "plt.legend(loc='best')\n",
    "\n",
    "print(\"first: \\t Train = \" + str(TrainLosses[0]) + \"\\t\\t Val:\" + str(TestLosses[0]))\n",
    "print(\"Last: \\t Train = \" + str(TrainLosses[-1]) + \"\\t\\t Val:\" + str(TestLosses[-1]))\n",
    "print(\"Difference: \\t Train = \" + str(TrainLosses[-1] - TrainLosses[0]) + \"\\t\\t Val:\" + str(TestLosses[-1] - TestLosses[0]))\n",
    "\n",
    "plt.show()\n",
    "#plt.savefig(\"./images/Task02/hu_\"+str(hu)+\"_lr_\"+str(lr))\n",
    "'''"
   ]
  },
  {
   "cell_type": "markdown",
   "metadata": {},
   "source": [
    "## Doit in blocks"
   ]
  },
  {
   "cell_type": "code",
   "execution_count": 34,
   "metadata": {},
   "outputs": [],
   "source": [
    "net = init_network(no_of_layers = 2, input_dim = train_set_X_conv_pool_flatten.shape[0], neurons_per_layer = [1000, 10])"
   ]
  },
  {
   "cell_type": "code",
   "execution_count": 35,
   "metadata": {},
   "outputs": [],
   "source": [
    "no_of_layers = net[\"no_of_layers\"]\n",
    "All_Train_Loss = []\n",
    "All_Test_Loss = []    "
   ]
  },
  {
   "cell_type": "code",
   "execution_count": 85,
   "metadata": {},
   "outputs": [],
   "source": [
    "train_X_chunk = train_set_X_conv_pool_flatten[:, 0:30000]\n",
    "train_Y_chunk = train_set_Y[:, 0:30000]\n",
    "\n",
    "test_X_chunk = test_set_X_conv_pool_flatten[:, :]\n",
    "test_Y_chunk = test_set_Y[:, :]"
   ]
  },
  {
   "cell_type": "code",
   "execution_count": 86,
   "metadata": {},
   "outputs": [
    {
     "name": "stdout",
     "output_type": "stream",
     "text": [
      "(1296, 30000)\n",
      "(1, 30000)\n",
      "(1296, 10000)\n",
      "(1, 10000)\n"
     ]
    }
   ],
   "source": [
    "print(train_X_chunk.shape)\n",
    "print(train_Y_chunk.shape)\n",
    "print(test_X_chunk.shape)\n",
    "print(test_Y_chunk.shape)"
   ]
  },
  {
   "cell_type": "code",
   "execution_count": 38,
   "metadata": {},
   "outputs": [
    {
     "name": "stdout",
     "output_type": "stream",
     "text": [
      "epoch #1: \tTrain Loss = [[0.04525965]]\t\t Validation Loss = [[0.04426318]]\n",
      "epoch #2: \tTrain Loss = [[0.04426759]]\t\t Validation Loss = [[0.04322229]]\n",
      "epoch #3: \tTrain Loss = [[0.04324812]]\t\t Validation Loss = [[0.04207818]]\n",
      "epoch #4: \tTrain Loss = [[0.04213047]]\t\t Validation Loss = [[0.04082419]]\n",
      "epoch #5: \tTrain Loss = [[0.04090607]]\t\t Validation Loss = [[0.03949226]]\n",
      "epoch #6: \tTrain Loss = [[0.03960304]]\t\t Validation Loss = [[0.03813267]]\n",
      "epoch #7: \tTrain Loss = [[0.03826906]]\t\t Validation Loss = [[0.03678452]]\n",
      "epoch #8: \tTrain Loss = [[0.03694359]]\t\t Validation Loss = [[0.03547713]]\n",
      "epoch #9: \tTrain Loss = [[0.03565661]]\t\t Validation Loss = [[0.03422773]]\n",
      "epoch #10: \tTrain Loss = [[0.03442531]]\t\t Validation Loss = [[0.03304445]]\n",
      "epoch #50: \tTrain Loss = [[0.01569163]]\t\t Validation Loss = [[0.01507935]]\n",
      "epoch #100: \tTrain Loss = [[0.01133926]]\t\t Validation Loss = [[0.0108432]]\n",
      "epoch #150: \tTrain Loss = [[0.00947387]]\t\t Validation Loss = [[0.00898469]]\n",
      "epoch #200: \tTrain Loss = [[0.00837447]]\t\t Validation Loss = [[0.0078984]]\n",
      "epoch #250: \tTrain Loss = [[0.00763985]]\t\t Validation Loss = [[0.00718317]]\n",
      "epoch #300: \tTrain Loss = [[0.00713374]]\t\t Validation Loss = [[0.00669782]]\n",
      "epoch #350: \tTrain Loss = [[0.00680433]]\t\t Validation Loss = [[0.00639296]]\n",
      "epoch #400: \tTrain Loss = [[0.00650355]]\t\t Validation Loss = [[0.0061166]]\n",
      "epoch #450: \tTrain Loss = [[0.00616897]]\t\t Validation Loss = [[0.00581026]]\n",
      "epoch #500: \tTrain Loss = [[0.00583274]]\t\t Validation Loss = [[0.00549727]]\n"
     ]
    }
   ],
   "source": [
    "numberofEpochs = 500\n",
    "lr_rate = 0.1\n",
    "for i in range(1, numberofEpochs+1):\n",
    "        trn_net = feedForward(net, train_X_chunk)\n",
    "        trn_loss = CostCalculation(train_Y_chunk.shape[1], trn_net[\"AL\"+str(no_of_layers)], train_Y_chunk)\n",
    "        All_Train_Loss.append((1/10)*np.sum(trn_loss, axis = 0, keepdims = True))\n",
    "        \n",
    "        trn_grads = BackProp(trn_net, train_Y_chunk)\n",
    "        net = weightUpdate(trn_net, trn_grads, lr_rate)    \n",
    "        \n",
    "        #below was expected tobe done in test() function\n",
    "        tst_net = feedForward(net, test_X_chunk)\n",
    "        tst_loss = CostCalculation(test_Y_chunk.shape[1], tst_net[\"AL\"+str(no_of_layers)], test_Y_chunk)\n",
    "        All_Test_Loss.append((1/10)*np.sum(tst_loss, axis = 0, keepdims = True))\n",
    "        \n",
    "        if((i%50 == 0) or (i in range(1, 10+1))):\n",
    "            print(\"epoch #\"+ str(i) + \": \\tTrain Loss = \"+ str(All_Train_Loss[-1]) + \"\\t\\t Validation Loss = \" + str(All_Test_Loss[-1]))\n",
    "    "
   ]
  },
  {
   "cell_type": "code",
   "execution_count": 39,
   "metadata": {},
   "outputs": [
    {
     "name": "stdout",
     "output_type": "stream",
     "text": [
      "first: \t Train = [[0.04525965]]\t\t Val:[[0.04426318]]\n",
      "Last: \t Train = [[0.00583274]]\t\t Val:[[0.00549727]]\n",
      "Difference: \t Train = [[-0.03942691]]\t\t Val:[[-0.03876592]]\n"
     ]
    },
    {
     "data": {
      "image/png": "[encoded data removed]",
      "text/plain": [
       "<Figure size 1440x720 with 1 Axes>"
      ]
     },
     "metadata": {},
     "output_type": "display_data"
    }
   ],
   "source": [
    "#For visualizing the losses throughout training\n",
    "TrainLosses = All_Train_Loss\n",
    "TestLosses = All_Test_Loss\n",
    "\n",
    "plt.figure(figsize=(20,10))\n",
    "x1 = np.arange(1, len(TrainLosses)+1)\n",
    "y1 = np.array(TrainLosses)\n",
    "x1.shape = (x1.shape[0], 1)\n",
    "y1.shape = (y1.shape[0], 1)\n",
    "\n",
    "x2 = np.arange(1, len(TestLosses)+1)\n",
    "y2 = np.array(TestLosses)\n",
    "x2.shape = (x2.shape[0], 1)\n",
    "y2.shape = (y2.shape[0], 1)\n",
    "\n",
    "#plt.title(\"Following Plot is for hidden units = \"+ str(hu)+ \" \\t Learning Rate = \"+str(lr))\n",
    "plt.plot(x1, y1, label=\"Train Loss\")\n",
    "plt.plot(x2, y2, label=\"Validation Loss\")\n",
    "plt.xlabel('Epochs')\n",
    "plt.ylabel('Loss')\n",
    "plt.legend(loc='best')\n",
    "\n",
    "print(\"first: \\t Train = \" + str(TrainLosses[0]) + \"\\t\\t Val:\" + str(TestLosses[0]))\n",
    "print(\"Last: \\t Train = \" + str(TrainLosses[-1]) + \"\\t\\t Val:\" + str(TestLosses[-1]))\n",
    "print(\"Difference: \\t Train = \" + str(TrainLosses[-1] - TrainLosses[0]) + \"\\t\\t Val:\" + str(TestLosses[-1] - TestLosses[0]))\n",
    "\n",
    "plt.show()\n",
    "#plt.savefig(\"./images/Task02/hu_\"+str(hu)+\"_lr_\"+str(lr))\n"
   ]
  },
  {
   "cell_type": "code",
   "execution_count": 41,
   "metadata": {},
   "outputs": [
    {
     "name": "stdout",
     "output_type": "stream",
     "text": [
      "W1.shape:\t(1000, 1296)\n",
      "W2.shape:\t(10, 1000)\n",
      "b1.shape:\t(1000, 1)\n",
      "b2.shape:\t(10, 1)\n"
     ]
    }
   ],
   "source": [
    "#check parms\n",
    "for i in range(1, net[\"no_of_layers\"] +1):\n",
    "    print(\"W\"+str(i)+\".shape:\\t\"+str(net[\"W\"+str(i)].shape))\n",
    "    \n",
    "#check parms\n",
    "for i in range(1, net[\"no_of_layers\"] +1):\n",
    "    print(\"b\"+str(i)+\".shape:\\t\"+str(net[\"b\"+str(i)].shape))"
   ]
  },
  {
   "cell_type": "markdown",
   "metadata": {},
   "source": [
    "## Save/load network weights"
   ]
  },
  {
   "cell_type": "code",
   "execution_count": 42,
   "metadata": {},
   "outputs": [],
   "source": [
    "np.savez(\"net_weights.npz\", W1 = net[\"W1\"], W2 = net[\"W2\"], b1 = net[\"b1\"], b2 = net[\"b2\"])"
   ]
  },
  {
   "cell_type": "code",
   "execution_count": 44,
   "metadata": {},
   "outputs": [],
   "source": [
    "npzfile = np.load(\"net_weights.npz\")\n",
    "W1 = npzfile[\"W1\"]\n",
    "W2 = npzfile[\"W2\"]\n",
    "b1 = npzfile[\"b1\"]\n",
    "b2 = npzfile[\"b2\"]"
   ]
  },
  {
   "cell_type": "markdown",
   "metadata": {},
   "source": [
    "## Accuracy Calculation"
   ]
  },
  {
   "cell_type": "code",
   "execution_count": 82,
   "metadata": {},
   "outputs": [],
   "source": [
    "test_net = feedForward(net, test_X_chunk)    "
   ]
  },
  {
   "cell_type": "code",
   "execution_count": 83,
   "metadata": {},
   "outputs": [],
   "source": [
    "T_count = 0\n",
    "for i in range(0, test_Y_chunk.shape[1]):\n",
    "    max_value = np.amax(output_layer[:, i])\n",
    "    for j in range(0, 10):\n",
    "        if (max_value == output_layer[j, i]):\n",
    "            pred_label = j\n",
    "    \n",
    "    if (pred_label == test_Y_chunk[0, i]):\n",
    "        T_count = T_count+1"
   ]
  },
  {
   "cell_type": "code",
   "execution_count": 84,
   "metadata": {},
   "outputs": [
    {
     "name": "stdout",
     "output_type": "stream",
     "text": [
      "True predictions:\t9629\n",
      "Accuracy:\t0.9629\n"
     ]
    }
   ],
   "source": [
    "print(\"True predictions:\\t\"+ str(T_count))\n",
    "print(\"Accuracy:\\t\"+    str(T_count/test_Y_chunk.shape[1]))"
   ]
  },
  {
   "cell_type": "code",
   "execution_count": null,
   "metadata": {},
   "outputs": [],
   "source": []
  }
 ],
 "metadata": {
  "kernelspec": {
   "display_name": "Python 3",
   "language": "python",
   "name": "python3"
  },
  "language_info": {
   "codemirror_mode": {
    "name": "ipython",
    "version": 3
   },
   "file_extension": ".py",
   "mimetype": "text/x-python",
   "name": "python",
   "nbconvert_exporter": "python",
   "pygments_lexer": "ipython3",
   "version": "3.5.2"
  }
 },
 "nbformat": 4,
 "nbformat_minor": 2
}
