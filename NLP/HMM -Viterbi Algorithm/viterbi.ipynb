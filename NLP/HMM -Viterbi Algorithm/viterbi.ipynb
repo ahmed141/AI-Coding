{
 "cells": [
  {
   "cell_type": "markdown",
   "metadata": {},
   "source": [
    "# Model"
   ]
  },
  {
   "cell_type": "code",
   "execution_count": 52,
   "metadata": {},
   "outputs": [],
   "source": [
    "start_prob = {\n",
    "    'H': 0.5,\n",
    "    'C': 0.5\n",
    "}"
   ]
  },
  {
   "cell_type": "code",
   "execution_count": 53,
   "metadata": {},
   "outputs": [],
   "source": [
    "A_trasition = {}\n",
    "A_trasition['H']={\n",
    "    'H': 0.8,\n",
    "    'C': 0.1\n",
    "}\n",
    "A_trasition['C']={\n",
    "    'H': 0.1,\n",
    "    'C': 0.8\n",
    "}"
   ]
  },
  {
   "cell_type": "code",
   "execution_count": 55,
   "metadata": {},
   "outputs": [],
   "source": [
    "B_emission = {}\n",
    "B_emission['H'] = {\n",
    "    '1': 0.1,\n",
    "    '2': 0.2,\n",
    "    '3': 0.7\n",
    "}\n",
    "B_emission['C'] = {\n",
    "    '1': 0.7,\n",
    "    '2': 0.2,\n",
    "    '3': 0.1\n",
    "}"
   ]
  },
  {
   "cell_type": "code",
   "execution_count": 54,
   "metadata": {},
   "outputs": [],
   "source": [
    "end_prob = {\n",
    "    'H': 0.1,\n",
    "    'C': 0.1\n",
    "}"
   ]
  },
  {
   "cell_type": "code",
   "execution_count": 60,
   "metadata": {},
   "outputs": [],
   "source": [
    "Hmm_model = {'start_prob': start_prob,\n",
    "             'transition_prob': A_trasition,\n",
    "             'emission_prob': B_emission,\n",
    "             'end_prob': end_prob}"
   ]
  },
  {
   "cell_type": "markdown",
   "metadata": {},
   "source": [
    "# Algo"
   ]
  },
  {
   "cell_type": "code",
   "execution_count": 158,
   "metadata": {},
   "outputs": [],
   "source": [
    "def Viterbi(observations, Hmm_model):\n",
    "    V = [{}]*len(observations)\n",
    "    paths = {}\n",
    "    \n",
    "    #start probs\n",
    "    for y in list(Hmm_model['start_prob'].keys()):\n",
    "        V[0][y] = Hmm_model['start_prob'][y] * Hmm_model['emission_prob'][y][observations[0]] #no transition because it's 1st iteration\n",
    "        paths[y] = [y]\n",
    "    #print(V[0])\n",
    "    \n",
    "    #intermediate prob steps\n",
    "    for t in range(1, len(observations)):\n",
    "        newpath = {}\n",
    "        for y in list(Hmm_model['start_prob'].keys()):\n",
    "            (V[t][y], state) = max((V[t-1][i] * Hmm_model['transition_prob'][i][y] * Hmm_model['emission_prob'][y][observations[t]], i) for i in list(Hmm_model['start_prob'].keys()))\n",
    "            newpath[y] = paths[state] + [y]\n",
    "        #print(V[t])\n",
    "        paths = newpath\n",
    "        \n",
    "    #end probs\n",
    "    for j in list(Hmm_model['start_prob'].keys()):\n",
    "        V[t][j] *= Hmm_model['end_prob'][j]    \n",
    "    (prob, state) = max((V[t][y], y) for y in list(Hmm_model['start_prob'].keys()))\n",
    "    \n",
    "    return (prob, paths[state])"
   ]
  },
  {
   "cell_type": "markdown",
   "metadata": {},
   "source": [
    "# Examples"
   ]
  },
  {
   "cell_type": "code",
   "execution_count": 184,
   "metadata": {},
   "outputs": [
    {
     "name": "stdout",
     "output_type": "stream",
     "text": [
      "Probability of this observation is: \t 8.056419123200003e-08\n",
      "Sequence:\t\t\t\t H H H H H H H H H \n"
     ]
    }
   ],
   "source": [
    "prob, seq = Viterbi('331122313', Hmm_model)\n",
    "print(\"Probability of this observation is: \\t\", prob)\n",
    "str_ = ''\n",
    "for i in seq:\n",
    "    str_ += i\n",
    "    str_ += ' '\n",
    "print(\"Sequence:\\t\\t\\t\\t\", str_)"
   ]
  },
  {
   "cell_type": "code",
   "execution_count": 187,
   "metadata": {},
   "outputs": [
    {
     "name": "stdout",
     "output_type": "stream",
     "text": [
      "Probability of this observation is: \t 8.056419123200003e-08\n",
      "Sequence:\t\t\t\t H H H H H H H H H \n"
     ]
    }
   ],
   "source": [
    "prob, seq = Viterbi('331123312', Hmm_model)\n",
    "print(\"Probability of this observation is: \\t\", prob)\n",
    "str_ = ''\n",
    "for i in seq:\n",
    "    str_ += i\n",
    "    str_ += ' '\n",
    "print(\"Sequence:\\t\\t\\t\\t\", str_)"
   ]
  },
  {
   "cell_type": "code",
   "execution_count": 188,
   "metadata": {},
   "outputs": [
    {
     "name": "stdout",
     "output_type": "stream",
     "text": [
      "Probability of this observation is: \t 4.93455671296e-07\n",
      "Sequence:\t\t\t\t H H C C C C C C C \n"
     ]
    }
   ],
   "source": [
    "prob, seq = Viterbi('331121312', Hmm_model)\n",
    "print(\"Probability of this observation is: \\t\", prob)\n",
    "str_ = ''\n",
    "for i in seq:\n",
    "    str_ += i\n",
    "    str_ += ' '\n",
    "print(\"Sequence:\\t\\t\\t\\t\", str_)"
   ]
  },
  {
   "cell_type": "code",
   "execution_count": null,
   "metadata": {},
   "outputs": [],
   "source": []
  }
 ],
 "metadata": {
  "kernelspec": {
   "display_name": "Python 3",
   "language": "python",
   "name": "python3"
  },
  "language_info": {
   "codemirror_mode": {
    "name": "ipython",
    "version": 3
   },
   "file_extension": ".py",
   "mimetype": "text/x-python",
   "name": "python",
   "nbconvert_exporter": "python",
   "pygments_lexer": "ipython3",
   "version": "3.5.2"
  }
 },
 "nbformat": 4,
 "nbformat_minor": 2
}
