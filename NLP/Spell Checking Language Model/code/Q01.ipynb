{
 "cells": [
  {
   "cell_type": "code",
   "execution_count": 49,
   "metadata": {},
   "outputs": [],
   "source": [
    "import codecs\n",
    "import numpy as np\n",
    "import glob\n",
    "import pickle"
   ]
  },
  {
   "cell_type": "code",
   "execution_count": 50,
   "metadata": {},
   "outputs": [],
   "source": [
    "file_name = \"../data/jang.txt\""
   ]
  },
  {
   "cell_type": "code",
   "execution_count": 51,
   "metadata": {},
   "outputs": [],
   "source": [
    "f_words1 = codecs.open(file_name, \"r\", \"utf-8\")\n",
    "train_data = f_words1.read()"
   ]
  },
  {
   "cell_type": "code",
   "execution_count": 52,
   "metadata": {},
   "outputs": [],
   "source": [
    "%run \"allFunctions.ipynb\""
   ]
  },
  {
   "cell_type": "markdown",
   "metadata": {},
   "source": [
    "# train unigram"
   ]
  },
  {
   "cell_type": "code",
   "execution_count": 53,
   "metadata": {},
   "outputs": [],
   "source": [
    "unigram_tokens = train_data.replace('<s>', ' ').replace('</s>', ' ').split()"
   ]
  },
  {
   "cell_type": "code",
   "execution_count": 54,
   "metadata": {},
   "outputs": [
    {
     "name": "stdout",
     "output_type": "stream",
     "text": [
      "37495\n"
     ]
    }
   ],
   "source": [
    "print(len(unigram_tokens))"
   ]
  },
  {
   "cell_type": "code",
   "execution_count": 55,
   "metadata": {},
   "outputs": [
    {
     "name": "stdout",
     "output_type": "stream",
     "text": [
      "Loading file...\n",
      "file loaded\n"
     ]
    }
   ],
   "source": [
    "if (\"../data\\\\Q01_unigram_prob1.0.npz\" not in glob.glob(\"../data/*.npz\")):\n",
    "    print(\"calculating probs...\")\n",
    "    unigram_prob = calculate_unigram_probs(unigram_tokens)\n",
    "    print(\"probs saving to file '../data/Q01_unigram_prob1.0.npz'\")\n",
    "    np.savez(\"../data/Q01_unigram_prob1.0.npz\", keys = unigram_prob['keys'], values = unigram_prob['values'])\n",
    "    print(\"Probs calculated and saved in file\")\n",
    "else:\n",
    "    print(\"Loading file...\")\n",
    "    unigram_prob = np.load(\"../data/Q01_unigram_prob1.0.npz\")\n",
    "    print(\"file loaded\")"
   ]
  },
  {
   "cell_type": "code",
   "execution_count": 56,
   "metadata": {},
   "outputs": [],
   "source": [
    "words, probs = suggest_words_unigram(unigram_prob['values'], unigram_prob['keys'], word_ = 'ک', n = 5)"
   ]
  },
  {
   "cell_type": "code",
   "execution_count": 57,
   "metadata": {},
   "outputs": [
    {
     "name": "stdout",
     "output_type": "stream",
     "text": [
      "کے 0.04293619574638309\n",
      "کی 0.031068737915861056\n",
      "کا 0.0176678445229682\n",
      "کو 0.014867657843856257\n",
      "کہ 0.01060070671378092\n"
     ]
    }
   ],
   "source": [
    "for i in range(0, len(words)):\n",
    "    print(words[i], probs[i])"
   ]
  },
  {
   "cell_type": "markdown",
   "metadata": {},
   "source": [
    "# Train bigram"
   ]
  },
  {
   "cell_type": "code",
   "execution_count": 58,
   "metadata": {},
   "outputs": [],
   "source": [
    "bigram_tokens = train_data.split()"
   ]
  },
  {
   "cell_type": "code",
   "execution_count": 59,
   "metadata": {},
   "outputs": [
    {
     "name": "stdout",
     "output_type": "stream",
     "text": [
      "39395\n"
     ]
    }
   ],
   "source": [
    "print(len(bigram_tokens))"
   ]
  },
  {
   "cell_type": "code",
   "execution_count": 60,
   "metadata": {},
   "outputs": [
    {
     "name": "stdout",
     "output_type": "stream",
     "text": [
      "Loading file...\n",
      "file loaded\n"
     ]
    }
   ],
   "source": [
    "if (\"../data\\\\Q01_bigram_prob1.0.pkl\" not in glob.glob(\"../data/*.pkl\")):\n",
    "    print(\"calculating probs...\")\n",
    "    bigram_prob = calculate_bigram_probs(bigram_tokens)\n",
    "    \n",
    "    print(\"probs saving to file '../data/Q01_bigram_prob1.0.pkl'\")\n",
    "    pickle.dump(bigram_prob, open( \"../data/Q01_bigram_prob1.0.pkl\", \"wb\"))\n",
    "    \n",
    "    print(\"Probs calculated and saved in file\")\n",
    "else:\n",
    "    print(\"Loading file...\")\n",
    "    bigram_prob = pickle.load( open( \"../data/Q01_bigram_prob1.0.pkl\", \"rb\" ) )\n",
    "    print(\"file loaded\")"
   ]
  },
  {
   "cell_type": "code",
   "execution_count": 61,
   "metadata": {},
   "outputs": [],
   "source": [
    "words, probs = suggest_words_bigram(bigram_prob, word_ = 'کا ', n = 5)"
   ]
  },
  {
   "cell_type": "code",
   "execution_count": 62,
   "metadata": {},
   "outputs": [
    {
     "name": "stdout",
     "output_type": "stream",
     "text": [
      "کہنا 0.12641509433962264\n",
      "امکان 0.022641509433962263\n",
      "حکم 0.018867924528301886\n",
      "حکم 0.018867924528301886\n",
      "فیصلہ 0.016981132075471698\n"
     ]
    }
   ],
   "source": [
    "for i in range(0, len(words)):\n",
    "    print(words[i], probs[i])"
   ]
  },
  {
   "cell_type": "markdown",
   "metadata": {},
   "source": [
    "## Train Interpolated"
   ]
  },
  {
   "cell_type": "code",
   "execution_count": 63,
   "metadata": {},
   "outputs": [
    {
     "name": "stdout",
     "output_type": "stream",
     "text": [
      "Loading file...\n",
      "file loaded\n"
     ]
    }
   ],
   "source": [
    "if (\"../data\\\\Q01_interpolated_prob1.0.pkl\" not in glob.glob(\"../data/*.pkl\")):\n",
    "    print(\"calculating probs...\")\n",
    "    intp_prob = calc_interpolated_probs(unigram_prob, bigram_prob, lambda1=0.7, lambda2=0.3)\n",
    "    print(\"probs saving to file '../data/Q01_interpolated_prob1.0.pkl'\")\n",
    "    pickle.dump(bigram_prob, open( \"../data/Q01_interpolated_prob1.0.pkl\", \"wb\"))\n",
    "    \n",
    "    print(\"Probs calculated and saved in file\")\n",
    "else:\n",
    "    print(\"Loading file...\")\n",
    "    intp_prob = pickle.load( open( \"../data/Q01_interpolated_prob1.0.pkl\", \"rb\" ) )\n",
    "    print(\"file loaded\")"
   ]
  },
  {
   "cell_type": "code",
   "execution_count": 46,
   "metadata": {},
   "outputs": [],
   "source": [
    "words, probs = suggest_words_bigram(intp, word_ = 'کا ', n = 10)"
   ]
  },
  {
   "cell_type": "code",
   "execution_count": 47,
   "metadata": {},
   "outputs": [
    {
     "name": "stdout",
     "output_type": "stream",
     "text": [
      "کہنا 0.058069257950530036\n",
      "ہے 0.013542129475298354\n",
      "امکان 0.010382612174144943\n",
      "بھی 0.009542022801520101\n",
      "حکم 0.008784052270151343\n",
      "شکار 0.008655243682912194\n",
      "فیصلہ 0.007901966797786517\n",
      "نام 0.007240696046403094\n",
      "اظہار 0.007019881325421694\n",
      "اعلان 0.007001480098673246\n"
     ]
    }
   ],
   "source": [
    "for i in range(0, len(words)):\n",
    "    print(words[i], probs[i])"
   ]
  },
  {
   "cell_type": "code",
   "execution_count": null,
   "metadata": {},
   "outputs": [],
   "source": []
  }
 ],
 "metadata": {
  "kernelspec": {
   "display_name": "Python 3",
   "language": "python",
   "name": "python3"
  },
  "language_info": {
   "codemirror_mode": {
    "name": "ipython",
    "version": 3
   },
   "file_extension": ".py",
   "mimetype": "text/x-python",
   "name": "python",
   "nbconvert_exporter": "python",
   "pygments_lexer": "ipython3",
   "version": "3.5.2"
  }
 },
 "nbformat": 4,
 "nbformat_minor": 2
}
