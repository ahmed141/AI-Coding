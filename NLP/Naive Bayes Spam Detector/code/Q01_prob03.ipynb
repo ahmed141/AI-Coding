{
 "cells": [
  {
   "cell_type": "code",
   "execution_count": 2,
   "metadata": {},
   "outputs": [],
   "source": [
    "import codecs\n",
    "import numpy as np\n",
    "import glob\n",
    "import pickle\n",
    "import numpy as np"
   ]
  },
  {
   "cell_type": "code",
   "execution_count": 3,
   "metadata": {},
   "outputs": [],
   "source": [
    "train_count = pickle.load(open(\"../data/train_count3.0.pkl\", 'rb'))\n",
    "train_ham_count = pickle.load(open(\"../data/train_ham_count3.0.pkl\", 'rb'))\n",
    "train_spam_count = pickle.load(open(\"../data/train_spam_count3.0.pkl\", 'rb'))"
   ]
  },
  {
   "cell_type": "code",
   "execution_count": 36,
   "metadata": {},
   "outputs": [],
   "source": [
    "train_Vocab = list(train_count.keys())\n",
    "train_ham_Vocab = list(train_ham_count.keys())\n",
    "train_spam_Vocab = list(train_spam_count.keys())\n",
    "\n",
    "train_Count = np.array(list(train_count.values()), 'uint32')\n",
    "train_ham_Count = np.array(list(train_ham_count.values()), 'uint32')\n",
    "train_spam_Count = np.array(list(train_spam_count.values()), 'uint32')"
   ]
  },
  {
   "cell_type": "code",
   "execution_count": 39,
   "metadata": {},
   "outputs": [],
   "source": [
    "train_ham_Prob =  (train_ham_Count + 1)/(np.sum(train_ham_Count) + len(train_Vocab))\n",
    "train_spam_Prob = (train_spam_Count + 1)/(np.sum(train_spam_Count) + len(train_Vocab))"
   ]
  },
  {
   "cell_type": "code",
   "execution_count": 40,
   "metadata": {},
   "outputs": [],
   "source": [
    "spam_docs = len(glob.glob(\"../data/train/spam/*.txt\"))\n",
    "ham_docs = len(glob.glob(\"../data/train/ham/*.txt\"))\n",
    "spam_prior = spam_docs/(spam_docs+ham_docs)\n",
    "ham_prior = ham_docs/(spam_docs+ham_docs)"
   ]
  },
  {
   "cell_type": "code",
   "execution_count": 41,
   "metadata": {},
   "outputs": [
    {
     "name": "stdout",
     "output_type": "stream",
     "text": [
      "1496\n",
      "4361\n",
      "0.2554208639235103\n",
      "0.7445791360764896\n"
     ]
    }
   ],
   "source": [
    "print(spam_docs)\n",
    "print(ham_docs)\n",
    "print(spam_prior)\n",
    "print(ham_prior)"
   ]
  },
  {
   "cell_type": "code",
   "execution_count": 42,
   "metadata": {},
   "outputs": [],
   "source": [
    "Train = {\n",
    "    'ham_vocab': train_ham_Vocab,\n",
    "    'ham_prob': train_ham_Prob,\n",
    "    'ham_prior': ham_prior,\n",
    "    'spam_vocab': train_spam_Vocab,\n",
    "    'spam_prob': train_spam_Prob,\n",
    "    'spam_prior': spam_prior\n",
    "}"
   ]
  },
  {
   "cell_type": "code",
   "execution_count": 43,
   "metadata": {},
   "outputs": [],
   "source": [
    "pickle.dump(Train, open( \"../data/train_model3.0v2.pkl\", \"wb\"))"
   ]
  },
  {
   "cell_type": "code",
   "execution_count": null,
   "metadata": {},
   "outputs": [],
   "source": []
  }
 ],
 "metadata": {
  "kernelspec": {
   "display_name": "Python 3",
   "language": "python",
   "name": "python3"
  },
  "language_info": {
   "codemirror_mode": {
    "name": "ipython",
    "version": 3
   },
   "file_extension": ".py",
   "mimetype": "text/x-python",
   "name": "python",
   "nbconvert_exporter": "python",
   "pygments_lexer": "ipython3",
   "version": "3.5.2"
  }
 },
 "nbformat": 4,
 "nbformat_minor": 2
}
