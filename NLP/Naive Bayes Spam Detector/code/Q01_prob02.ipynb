{
 "cells": [
  {
   "cell_type": "code",
   "execution_count": 1,
   "metadata": {},
   "outputs": [],
   "source": [
    "import codecs\n",
    "import numpy as np\n",
    "import glob\n",
    "import pickle\n",
    "import numpy as np"
   ]
  },
  {
   "cell_type": "code",
   "execution_count": 5,
   "metadata": {},
   "outputs": [],
   "source": [
    "train_ham_count = pickle.load(open(\"../data/train_ham_count2.0.pkl\", 'rb'))\n",
    "train_spam_count = pickle.load(open(\"../data/train_spam_count2.0.pkl\", 'rb'))"
   ]
  },
  {
   "cell_type": "code",
   "execution_count": 6,
   "metadata": {},
   "outputs": [
    {
     "data": {
      "text/plain": [
       "414717"
      ]
     },
     "execution_count": 6,
     "metadata": {},
     "output_type": "execute_result"
    }
   ],
   "source": [
    "np.sum(np.array(list(train_spam_count.values())))"
   ]
  },
  {
   "cell_type": "code",
   "execution_count": 7,
   "metadata": {},
   "outputs": [],
   "source": [
    "train_count = {**train_ham_count, **train_spam_count}"
   ]
  },
  {
   "cell_type": "code",
   "execution_count": 8,
   "metadata": {},
   "outputs": [],
   "source": [
    "for i in train_count:\n",
    "    if ((i in list(train_ham_count.keys())) and (i in list(train_spam_count.keys()))):\n",
    "        train_count[i] = train_ham_count[i]+train_spam_count[i]"
   ]
  },
  {
   "cell_type": "code",
   "execution_count": 9,
   "metadata": {},
   "outputs": [],
   "source": [
    "pickle.dump(train_count, open( \"../data/train_count2.0.pkl\", \"wb\"))"
   ]
  },
  {
   "cell_type": "code",
   "execution_count": 10,
   "metadata": {},
   "outputs": [],
   "source": [
    "train_count_keys = list(train_count.keys())\n",
    "train_ham_count_keys = list(train_ham_count.keys())\n",
    "train_spam_count_keys = list(train_spam_count.keys())\n",
    "\n",
    "for i in train_count_keys:\n",
    "    if i not in train_ham_count_keys:\n",
    "        train_ham_count[i] = 0\n",
    "    if i not in train_spam_count_keys:\n",
    "        train_spam_count[i] = 0"
   ]
  },
  {
   "cell_type": "code",
   "execution_count": 46,
   "metadata": {},
   "outputs": [],
   "source": [
    "pickle.dump(train_count, open( \"../data/train_count3.0.pkl\", \"wb\"))\n",
    "pickle.dump(train_ham_count, open( \"../data/train_ham_count3.0.pkl\", \"wb\"))\n",
    "pickle.dump(train_spam_count, open( \"../data/train_spam_count3.0.pkl\", \"wb\"))"
   ]
  },
  {
   "cell_type": "code",
   "execution_count": 42,
   "metadata": {},
   "outputs": [],
   "source": [
    "train_count_keys = list(train_count.keys())\n",
    "train_ham_count_keys = list(train_ham_count.keys())\n",
    "train_spam_count_keys = list(train_spam_count.keys())"
   ]
  },
  {
   "cell_type": "code",
   "execution_count": 43,
   "metadata": {},
   "outputs": [
    {
     "name": "stdout",
     "output_type": "stream",
     "text": [
      "97181\n",
      "9785\n",
      "106966\n"
     ]
    }
   ],
   "source": [
    "print(train_ham_count[train_count_keys[26304]])\n",
    "print(train_spam_count[train_count_keys[26304]])\n",
    "print(train_count[train_count_keys[26304]])"
   ]
  },
  {
   "cell_type": "code",
   "execution_count": 44,
   "metadata": {},
   "outputs": [
    {
     "name": "stdout",
     "output_type": "stream",
     "text": [
      "41059\n",
      "41059\n"
     ]
    }
   ],
   "source": [
    "print(len(train_ham_count_keys))\n",
    "print(len(train_spam_count_keys))"
   ]
  },
  {
   "cell_type": "code",
   "execution_count": 45,
   "metadata": {},
   "outputs": [
    {
     "name": "stdout",
     "output_type": "stream",
     "text": [
      "administering\n",
      "tapes\n",
      "-\n"
     ]
    }
   ],
   "source": [
    "print(train_ham_count_keys[26304])\n",
    "print(train_spam_count_keys[26304])\n",
    "print(train_count_keys[26304])"
   ]
  },
  {
   "cell_type": "code",
   "execution_count": null,
   "metadata": {},
   "outputs": [],
   "source": []
  }
 ],
 "metadata": {
  "kernelspec": {
   "display_name": "Python 3",
   "language": "python",
   "name": "python3"
  },
  "language_info": {
   "codemirror_mode": {
    "name": "ipython",
    "version": 3
   },
   "file_extension": ".py",
   "mimetype": "text/x-python",
   "name": "python",
   "nbconvert_exporter": "python",
   "pygments_lexer": "ipython3",
   "version": "3.5.2"
  }
 },
 "nbformat": 4,
 "nbformat_minor": 2
}
