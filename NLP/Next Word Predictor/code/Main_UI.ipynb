{
 "cells": [
  {
   "cell_type": "code",
   "execution_count": 1,
   "metadata": {},
   "outputs": [],
   "source": [
    "#learning from 'https://www.youtube.com/watch?v=HzY2ck-uTCY' and docs -Ackowledgment\n",
    "import tkinter as tk"
   ]
  },
  {
   "cell_type": "code",
   "execution_count": 2,
   "metadata": {},
   "outputs": [],
   "source": [
    "def get_input_unigram():\n",
    "    \n",
    "    e = tk.Entry(root).pack(anchor=tk.W)\n",
    "    \n",
    "    return"
   ]
  },
  {
   "cell_type": "code",
   "execution_count": 8,
   "metadata": {},
   "outputs": [
    {
     "name": "stdout",
     "output_type": "stream",
     "text": [
      "halwa\n"
     ]
    }
   ],
   "source": [
    "root = tk.Tk()\n",
    "\n",
    "root.title(\"Word Prediction System\")\n",
    "\n",
    "\n",
    "tk.Label(root, text=\"Choose a  Gram-method:\", justify = tk.LEFT, padx = 20).pack()\n",
    "\n",
    "v = tk.IntVar()\n",
    "tk.Radiobutton(root, text=\"uni-gram\", padx = 20,  variable= v, value=1).pack(anchor=tk.W)\n",
    "tk.Radiobutton(root, text=\"bi-gram\", padx = 20, variable= v, value=2).pack(anchor=tk.W)\n",
    "tk.Radiobutton(root, text=\"tri-gram\", padx = 20, variable= v, value=3).pack(anchor=tk.W)\n",
    "\n",
    "choice = v.get()\n",
    "root.mainloop()\n",
    "\n",
    "''''\n",
    "if(choice == 1):\n",
    "    get_input_unigram()\n",
    "elif(choice == 2):\n",
    "    print(\"halwa\")\n",
    "else:\n",
    "    print(\"halwa\")\n",
    "''''"
   ]
  },
  {
   "cell_type": "code",
   "execution_count": 19,
   "metadata": {},
   "outputs": [
    {
     "name": "stdout",
     "output_type": "stream",
     "text": [
      "3\n"
     ]
    }
   ],
   "source": []
  },
  {
   "cell_type": "code",
   "execution_count": null,
   "metadata": {},
   "outputs": [],
   "source": []
  }
 ],
 "metadata": {
  "kernelspec": {
   "display_name": "Python 3",
   "language": "python",
   "name": "python3"
  },
  "language_info": {
   "codemirror_mode": {
    "name": "ipython",
    "version": 3
   },
   "file_extension": ".py",
   "mimetype": "text/x-python",
   "name": "python",
   "nbconvert_exporter": "python",
   "pygments_lexer": "ipython3",
   "version": "3.5.2"
  }
 },
 "nbformat": 4,
 "nbformat_minor": 2
}
