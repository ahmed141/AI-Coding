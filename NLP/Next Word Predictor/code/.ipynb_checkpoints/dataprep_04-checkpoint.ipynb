{
 "cells": [
  {
   "cell_type": "code",
   "execution_count": 39,
   "metadata": {},
   "outputs": [],
   "source": [
    "import codecs\n",
    "import numpy as np\n",
    "\n",
    "import glob"
   ]
  },
  {
   "cell_type": "markdown",
   "metadata": {},
   "source": [
    "# Reading text file"
   ]
  },
  {
   "cell_type": "code",
   "execution_count": 40,
   "metadata": {},
   "outputs": [],
   "source": [
    "text_words = ''\n",
    "for i in glob.glob(\"../data/allsentences01.urdu\"):\n",
    "    f_words1 = codecs.open(i, \"r\", \"utf-8\")\n",
    "    text_words += f_words1.read()"
   ]
  },
  {
   "cell_type": "code",
   "execution_count": 41,
   "metadata": {},
   "outputs": [
    {
     "data": {
      "text/plain": [
       "473777"
      ]
     },
     "execution_count": 41,
     "metadata": {},
     "output_type": "execute_result"
    }
   ],
   "source": [
    "len(text_words)"
   ]
  },
  {
   "cell_type": "code",
   "execution_count": 42,
   "metadata": {},
   "outputs": [
    {
     "data": {
      "text/plain": [
       "'نیب کی جانب سے گرفتار کئے گئے پنجاب یونیورسٹی کی سابق وائس چانسلر مجاہد کامران اور دوسرے پروفیسر ہائی کورٹ سے ضمانت پر رہا تو ہوگئے لیکن انہیں گرفتار کرنے کے بعد ہتھکڑی لگا کر احتساب عدالت میں پیش کیا گیا تو ایک مسئلہ کھڑا ہوگیا\\n لیکن ہتھکڑیاں لگانے کے معاملہ نہ صرف میڈیا بلکہ ہر دوسرے شخص کی زبان پ'"
      ]
     },
     "execution_count": 42,
     "metadata": {},
     "output_type": "execute_result"
    }
   ],
   "source": [
    "text_words[0:300]"
   ]
  },
  {
   "cell_type": "code",
   "execution_count": 43,
   "metadata": {},
   "outputs": [],
   "source": [
    "sentence_tokens = text_words.split('\\n')"
   ]
  },
  {
   "cell_type": "code",
   "execution_count": 44,
   "metadata": {},
   "outputs": [
    {
     "data": {
      "text/plain": [
       "15150"
      ]
     },
     "execution_count": 44,
     "metadata": {},
     "output_type": "execute_result"
    }
   ],
   "source": [
    "len(sentence_tokens)"
   ]
  },
  {
   "cell_type": "code",
   "execution_count": 45,
   "metadata": {},
   "outputs": [],
   "source": [
    "file_str = ''\n",
    "\n",
    "for i in range(0, len(sentence_tokens)):\n",
    "    temp = sentence_tokens[i].split()\n",
    "    if (len(temp) != 0):\n",
    "        file_str += ' '\n",
    "        for j in range (0, len(temp)):\n",
    "            file_str += str(temp[j])\n",
    "            if (j != len(temp)-1):\n",
    "                file_str += ' '\n",
    "        file_str += ' '\n",
    "        file_str += '\\n'"
   ]
  },
  {
   "cell_type": "code",
   "execution_count": 46,
   "metadata": {},
   "outputs": [],
   "source": [
    "file = codecs.open('../data/uniallsentences02.urdu', 'w', 'utf-8')\n",
    "file.write(file_str)\n",
    "file.close()"
   ]
  },
  {
   "cell_type": "code",
   "execution_count": null,
   "metadata": {},
   "outputs": [],
   "source": []
  }
 ],
 "metadata": {
  "kernelspec": {
   "display_name": "Python 3",
   "language": "python",
   "name": "python3"
  },
  "language_info": {
   "codemirror_mode": {
    "name": "ipython",
    "version": 3
   },
   "file_extension": ".py",
   "mimetype": "text/x-python",
   "name": "python",
   "nbconvert_exporter": "python",
   "pygments_lexer": "ipython3",
   "version": "3.5.2"
  }
 },
 "nbformat": 4,
 "nbformat_minor": 2
}
