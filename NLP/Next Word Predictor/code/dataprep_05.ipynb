{
 "cells": [
  {
   "cell_type": "code",
   "execution_count": 22,
   "metadata": {},
   "outputs": [],
   "source": [
    "import codecs\n",
    "import numpy as np\n",
    "import glob"
   ]
  },
  {
   "cell_type": "markdown",
   "metadata": {},
   "source": [
    "# Reading text file"
   ]
  },
  {
   "cell_type": "code",
   "execution_count": 29,
   "metadata": {},
   "outputs": [],
   "source": [
    "text_words = ''\n",
    "for i in glob.glob(\"../data/uniallsentences02.urdu\"):\n",
    "    f_words1 = codecs.open(i, \"r\", \"utf-8\")\n",
    "    text_words += f_words1.read()"
   ]
  },
  {
   "cell_type": "code",
   "execution_count": 30,
   "metadata": {},
   "outputs": [
    {
     "data": {
      "text/plain": [
       "465545"
      ]
     },
     "execution_count": 30,
     "metadata": {},
     "output_type": "execute_result"
    }
   ],
   "source": [
    "len(text_words)"
   ]
  },
  {
   "cell_type": "code",
   "execution_count": 31,
   "metadata": {},
   "outputs": [],
   "source": [
    "word_tokens = text_words.split('\\n')"
   ]
  },
  {
   "cell_type": "code",
   "execution_count": 32,
   "metadata": {},
   "outputs": [
    {
     "name": "stdout",
     "output_type": "stream",
     "text": [
      "7714\n"
     ]
    }
   ],
   "source": [
    "print(len(word_tokens))"
   ]
  },
  {
   "cell_type": "code",
   "execution_count": 33,
   "metadata": {},
   "outputs": [],
   "source": [
    "train_file_str = ''\n",
    "test_file_str = ''\n",
    "\n",
    "for i in range(0, len(word_tokens)):\n",
    "    for j in range(0, len(word_tokens[i])):\n",
    "        if (i%5 == 0):\n",
    "            test_file_str += word_tokens[i][j]\n",
    "        else:\n",
    "            train_file_str += word_tokens[i][j]\n",
    "    \n",
    "    if (i%5 == 0):\n",
    "        test_file_str += '\\n'\n",
    "    else:\n",
    "           train_file_str += '\\n'\n",
    "    \n",
    "            "
   ]
  },
  {
   "cell_type": "code",
   "execution_count": 34,
   "metadata": {},
   "outputs": [],
   "source": [
    "file = codecs.open('../data/uniallsentences_test.urdu', 'w', 'utf-8')\n",
    "file.write(test_file_str)\n",
    "file.close()\n",
    "\n",
    "file = codecs.open('../data/uniallsentences_train.urdu', 'w', 'utf-8')\n",
    "file.write(train_file_str)\n",
    "file.close()"
   ]
  },
  {
   "cell_type": "code",
   "execution_count": null,
   "metadata": {},
   "outputs": [],
   "source": []
  },
  {
   "cell_type": "code",
   "execution_count": null,
   "metadata": {},
   "outputs": [],
   "source": []
  }
 ],
 "metadata": {
  "kernelspec": {
   "display_name": "Python 3",
   "language": "python",
   "name": "python3"
  },
  "language_info": {
   "codemirror_mode": {
    "name": "ipython",
    "version": 3
   },
   "file_extension": ".py",
   "mimetype": "text/x-python",
   "name": "python",
   "nbconvert_exporter": "python",
   "pygments_lexer": "ipython3",
   "version": "3.5.2"
  }
 },
 "nbformat": 4,
 "nbformat_minor": 2
}
