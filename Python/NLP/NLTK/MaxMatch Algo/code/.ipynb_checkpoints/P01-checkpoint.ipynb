{
 "cells": [
  {
   "cell_type": "code",
   "execution_count": 1,
   "metadata": {},
   "outputs": [],
   "source": [
    "import codecs"
   ]
  },
  {
   "cell_type": "markdown",
   "metadata": {},
   "source": [
    "# Reading 'wordslist' file"
   ]
  },
  {
   "cell_type": "code",
   "execution_count": 2,
   "metadata": {},
   "outputs": [],
   "source": [
    "file1 = \"../wordlist.txt\"\n",
    "f_words = codecs.open(file1, \"r\", \"utf-8\")"
   ]
  },
  {
   "cell_type": "code",
   "execution_count": 3,
   "metadata": {},
   "outputs": [],
   "source": [
    "text_words = f_words.read()"
   ]
  },
  {
   "cell_type": "code",
   "execution_count": 4,
   "metadata": {},
   "outputs": [],
   "source": [
    "words = text_words.split('\\n')"
   ]
  },
  {
   "cell_type": "markdown",
   "metadata": {},
   "source": [
    "# Reading '50_nospaces' file"
   ]
  },
  {
   "cell_type": "code",
   "execution_count": 5,
   "metadata": {},
   "outputs": [],
   "source": [
    "file2 = \"../50_nospaces.txt\"\n",
    "f_words = codecs.open(file2, \"r\", \"utf-8\")"
   ]
  },
  {
   "cell_type": "code",
   "execution_count": 6,
   "metadata": {},
   "outputs": [],
   "source": [
    "text_words = f_words.read()"
   ]
  },
  {
   "cell_type": "code",
   "execution_count": 7,
   "metadata": {},
   "outputs": [],
   "source": [
    "text_sentences = text_words.split('\\n')"
   ]
  },
  {
   "cell_type": "markdown",
   "metadata": {},
   "source": [
    "# Functions Definitions"
   ]
  },
  {
   "cell_type": "code",
   "execution_count": 8,
   "metadata": {},
   "outputs": [],
   "source": [
    "def Max_Size(words_dict):\n",
    "    '''\n",
    "        returns max size and index of word in 'words_dict' \n",
    "    '''\n",
    "    max_size = 0\n",
    "    max_index = 0\n",
    "    for i in range(0, len(words_dict)):\n",
    "        if (len(words_dict[i]) > max_size):\n",
    "            max_size = len(words_dict[i])\n",
    "            max_index = i\n",
    "    return max_size, max_index"
   ]
  },
  {
   "cell_type": "code",
   "execution_count": 9,
   "metadata": {},
   "outputs": [],
   "source": [
    "def Match_Word(word, dict_):\n",
    "    '''\n",
    "        return True if 'word' is found in 'dict_'\n",
    "    '''\n",
    "    match = False\n",
    "    \n",
    "    for i in range(0, len(dict_)):\n",
    "        if(word == dict_[i]):\n",
    "            match = True\n",
    "            break\n",
    "    \n",
    "    return match"
   ]
  },
  {
   "cell_type": "code",
   "execution_count": 10,
   "metadata": {},
   "outputs": [],
   "source": [
    "def MaxMatch (sentence, words_dict):\n",
    "    '''\n",
    "    Input:\n",
    "        sentence:   a string that is to be tokenized using max match algorithm\n",
    "        words_dict: the list of words i.e. dictionary\n",
    "    Output:\n",
    "        words_match_list:  The list of words extracted after applying max match\n",
    "    '''\n",
    "    tokenized_sentence = None\n",
    "    max_word_size, max_word_indx = Max_Size(words_dict)\n",
    "    \n",
    "    words_match_list = []\n",
    "    \n",
    "    # print('Max_Word_Size:\\t\\t'+str(max_word_size)+\"\\t\\t Max_Size_Word:\\t\\t\"+str(words_dict[max_word_indx]) + \"\\tindex:\\t\\t\" + str(max_word_indx))\n",
    "    \n",
    "    a = 0\n",
    "    for i in range(0, len(sentence)):\n",
    "        if(a < len(sentence)):\n",
    "            flag_match_found = False\n",
    "            max_word = None\n",
    "            match_idx = 0\n",
    "\n",
    "            for j in range(0, max_word_size):\n",
    "\n",
    "                itr_word = sentence[a:(a+j+1)]\n",
    "\n",
    "                if(Match_Word(itr_word, words_dict)):\n",
    "                    max_word = itr_word\n",
    "                    flag_match_found = True\n",
    "                    match_idx = j\n",
    "\n",
    "            if (flag_match_found):\n",
    "                words_match_list.append(max_word)\n",
    "                a = a+match_idx+1\n",
    "            else:\n",
    "                words_match_list.append(sentence[a])\n",
    "                a += 1\n",
    "        else:\n",
    "            break\n",
    "    \n",
    "    return words_match_list"
   ]
  },
  {
   "cell_type": "markdown",
   "metadata": {},
   "source": [
    "# Using main function"
   ]
  },
  {
   "cell_type": "code",
   "execution_count": 11,
   "metadata": {},
   "outputs": [],
   "source": [
    "sentence = text_sentences[10]"
   ]
  },
  {
   "cell_type": "code",
   "execution_count": 12,
   "metadata": {},
   "outputs": [],
   "source": [
    "out = MaxMatch(sentence, words)"
   ]
  },
  {
   "cell_type": "code",
   "execution_count": 13,
   "metadata": {},
   "outputs": [
    {
     "name": "stdout",
     "output_type": "stream",
     "text": [
      "Input Sentence:\t\tدیکھوسوزشنےشیرکاکیاحلیہبنادیاہےبلکہاسکیدھاڑسےلومڑاورچوزےبھیچیخنےلگے\n",
      "\n",
      "Output Tokens:\t\n",
      "\n",
      "['دیکھو', 'سوزش', 'نے', 'شیر', 'کا', 'کیا', 'حلیہ', 'بنا', 'دیا', 'ہے', 'بلکہ', 'اس', 'کی', 'دھاڑ', 'سے', 'لومڑ', 'اور', 'چوزے', 'بھی', 'چیخنے', 'لگے']\n"
     ]
    }
   ],
   "source": [
    "print(\"Input Sentence:\\t\\t\"+str(sentence)+\"\\n\\nOutput Tokens:\\t\\n\\n\" + str(out))"
   ]
  },
  {
   "cell_type": "code",
   "execution_count": 14,
   "metadata": {},
   "outputs": [],
   "source": [
    "final_str = ''\n",
    "for i in range (0, len(out)):\n",
    "    final_str += out[i]\n",
    "    \n",
    "    if(i < (len(out)-1)):\n",
    "        final_str += ' '"
   ]
  },
  {
   "cell_type": "code",
   "execution_count": 15,
   "metadata": {},
   "outputs": [
    {
     "name": "stdout",
     "output_type": "stream",
     "text": [
      "Tokenized String:\n",
      "\n",
      "دیکھو سوزش نے شیر کا کیا حلیہ بنا دیا ہے بلکہ اس کی دھاڑ سے لومڑ اور چوزے بھی چیخنے لگے\n"
     ]
    }
   ],
   "source": [
    "print(\"Tokenized String:\\n\")\n",
    "print(final_str)"
   ]
  },
  {
   "cell_type": "code",
   "execution_count": null,
   "metadata": {},
   "outputs": [],
   "source": []
  }
 ],
 "metadata": {
  "kernelspec": {
   "display_name": "Python 3",
   "language": "python",
   "name": "python3"
  },
  "language_info": {
   "codemirror_mode": {
    "name": "ipython",
    "version": 3
   },
   "file_extension": ".py",
   "mimetype": "text/x-python",
   "name": "python",
   "nbconvert_exporter": "python",
   "pygments_lexer": "ipython3",
   "version": "3.5.2"
  }
 },
 "nbformat": 4,
 "nbformat_minor": 2
}
