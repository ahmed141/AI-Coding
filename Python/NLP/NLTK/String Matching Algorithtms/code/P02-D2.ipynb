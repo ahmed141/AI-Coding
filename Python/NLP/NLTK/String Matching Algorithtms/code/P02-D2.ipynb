{
 "cells": [
  {
   "cell_type": "code",
   "execution_count": 1,
   "metadata": {},
   "outputs": [],
   "source": [
    "import numpy as np"
   ]
  },
  {
   "cell_type": "markdown",
   "metadata": {},
   "source": [
    "# Dataset 2"
   ]
  },
  {
   "cell_type": "code",
   "execution_count": 2,
   "metadata": {},
   "outputs": [],
   "source": [
    "GNOMES = {\n",
    "    \"pair1\": [\"G T T T C T T T G A C C T T T T A\".split(), \"A C C G C T C T C T T A G A A G A\".split()],\n",
    "    \"pair2\": [\"G A G A C A G A T A G C T T C T T\".split(), \"A C C G G T G C G C C A C C G T A\".split()],\n",
    "    \"pair3\": [\"G G C A G T A C G A T C G C A C G\".split(), \"C C C C A T G T G A A C G A T T G\".split()],\n",
    "    \"pair4\": [\"G T A A A C C C A G T G T C C T G\".split(), \"T G A G C G A C A A A A G C T T A\".split()],\n",
    "    \"pair5\": [\"A A T G G G A A A T A C G C G C C\".split(), \"C A T A A C T T G G T G C G A A T\".split()]\n",
    "}"
   ]
  },
  {
   "cell_type": "markdown",
   "metadata": {},
   "source": [
    "# Functions definitions"
   ]
  },
  {
   "cell_type": "code",
   "execution_count": 3,
   "metadata": {},
   "outputs": [],
   "source": [
    "%run \"Functions_Defs.ipynb\""
   ]
  },
  {
   "cell_type": "code",
   "execution_count": 4,
   "metadata": {},
   "outputs": [],
   "source": [
    "Distances = {}\n",
    "Distances[\"MED_word\"] = 0\n",
    "Distances[\"EUC_word\"] = 0\n",
    "Distances[\"MAN_word\"] = 0\n",
    "Distances[\"CHB_word\"] = 0\n",
    "Distances[\"COS_word\"] = 0\n",
    "Distances[\"JAC_word\"] = 0\n",
    "Distances[\"JAC_bigram\"] = 0\n",
    "Distances[\"Hamming\"] = 0"
   ]
  },
  {
   "cell_type": "markdown",
   "metadata": {},
   "source": [
    "## Word base\n",
    "Minimum Edit Distance,\n",
    "Euclidean Distance, Manhattan Distance, Chebychev Distance, Cosine Similairty, Jaccard Similarity, Hamming"
   ]
  },
  {
   "cell_type": "code",
   "execution_count": 5,
   "metadata": {
    "scrolled": false
   },
   "outputs": [
    {
     "name": "stdout",
     "output_type": "stream",
     "text": [
      "GNOMES\n",
      "\n",
      "Pair:\t\t\t\t pair3\n",
      "Minimum Edit Distance:\t\t 14\n",
      "Euclidean Distance:\t\t 0.1663780661615406\n",
      "Manhattan Distance:\t\t 0.23529411764705885\n",
      "Chebychev Distance:\t\t 0.11764705882352944\n",
      "Cosine Similarity:\t\t 0.9493337494797257\n",
      "Cosine Distance:\t\t 0.05066625052027429\n",
      "Jaccard Similarity:\t\t 1.0\n",
      "Jaccard Distance:\t\t 0.0\n",
      "Hamming Distance:\t\t 10\n",
      "\n",
      "\n",
      "Pair:\t\t\t\t pair4\n",
      "Minimum Edit Distance:\t\t 18\n",
      "Euclidean Distance:\t\t 0.2200974933396436\n",
      "Manhattan Distance:\t\t 0.3529411764705882\n",
      "Chebychev Distance:\t\t 0.1764705882352941\n",
      "Cosine Similarity:\t\t 0.9121323786332661\n",
      "Cosine Distance:\t\t 0.08786762136673387\n",
      "Jaccard Similarity:\t\t 1.0\n",
      "Jaccard Distance:\t\t 0.0\n",
      "Hamming Distance:\t\t 12\n",
      "\n",
      "\n",
      "Pair:\t\t\t\t pair5\n",
      "Minimum Edit Distance:\t\t 16\n",
      "Euclidean Distance:\t\t 0.20377068324339737\n",
      "Manhattan Distance:\t\t 0.35294117647058826\n",
      "Chebychev Distance:\t\t 0.17647058823529413\n",
      "Cosine Similarity:\t\t 0.9237604307034012\n",
      "Cosine Distance:\t\t 0.07623956929659881\n",
      "Jaccard Similarity:\t\t 1.0\n",
      "Jaccard Distance:\t\t 0.0\n",
      "Hamming Distance:\t\t 15\n",
      "\n",
      "\n",
      "Pair:\t\t\t\t pair1\n",
      "Minimum Edit Distance:\t\t 16\n",
      "Euclidean Distance:\t\t 0.4159451654038515\n",
      "Manhattan Distance:\t\t 0.7058823529411765\n",
      "Chebychev Distance:\t\t 0.35294117647058826\n",
      "Cosine Similarity:\t\t 0.7579399280107457\n",
      "Cosine Distance:\t\t 0.24206007198925428\n",
      "Jaccard Similarity:\t\t 1.0\n",
      "Jaccard Distance:\t\t 0.0\n",
      "Hamming Distance:\t\t 13\n",
      "\n",
      "\n",
      "Pair:\t\t\t\t pair2\n",
      "Minimum Edit Distance:\t\t 18\n",
      "Euclidean Distance:\t\t 0.32218973970892123\n",
      "Manhattan Distance:\t\t 0.5882352941176471\n",
      "Chebychev Distance:\t\t 0.2352941176470588\n",
      "Cosine Similarity:\t\t 0.8170594879790282\n",
      "Cosine Distance:\t\t 0.18294051202097183\n",
      "Jaccard Similarity:\t\t 1.0\n",
      "Jaccard Distance:\t\t 0.0\n",
      "Hamming Distance:\t\t 15\n",
      "\n",
      "\n"
     ]
    }
   ],
   "source": [
    "print(\"GNOMES\\n\")\n",
    "\n",
    "for i in GNOMES:\n",
    "    \n",
    "    print(\"Pair:\\t\\t\\t\\t\",i)\n",
    "    Distances[\"MED_word\"] += word_based(GNOMES[i][0],GNOMES[i][1])[\"MED\"]\n",
    "    Distances[\"EUC_word\"] += euclidean_distance(GNOMES[i][0],GNOMES[i][1], base = 'word', measure = 'freq')\n",
    "    Distances[\"MAN_word\"] += manhattan_distance(GNOMES[i][0],GNOMES[i][1], base = 'word', measure = 'freq')\n",
    "    Distances[\"CHB_word\"] += chebychev_distance(GNOMES[i][0],GNOMES[i][1], base = 'word', measure = 'freq')\n",
    "    Distances[\"COS_word\"] += cosine_distance(GNOMES[i][0],GNOMES[i][1], base = 'word', measure = 'freq')\n",
    "    Distances[\"JAC_word\"] += jaccard_distance(GNOMES[i][0],GNOMES[i][1], base = 'word')\n",
    "    Distances[\"Hamming\"] += hamming_list_str_dist(GNOMES[i][0], GNOMES[i][1])\n",
    "    \n",
    "    print (\"Minimum Edit Distance:\\t\\t\", word_based(GNOMES[i][0],GNOMES[i][1])[\"MED\"])\n",
    "    print (\"Euclidean Distance:\\t\\t\", euclidean_distance(GNOMES[i][0],GNOMES[i][1], base = 'word', measure = 'freq'))\n",
    "    print (\"Manhattan Distance:\\t\\t\", manhattan_distance(GNOMES[i][0],GNOMES[i][1], base = 'word', measure = 'freq'))\n",
    "    print (\"Chebychev Distance:\\t\\t\", chebychev_distance(GNOMES[i][0],GNOMES[i][1], base = 'word', measure = 'freq'))\n",
    "    print (\"Cosine Similarity:\\t\\t\", cosine_similarity(GNOMES[i][0],GNOMES[i][1], base = 'word', measure = 'freq'))\n",
    "    print (\"Cosine Distance:\\t\\t\", cosine_distance(GNOMES[i][0],GNOMES[i][1], base = 'word', measure = 'freq'))\n",
    "    print (\"Jaccard Similarity:\\t\\t\", jaccard_similarity(GNOMES[i][0],GNOMES[i][1], base = 'word'))\n",
    "    print (\"Jaccard Distance:\\t\\t\", jaccard_distance(GNOMES[i][0],GNOMES[i][1], base = 'word'))\n",
    "    print (\"Hamming Distance:\\t\\t\", hamming_list_str_dist(GNOMES[i][0],GNOMES[i][1]))\n",
    "    \n",
    "    print (\"\\n\")"
   ]
  },
  {
   "cell_type": "markdown",
   "metadata": {},
   "source": [
    "## Bigram base\n",
    "Jaccard Similarity"
   ]
  },
  {
   "cell_type": "code",
   "execution_count": 6,
   "metadata": {},
   "outputs": [
    {
     "name": "stdout",
     "output_type": "stream",
     "text": [
      "GNOMES\n",
      "\n",
      "Pair:\t\t\t\t pair3\n",
      "Jaccard Similarity:\t\t 0.3888888888888889\n",
      "Jaccard Distance:\t\t 0.6111111111111112\n",
      "\n",
      "\n",
      "Pair:\t\t\t\t pair4\n",
      "Jaccard Similarity:\t\t 0.3888888888888889\n",
      "Jaccard Distance:\t\t 0.6111111111111112\n",
      "\n",
      "\n",
      "Pair:\t\t\t\t pair5\n",
      "Jaccard Similarity:\t\t 0.5\n",
      "Jaccard Distance:\t\t 0.5\n",
      "\n",
      "\n",
      "Pair:\t\t\t\t pair1\n",
      "Jaccard Similarity:\t\t 0.5\n",
      "Jaccard Distance:\t\t 0.5\n",
      "\n",
      "\n",
      "Pair:\t\t\t\t pair2\n",
      "Jaccard Similarity:\t\t 0.21052631578947367\n",
      "Jaccard Distance:\t\t 0.7894736842105263\n",
      "\n",
      "\n"
     ]
    }
   ],
   "source": [
    "print(\"GNOMES\\n\")\n",
    "for i in GNOMES:\n",
    "    print(\"Pair:\\t\\t\\t\\t\",i)\n",
    "    Distances[\"JAC_bigram\"] += jaccard_distance(GNOMES[i][0], GNOMES[i][1], base = 'bigram')\n",
    "    \n",
    "    print (\"Jaccard Similarity:\\t\\t\", jaccard_similarity(GNOMES[i][0], GNOMES[i][1], base = 'bigram'))\n",
    "    print (\"Jaccard Distance:\\t\\t\", jaccard_distance(GNOMES[i][0], GNOMES[i][1], base = 'bigram'))\n",
    "    print (\"\\n\")\n"
   ]
  },
  {
   "cell_type": "markdown",
   "metadata": {},
   "source": [
    "# Final Stats"
   ]
  },
  {
   "cell_type": "code",
   "execution_count": 7,
   "metadata": {},
   "outputs": [
    {
     "name": "stdout",
     "output_type": "stream",
     "text": [
      "Average Distances on each method:\n",
      "\n",
      "Minimum Edit Distance(word):\t\t 16.4\n",
      "Euclidean Distance(word):\t\t 0.26567622957147086\n",
      "Manhattan Distance(word):\t\t 0.4470588235294118\n",
      "Chebychev Distance(word):\t\t 0.21176470588235294\n",
      "Cosine Distance(word):\t\t\t 0.1279548050387666\n",
      "Jaccard Distance(word):\t\t\t 0.0\n",
      "Jaccard Distance(bigram):\t\t 0.6023391812865497\n",
      "Hamming Distance:\t\t\t 13.0\n"
     ]
    }
   ],
   "source": [
    "print(\"Average Distances on each method:\\n\")\n",
    "\n",
    "count = 5\n",
    "print (\"Minimum Edit Distance(word):\\t\\t\", Distances[\"MED_word\"]/count)\n",
    "print (\"Euclidean Distance(word):\\t\\t\", Distances[\"EUC_word\"]/count)\n",
    "print (\"Manhattan Distance(word):\\t\\t\", Distances[\"MAN_word\"]/count)\n",
    "print (\"Chebychev Distance(word):\\t\\t\", Distances[\"CHB_word\"]/count)\n",
    "print (\"Cosine Distance(word):\\t\\t\\t\", Distances[\"COS_word\"]/count)\n",
    "print (\"Jaccard Distance(word):\\t\\t\\t\", Distances[\"JAC_word\"]/count)\n",
    "print (\"Jaccard Distance(bigram):\\t\\t\", Distances[\"JAC_bigram\"]/count)\n",
    "print (\"Hamming Distance:\\t\\t\\t\", Distances[\"Hamming\"]/count)"
   ]
  },
  {
   "cell_type": "code",
   "execution_count": null,
   "metadata": {},
   "outputs": [],
   "source": []
  },
  {
   "cell_type": "code",
   "execution_count": null,
   "metadata": {},
   "outputs": [],
   "source": []
  }
 ],
 "metadata": {
  "kernelspec": {
   "display_name": "Python 3",
   "language": "python",
   "name": "python3"
  },
  "language_info": {
   "codemirror_mode": {
    "name": "ipython",
    "version": 3
   },
   "file_extension": ".py",
   "mimetype": "text/x-python",
   "name": "python",
   "nbconvert_exporter": "python",
   "pygments_lexer": "ipython3",
   "version": "3.5.2"
  }
 },
 "nbformat": 4,
 "nbformat_minor": 2
}
