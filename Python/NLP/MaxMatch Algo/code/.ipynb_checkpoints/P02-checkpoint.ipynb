{
 "cells": [
  {
   "cell_type": "code",
   "execution_count": 2,
   "metadata": {},
   "outputs": [],
   "source": [
    "import codecs"
   ]
  },
  {
   "cell_type": "markdown",
   "metadata": {},
   "source": [
    "# Reading text file"
   ]
  },
  {
   "cell_type": "code",
   "execution_count": 3,
   "metadata": {},
   "outputs": [],
   "source": [
    "file1 = \"../dataset/P2_text01.txt\"\n",
    "f_words = codecs.open(file1, \"r\", \"utf-8\")"
   ]
  },
  {
   "cell_type": "code",
   "execution_count": 4,
   "metadata": {},
   "outputs": [],
   "source": [
    "text_words = f_words.read()"
   ]
  },
  {
   "cell_type": "markdown",
   "metadata": {},
   "source": [
    "# Tokenization"
   ]
  },
  {
   "cell_type": "code",
   "execution_count": 5,
   "metadata": {},
   "outputs": [],
   "source": [
    "word_tokens = text_words.replace('۔',' ').replace('،',' ').replace(':', ' ').replace(\"'\", ' ').replace('‘',' ').replace('’', ' ').replace('’',' ').replace('؟', ' ').replace('.', ' ').replace('!', ' ').replace('(',' ').replace(')', ' ').replace(':', ' ').replace('\"', ' ').split()"
   ]
  },
  {
   "cell_type": "code",
   "execution_count": 6,
   "metadata": {},
   "outputs": [
    {
     "data": {
      "text/plain": [
       "13673"
      ]
     },
     "execution_count": 6,
     "metadata": {},
     "output_type": "execute_result"
    }
   ],
   "source": [
    "len(word_tokens)"
   ]
  },
  {
   "cell_type": "markdown",
   "metadata": {},
   "source": [
    "# Tokens to Types"
   ]
  },
  {
   "cell_type": "code",
   "execution_count": 7,
   "metadata": {},
   "outputs": [],
   "source": [
    "words_set = set(word_tokens)"
   ]
  },
  {
   "cell_type": "code",
   "execution_count": 8,
   "metadata": {},
   "outputs": [
    {
     "data": {
      "text/plain": [
       "3418"
      ]
     },
     "execution_count": 8,
     "metadata": {},
     "output_type": "execute_result"
    }
   ],
   "source": [
    "len(words_set)"
   ]
  },
  {
   "cell_type": "markdown",
   "metadata": {},
   "source": [
    "# Saving types/words to a file"
   ]
  },
  {
   "cell_type": "markdown",
   "metadata": {},
   "source": [
    "This is just an extra thing, have nothing to do with the actual purpose, i did this just to visualise the list of words."
   ]
  },
  {
   "cell_type": "code",
   "execution_count": 9,
   "metadata": {},
   "outputs": [],
   "source": [
    "file2 = \"../dataset/P2_text01_words.txt\"\n",
    "f_words2 = codecs.open(file2, \"w+\", \"utf-8\")"
   ]
  },
  {
   "cell_type": "code",
   "execution_count": 10,
   "metadata": {},
   "outputs": [],
   "source": [
    "string = ''\n",
    "for i in words_set:\n",
    "    string+=i\n",
    "    string+='\\n'"
   ]
  },
  {
   "cell_type": "code",
   "execution_count": 11,
   "metadata": {},
   "outputs": [],
   "source": [
    "f_words2.write(string)"
   ]
  },
  {
   "cell_type": "markdown",
   "metadata": {},
   "source": [
    "# Functions Definitions"
   ]
  },
  {
   "cell_type": "code",
   "execution_count": 27,
   "metadata": {},
   "outputs": [],
   "source": [
    "def Avg_Words_Size(words_dict):\n",
    "    '''\n",
    "    Input:\n",
    "        words_dict:   The list of words i.e. dictionary\n",
    "    Output:\n",
    "        avg:          The average size of words in words dictionary\n",
    "    '''\n",
    "    \n",
    "    words_list = list(words_dict)\n",
    "    \n",
    "    w_size = [0] * len(words_dict)\n",
    "    \n",
    "    for i in range(0, len(w_size)):\n",
    "        w_size[i] = len(words_list[i])\n",
    "\n",
    "    # print(\"Size:\\t\\t\" + str(len(w_size)))\n",
    "    # print(\"Sum:\\t\\t\" + str(sum(w_size)))\n",
    "    \n",
    "    avg = sum(w_size)/len(words_dict)\n",
    "    \n",
    "    return avg"
   ]
  },
  {
   "cell_type": "markdown",
   "metadata": {},
   "source": [
    "# Using main function"
   ]
  },
  {
   "cell_type": "code",
   "execution_count": 28,
   "metadata": {},
   "outputs": [
    {
     "name": "stdout",
     "output_type": "stream",
     "text": [
      "Average size of words:\t\t 4.520187244002341\n"
     ]
    }
   ],
   "source": [
    "print(\"Average size of words:\\t\\t \" + str(Avg_Words_Size(words_set)))"
   ]
  },
  {
   "cell_type": "code",
   "execution_count": null,
   "metadata": {},
   "outputs": [],
   "source": []
  }
 ],
 "metadata": {
  "kernelspec": {
   "display_name": "Python 3",
   "language": "python",
   "name": "python3"
  },
  "language_info": {
   "codemirror_mode": {
    "name": "ipython",
    "version": 3
   },
   "file_extension": ".py",
   "mimetype": "text/x-python",
   "name": "python",
   "nbconvert_exporter": "python",
   "pygments_lexer": "ipython3",
   "version": "3.5.2"
  }
 },
 "nbformat": 4,
 "nbformat_minor": 2
}
