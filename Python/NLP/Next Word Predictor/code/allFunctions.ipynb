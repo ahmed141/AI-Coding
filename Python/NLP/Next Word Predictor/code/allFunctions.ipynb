{
 "cells": [
  {
   "cell_type": "markdown",
   "metadata": {},
   "source": [
    "## Calculate the probabilities"
   ]
  },
  {
   "cell_type": "code",
   "execution_count": 5,
   "metadata": {},
   "outputs": [],
   "source": [
    "def calculate_unigram_probs(tokens):\n",
    "    train_probs = {}\n",
    "\n",
    "    for i in range(0, len(train_tokens)):\n",
    "        if (train_tokens[i] in list(train_probs.keys())):\n",
    "            train_probs[train_tokens[i]] += 1\n",
    "        else:\n",
    "            train_probs[train_tokens[i]] = 1\n",
    "    \n",
    "    total = sum(list(train_probs.values()))\n",
    "    for i in list(train_probs.keys()):\n",
    "        train_probs[i] = train_probs[i]/total\n",
    "    \n",
    "    out = {\n",
    "        'keys': np.array(list(train_probs.keys())),\n",
    "        'values': np.array(list(train_probs.values()))\n",
    "    }\n",
    "    return out"
   ]
  },
  {
   "cell_type": "code",
   "execution_count": 144,
   "metadata": {},
   "outputs": [],
   "source": [
    "def calculate_bigram_probs(tokens):\n",
    "    bigram = {}\n",
    "    for i in range(0, len(tokens)-1):\n",
    "        if tokens[i] not in list(bigram.keys()):\n",
    "            bigram[tokens[i]] = {}\n",
    "        \n",
    "        if tokens[i+1] not in list(bigram[tokens[i]].keys()):\n",
    "            bigram[tokens[i]][tokens[i+1]] = 1\n",
    "        else:\n",
    "            bigram[tokens[i]][tokens[i+1]] += 1\n",
    "        #print(i+1, tokens[i+1])\n",
    "    \n",
    "    for k in list(bigram.keys()):\n",
    "        temp = np.array(list(bigram[k].values()))\n",
    "        for l in list(bigram[k].keys()):\n",
    "            bigram[k][l] = bigram[k][l] / temp.sum()\n",
    "    \n",
    "    return bigram"
   ]
  },
  {
   "cell_type": "code",
   "execution_count": 85,
   "metadata": {},
   "outputs": [],
   "source": [
    "def calculate_trigram_probs(tokens):\n",
    "    trigram = {}\n",
    "    for i in range(0, len(tokens)-2):\n",
    "        if tokens[i] not in list(trigram.keys()):\n",
    "            trigram[tokens[i]] = {}\n",
    "        \n",
    "        if tokens[i+1] not in list(trigram[tokens[i]].keys()):\n",
    "            trigram[tokens[i]][tokens[i+1]] = {}\n",
    "        \n",
    "        if tokens[i+2] not in list(trigram[tokens[i]][tokens[i+1]].keys()):\n",
    "            trigram[tokens[i]][tokens[i+1]][tokens[i+2]] = 1\n",
    "        else:\n",
    "            trigram[tokens[i]][tokens[i+1]][tokens[i+2]] += 1\n",
    "        #print(i+1, tokens[i+1])\n",
    "    \n",
    "    for k in list(trigram.keys()):\n",
    "        for l in list(trigram[k].keys()):\n",
    "            temp = np.array(list(trigram[k][l].values()))\n",
    "            for m in list(trigram[k][l].keys()):\n",
    "                trigram[k][l][m] = trigram[k][l][m] / temp.sum()\n",
    "    \n",
    "    return trigram"
   ]
  },
  {
   "cell_type": "code",
   "execution_count": null,
   "metadata": {},
   "outputs": [],
   "source": []
  },
  {
   "cell_type": "markdown",
   "metadata": {},
   "source": [
    "## Suggest words"
   ]
  },
  {
   "cell_type": "code",
   "execution_count": 8,
   "metadata": {},
   "outputs": [],
   "source": [
    "def suggest_words_unigram(prob_values, prob_keys, word_, n = 5):\n",
    "    \n",
    "    subchar_indx = np.char.find(prob_keys, word_)\n",
    "    count_ = 0\n",
    "    for i in range(0, subchar_indx.shape[0]):\n",
    "        if (subchar_indx[i] == 0):\n",
    "            count_ += 1\n",
    "    \n",
    "    sub_idx_keys = np.zeros(count_, '<U23')\n",
    "    sub_idx_values = np.zeros(count_, 'float64')\n",
    "    \n",
    "    count_ = 0\n",
    "    for i in range(0, subchar_indx.shape[0]):\n",
    "        if (subchar_indx[i] == 0):\n",
    "            sub_idx_keys[count_] = prob_keys[i]\n",
    "            sub_idx_values[count_] = prob_values[i]\n",
    "            count_ += 1\n",
    "    \n",
    "    temp_probs = np.sort(sub_idx_values)[::-1]\n",
    "    prob_list = list(sub_idx_values)\n",
    "    \n",
    "    if(n < len(temp_probs)):\n",
    "        times = n\n",
    "    else:\n",
    "        times = len(temp_probs)\n",
    "    \n",
    "    out_list = [0]*times\n",
    "    out_indxs = [0]*times\n",
    "    \n",
    "    for i in range(0, times):\n",
    "        out_list[i] = sub_idx_keys[prob_list.index(temp_probs[i])]\n",
    "        out_indxs[i] = prob_list.index(temp_probs[i])\n",
    "    \n",
    "    return out_list"
   ]
  },
  {
   "cell_type": "code",
   "execution_count": 132,
   "metadata": {},
   "outputs": [],
   "source": [
    "def suggest_words_bigram(bigram_probs, word_, n = 5):\n",
    "    \n",
    "    words = word_.split(' ')\n",
    "    words = words[(len(words)-2):(len(words))]\n",
    "    \n",
    "    if(len(words) == 0):\n",
    "        words = [0]*2\n",
    "        words[0] = \"<s>\"\n",
    "        words[1] = \"\"\n",
    "    elif (len(words) == 1):\n",
    "        words.append(\"<s>\")\n",
    "        words.reverse()\n",
    "        #print(words)\n",
    "    #print(words)\n",
    "    \n",
    "    g_split = bigram_probs[words[0]]\n",
    "    \n",
    "    out_list = suggest_words_unigram(np.array(list(g_split.values())), np.array(list(g_split.keys())), words[1], n)\n",
    "    \n",
    "    return out_list"
   ]
  },
  {
   "cell_type": "code",
   "execution_count": 89,
   "metadata": {},
   "outputs": [],
   "source": [
    "def suggest_words_trigram(trigram_probs, word_, n = 5):\n",
    "    \n",
    "    words = word_.split(' ')\n",
    "    \n",
    "    if (len(words) <= 2):\n",
    "        start = 0\n",
    "        end = len(words)\n",
    "    else:\n",
    "        start = len(words)-3\n",
    "        end = len(words)\n",
    "        \n",
    "    words = words[start:end]\n",
    "    #print(words)\n",
    "    \n",
    "    if (len(words) == 0):\n",
    "        words = [0]*3\n",
    "        words[0] = \"<s>\"\n",
    "        words[1] = \"<s>\"\n",
    "        words[2] = \"\"\n",
    "    elif (len(words) == 1):\n",
    "        words.append(\"<s>\")\n",
    "        words.append(\"<s>\")\n",
    "        words.reverse()\n",
    "    elif (len(words) == 2):\n",
    "        new = [0]*3\n",
    "        new[0] = \"<s>\"\n",
    "        new[1] = words[0]\n",
    "        new[2] = words[1]\n",
    "        words = new\n",
    "    \n",
    "    #print(words)\n",
    "    g_split = trigram_probs[words[0]][words[1]]\n",
    "    \n",
    "    out_list = suggest_words_unigram(np.array(list(g_split.values())), np.array(list(g_split.keys())), words[2], n)\n",
    "    \n",
    "    return out_list"
   ]
  },
  {
   "cell_type": "code",
   "execution_count": null,
   "metadata": {},
   "outputs": [],
   "source": []
  }
 ],
 "metadata": {
  "kernelspec": {
   "display_name": "Python 3",
   "language": "python",
   "name": "python3"
  },
  "language_info": {
   "codemirror_mode": {
    "name": "ipython",
    "version": 3
   },
   "file_extension": ".py",
   "mimetype": "text/x-python",
   "name": "python",
   "nbconvert_exporter": "python",
   "pygments_lexer": "ipython3",
   "version": "3.5.2"
  }
 },
 "nbformat": 4,
 "nbformat_minor": 2
}
